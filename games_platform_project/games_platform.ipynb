{
  "cells": [
    {
      "cell_type": "markdown",
      "metadata": {
        "id": "xxopYystmr10"
      },
      "source": [
        "## Открываем файл с данныими и изучаем общую информацию"
      ]
    },
    {
      "cell_type": "code",
      "execution_count": 1,
      "metadata": {
        "id": "t3p73IcUmr11"
      },
      "outputs": [],
      "source": [
        "import pandas as pd\n",
        "import matplotlib.pyplot as plt\n",
        "from scipy import stats as st"
      ]
    },
    {
      "cell_type": "code",
      "execution_count": 2,
      "metadata": {
        "id": "5nglcrFamr14"
      },
      "outputs": [],
      "source": [
        "games = pd.read_csv('https://code.s3.yandex.net/datasets/games.csv')"
      ]
    },
    {
      "cell_type": "code",
      "execution_count": 3,
      "metadata": {
        "colab": {
          "base_uri": "https://localhost:8080/",
          "height": 1000
        },
        "id": "Ej7iqDpGmr15",
        "outputId": "4d599fff-7d1c-4073-f6b4-0f99a20b507f"
      },
      "outputs": [
        {
          "output_type": "stream",
          "name": "stdout",
          "text": [
            "Дубликатов:  0\n",
            "\n",
            "<class 'pandas.core.frame.DataFrame'>\n",
            "RangeIndex: 16715 entries, 0 to 16714\n",
            "Data columns (total 11 columns):\n",
            " #   Column           Non-Null Count  Dtype  \n",
            "---  ------           --------------  -----  \n",
            " 0   Name             16713 non-null  object \n",
            " 1   Platform         16715 non-null  object \n",
            " 2   Year_of_Release  16446 non-null  float64\n",
            " 3   Genre            16713 non-null  object \n",
            " 4   NA_sales         16715 non-null  float64\n",
            " 5   EU_sales         16715 non-null  float64\n",
            " 6   JP_sales         16715 non-null  float64\n",
            " 7   Other_sales      16715 non-null  float64\n",
            " 8   Critic_Score     8137 non-null   float64\n",
            " 9   User_Score       10014 non-null  object \n",
            " 10  Rating           9949 non-null   object \n",
            "dtypes: float64(6), object(5)\n",
            "memory usage: 1.4+ MB\n"
          ]
        },
        {
          "output_type": "display_data",
          "data": {
            "text/plain": [
              "                Name Platform  Year_of_Release     Genre  NA_sales  EU_sales  \\\n",
              "0         Wii Sports      Wii           2006.0    Sports     41.36     28.96   \n",
              "1  Super Mario Bros.      NES           1985.0  Platform     29.08      3.58   \n",
              "2     Mario Kart Wii      Wii           2008.0    Racing     15.68     12.76   \n",
              "\n",
              "   JP_sales  Other_sales  Critic_Score User_Score Rating  \n",
              "0      3.77         8.45          76.0          8      E  \n",
              "1      6.81         0.77           NaN        NaN    NaN  \n",
              "2      3.79         3.29          82.0        8.3      E  "
            ],
            "text/html": [
              "\n",
              "  <div id=\"df-61a1239b-e1e5-4dd9-90f3-2d335dfde4c3\">\n",
              "    <div class=\"colab-df-container\">\n",
              "      <div>\n",
              "<style scoped>\n",
              "    .dataframe tbody tr th:only-of-type {\n",
              "        vertical-align: middle;\n",
              "    }\n",
              "\n",
              "    .dataframe tbody tr th {\n",
              "        vertical-align: top;\n",
              "    }\n",
              "\n",
              "    .dataframe thead th {\n",
              "        text-align: right;\n",
              "    }\n",
              "</style>\n",
              "<table border=\"1\" class=\"dataframe\">\n",
              "  <thead>\n",
              "    <tr style=\"text-align: right;\">\n",
              "      <th></th>\n",
              "      <th>Name</th>\n",
              "      <th>Platform</th>\n",
              "      <th>Year_of_Release</th>\n",
              "      <th>Genre</th>\n",
              "      <th>NA_sales</th>\n",
              "      <th>EU_sales</th>\n",
              "      <th>JP_sales</th>\n",
              "      <th>Other_sales</th>\n",
              "      <th>Critic_Score</th>\n",
              "      <th>User_Score</th>\n",
              "      <th>Rating</th>\n",
              "    </tr>\n",
              "  </thead>\n",
              "  <tbody>\n",
              "    <tr>\n",
              "      <th>0</th>\n",
              "      <td>Wii Sports</td>\n",
              "      <td>Wii</td>\n",
              "      <td>2006.0</td>\n",
              "      <td>Sports</td>\n",
              "      <td>41.36</td>\n",
              "      <td>28.96</td>\n",
              "      <td>3.77</td>\n",
              "      <td>8.45</td>\n",
              "      <td>76.0</td>\n",
              "      <td>8</td>\n",
              "      <td>E</td>\n",
              "    </tr>\n",
              "    <tr>\n",
              "      <th>1</th>\n",
              "      <td>Super Mario Bros.</td>\n",
              "      <td>NES</td>\n",
              "      <td>1985.0</td>\n",
              "      <td>Platform</td>\n",
              "      <td>29.08</td>\n",
              "      <td>3.58</td>\n",
              "      <td>6.81</td>\n",
              "      <td>0.77</td>\n",
              "      <td>NaN</td>\n",
              "      <td>NaN</td>\n",
              "      <td>NaN</td>\n",
              "    </tr>\n",
              "    <tr>\n",
              "      <th>2</th>\n",
              "      <td>Mario Kart Wii</td>\n",
              "      <td>Wii</td>\n",
              "      <td>2008.0</td>\n",
              "      <td>Racing</td>\n",
              "      <td>15.68</td>\n",
              "      <td>12.76</td>\n",
              "      <td>3.79</td>\n",
              "      <td>3.29</td>\n",
              "      <td>82.0</td>\n",
              "      <td>8.3</td>\n",
              "      <td>E</td>\n",
              "    </tr>\n",
              "  </tbody>\n",
              "</table>\n",
              "</div>\n",
              "      <button class=\"colab-df-convert\" onclick=\"convertToInteractive('df-61a1239b-e1e5-4dd9-90f3-2d335dfde4c3')\"\n",
              "              title=\"Convert this dataframe to an interactive table.\"\n",
              "              style=\"display:none;\">\n",
              "        \n",
              "  <svg xmlns=\"http://www.w3.org/2000/svg\" height=\"24px\"viewBox=\"0 0 24 24\"\n",
              "       width=\"24px\">\n",
              "    <path d=\"M0 0h24v24H0V0z\" fill=\"none\"/>\n",
              "    <path d=\"M18.56 5.44l.94 2.06.94-2.06 2.06-.94-2.06-.94-.94-2.06-.94 2.06-2.06.94zm-11 1L8.5 8.5l.94-2.06 2.06-.94-2.06-.94L8.5 2.5l-.94 2.06-2.06.94zm10 10l.94 2.06.94-2.06 2.06-.94-2.06-.94-.94-2.06-.94 2.06-2.06.94z\"/><path d=\"M17.41 7.96l-1.37-1.37c-.4-.4-.92-.59-1.43-.59-.52 0-1.04.2-1.43.59L10.3 9.45l-7.72 7.72c-.78.78-.78 2.05 0 2.83L4 21.41c.39.39.9.59 1.41.59.51 0 1.02-.2 1.41-.59l7.78-7.78 2.81-2.81c.8-.78.8-2.07 0-2.86zM5.41 20L4 18.59l7.72-7.72 1.47 1.35L5.41 20z\"/>\n",
              "  </svg>\n",
              "      </button>\n",
              "      \n",
              "  <style>\n",
              "    .colab-df-container {\n",
              "      display:flex;\n",
              "      flex-wrap:wrap;\n",
              "      gap: 12px;\n",
              "    }\n",
              "\n",
              "    .colab-df-convert {\n",
              "      background-color: #E8F0FE;\n",
              "      border: none;\n",
              "      border-radius: 50%;\n",
              "      cursor: pointer;\n",
              "      display: none;\n",
              "      fill: #1967D2;\n",
              "      height: 32px;\n",
              "      padding: 0 0 0 0;\n",
              "      width: 32px;\n",
              "    }\n",
              "\n",
              "    .colab-df-convert:hover {\n",
              "      background-color: #E2EBFA;\n",
              "      box-shadow: 0px 1px 2px rgba(60, 64, 67, 0.3), 0px 1px 3px 1px rgba(60, 64, 67, 0.15);\n",
              "      fill: #174EA6;\n",
              "    }\n",
              "\n",
              "    [theme=dark] .colab-df-convert {\n",
              "      background-color: #3B4455;\n",
              "      fill: #D2E3FC;\n",
              "    }\n",
              "\n",
              "    [theme=dark] .colab-df-convert:hover {\n",
              "      background-color: #434B5C;\n",
              "      box-shadow: 0px 1px 3px 1px rgba(0, 0, 0, 0.15);\n",
              "      filter: drop-shadow(0px 1px 2px rgba(0, 0, 0, 0.3));\n",
              "      fill: #FFFFFF;\n",
              "    }\n",
              "  </style>\n",
              "\n",
              "      <script>\n",
              "        const buttonEl =\n",
              "          document.querySelector('#df-61a1239b-e1e5-4dd9-90f3-2d335dfde4c3 button.colab-df-convert');\n",
              "        buttonEl.style.display =\n",
              "          google.colab.kernel.accessAllowed ? 'block' : 'none';\n",
              "\n",
              "        async function convertToInteractive(key) {\n",
              "          const element = document.querySelector('#df-61a1239b-e1e5-4dd9-90f3-2d335dfde4c3');\n",
              "          const dataTable =\n",
              "            await google.colab.kernel.invokeFunction('convertToInteractive',\n",
              "                                                     [key], {});\n",
              "          if (!dataTable) return;\n",
              "\n",
              "          const docLinkHtml = 'Like what you see? Visit the ' +\n",
              "            '<a target=\"_blank\" href=https://colab.research.google.com/notebooks/data_table.ipynb>data table notebook</a>'\n",
              "            + ' to learn more about interactive tables.';\n",
              "          element.innerHTML = '';\n",
              "          dataTable['output_type'] = 'display_data';\n",
              "          await google.colab.output.renderOutput(dataTable, element);\n",
              "          const docLink = document.createElement('div');\n",
              "          docLink.innerHTML = docLinkHtml;\n",
              "          element.appendChild(docLink);\n",
              "        }\n",
              "      </script>\n",
              "    </div>\n",
              "  </div>\n",
              "  "
            ]
          },
          "metadata": {}
        },
        {
          "output_type": "display_data",
          "data": {
            "text/plain": [
              "       Year_of_Release      NA_sales      EU_sales      JP_sales  \\\n",
              "count     16446.000000  16715.000000  16715.000000  16715.000000   \n",
              "mean       2006.484616      0.263377      0.145060      0.077617   \n",
              "std           5.877050      0.813604      0.503339      0.308853   \n",
              "min        1980.000000      0.000000      0.000000      0.000000   \n",
              "25%        2003.000000      0.000000      0.000000      0.000000   \n",
              "50%        2007.000000      0.080000      0.020000      0.000000   \n",
              "75%        2010.000000      0.240000      0.110000      0.040000   \n",
              "max        2016.000000     41.360000     28.960000     10.220000   \n",
              "\n",
              "        Other_sales  Critic_Score  \n",
              "count  16715.000000   8137.000000  \n",
              "mean       0.047342     68.967679  \n",
              "std        0.186731     13.938165  \n",
              "min        0.000000     13.000000  \n",
              "25%        0.000000     60.000000  \n",
              "50%        0.010000     71.000000  \n",
              "75%        0.030000     79.000000  \n",
              "max       10.570000     98.000000  "
            ],
            "text/html": [
              "\n",
              "  <div id=\"df-b7dc2733-b147-4c62-877d-d8169762a398\">\n",
              "    <div class=\"colab-df-container\">\n",
              "      <div>\n",
              "<style scoped>\n",
              "    .dataframe tbody tr th:only-of-type {\n",
              "        vertical-align: middle;\n",
              "    }\n",
              "\n",
              "    .dataframe tbody tr th {\n",
              "        vertical-align: top;\n",
              "    }\n",
              "\n",
              "    .dataframe thead th {\n",
              "        text-align: right;\n",
              "    }\n",
              "</style>\n",
              "<table border=\"1\" class=\"dataframe\">\n",
              "  <thead>\n",
              "    <tr style=\"text-align: right;\">\n",
              "      <th></th>\n",
              "      <th>Year_of_Release</th>\n",
              "      <th>NA_sales</th>\n",
              "      <th>EU_sales</th>\n",
              "      <th>JP_sales</th>\n",
              "      <th>Other_sales</th>\n",
              "      <th>Critic_Score</th>\n",
              "    </tr>\n",
              "  </thead>\n",
              "  <tbody>\n",
              "    <tr>\n",
              "      <th>count</th>\n",
              "      <td>16446.000000</td>\n",
              "      <td>16715.000000</td>\n",
              "      <td>16715.000000</td>\n",
              "      <td>16715.000000</td>\n",
              "      <td>16715.000000</td>\n",
              "      <td>8137.000000</td>\n",
              "    </tr>\n",
              "    <tr>\n",
              "      <th>mean</th>\n",
              "      <td>2006.484616</td>\n",
              "      <td>0.263377</td>\n",
              "      <td>0.145060</td>\n",
              "      <td>0.077617</td>\n",
              "      <td>0.047342</td>\n",
              "      <td>68.967679</td>\n",
              "    </tr>\n",
              "    <tr>\n",
              "      <th>std</th>\n",
              "      <td>5.877050</td>\n",
              "      <td>0.813604</td>\n",
              "      <td>0.503339</td>\n",
              "      <td>0.308853</td>\n",
              "      <td>0.186731</td>\n",
              "      <td>13.938165</td>\n",
              "    </tr>\n",
              "    <tr>\n",
              "      <th>min</th>\n",
              "      <td>1980.000000</td>\n",
              "      <td>0.000000</td>\n",
              "      <td>0.000000</td>\n",
              "      <td>0.000000</td>\n",
              "      <td>0.000000</td>\n",
              "      <td>13.000000</td>\n",
              "    </tr>\n",
              "    <tr>\n",
              "      <th>25%</th>\n",
              "      <td>2003.000000</td>\n",
              "      <td>0.000000</td>\n",
              "      <td>0.000000</td>\n",
              "      <td>0.000000</td>\n",
              "      <td>0.000000</td>\n",
              "      <td>60.000000</td>\n",
              "    </tr>\n",
              "    <tr>\n",
              "      <th>50%</th>\n",
              "      <td>2007.000000</td>\n",
              "      <td>0.080000</td>\n",
              "      <td>0.020000</td>\n",
              "      <td>0.000000</td>\n",
              "      <td>0.010000</td>\n",
              "      <td>71.000000</td>\n",
              "    </tr>\n",
              "    <tr>\n",
              "      <th>75%</th>\n",
              "      <td>2010.000000</td>\n",
              "      <td>0.240000</td>\n",
              "      <td>0.110000</td>\n",
              "      <td>0.040000</td>\n",
              "      <td>0.030000</td>\n",
              "      <td>79.000000</td>\n",
              "    </tr>\n",
              "    <tr>\n",
              "      <th>max</th>\n",
              "      <td>2016.000000</td>\n",
              "      <td>41.360000</td>\n",
              "      <td>28.960000</td>\n",
              "      <td>10.220000</td>\n",
              "      <td>10.570000</td>\n",
              "      <td>98.000000</td>\n",
              "    </tr>\n",
              "  </tbody>\n",
              "</table>\n",
              "</div>\n",
              "      <button class=\"colab-df-convert\" onclick=\"convertToInteractive('df-b7dc2733-b147-4c62-877d-d8169762a398')\"\n",
              "              title=\"Convert this dataframe to an interactive table.\"\n",
              "              style=\"display:none;\">\n",
              "        \n",
              "  <svg xmlns=\"http://www.w3.org/2000/svg\" height=\"24px\"viewBox=\"0 0 24 24\"\n",
              "       width=\"24px\">\n",
              "    <path d=\"M0 0h24v24H0V0z\" fill=\"none\"/>\n",
              "    <path d=\"M18.56 5.44l.94 2.06.94-2.06 2.06-.94-2.06-.94-.94-2.06-.94 2.06-2.06.94zm-11 1L8.5 8.5l.94-2.06 2.06-.94-2.06-.94L8.5 2.5l-.94 2.06-2.06.94zm10 10l.94 2.06.94-2.06 2.06-.94-2.06-.94-.94-2.06-.94 2.06-2.06.94z\"/><path d=\"M17.41 7.96l-1.37-1.37c-.4-.4-.92-.59-1.43-.59-.52 0-1.04.2-1.43.59L10.3 9.45l-7.72 7.72c-.78.78-.78 2.05 0 2.83L4 21.41c.39.39.9.59 1.41.59.51 0 1.02-.2 1.41-.59l7.78-7.78 2.81-2.81c.8-.78.8-2.07 0-2.86zM5.41 20L4 18.59l7.72-7.72 1.47 1.35L5.41 20z\"/>\n",
              "  </svg>\n",
              "      </button>\n",
              "      \n",
              "  <style>\n",
              "    .colab-df-container {\n",
              "      display:flex;\n",
              "      flex-wrap:wrap;\n",
              "      gap: 12px;\n",
              "    }\n",
              "\n",
              "    .colab-df-convert {\n",
              "      background-color: #E8F0FE;\n",
              "      border: none;\n",
              "      border-radius: 50%;\n",
              "      cursor: pointer;\n",
              "      display: none;\n",
              "      fill: #1967D2;\n",
              "      height: 32px;\n",
              "      padding: 0 0 0 0;\n",
              "      width: 32px;\n",
              "    }\n",
              "\n",
              "    .colab-df-convert:hover {\n",
              "      background-color: #E2EBFA;\n",
              "      box-shadow: 0px 1px 2px rgba(60, 64, 67, 0.3), 0px 1px 3px 1px rgba(60, 64, 67, 0.15);\n",
              "      fill: #174EA6;\n",
              "    }\n",
              "\n",
              "    [theme=dark] .colab-df-convert {\n",
              "      background-color: #3B4455;\n",
              "      fill: #D2E3FC;\n",
              "    }\n",
              "\n",
              "    [theme=dark] .colab-df-convert:hover {\n",
              "      background-color: #434B5C;\n",
              "      box-shadow: 0px 1px 3px 1px rgba(0, 0, 0, 0.15);\n",
              "      filter: drop-shadow(0px 1px 2px rgba(0, 0, 0, 0.3));\n",
              "      fill: #FFFFFF;\n",
              "    }\n",
              "  </style>\n",
              "\n",
              "      <script>\n",
              "        const buttonEl =\n",
              "          document.querySelector('#df-b7dc2733-b147-4c62-877d-d8169762a398 button.colab-df-convert');\n",
              "        buttonEl.style.display =\n",
              "          google.colab.kernel.accessAllowed ? 'block' : 'none';\n",
              "\n",
              "        async function convertToInteractive(key) {\n",
              "          const element = document.querySelector('#df-b7dc2733-b147-4c62-877d-d8169762a398');\n",
              "          const dataTable =\n",
              "            await google.colab.kernel.invokeFunction('convertToInteractive',\n",
              "                                                     [key], {});\n",
              "          if (!dataTable) return;\n",
              "\n",
              "          const docLinkHtml = 'Like what you see? Visit the ' +\n",
              "            '<a target=\"_blank\" href=https://colab.research.google.com/notebooks/data_table.ipynb>data table notebook</a>'\n",
              "            + ' to learn more about interactive tables.';\n",
              "          element.innerHTML = '';\n",
              "          dataTable['output_type'] = 'display_data';\n",
              "          await google.colab.output.renderOutput(dataTable, element);\n",
              "          const docLink = document.createElement('div');\n",
              "          docLink.innerHTML = docLinkHtml;\n",
              "          element.appendChild(docLink);\n",
              "        }\n",
              "      </script>\n",
              "    </div>\n",
              "  </div>\n",
              "  "
            ]
          },
          "metadata": {}
        },
        {
          "output_type": "execute_result",
          "data": {
            "text/plain": [
              "Name                  2\n",
              "Platform              0\n",
              "Year_of_Release     269\n",
              "Genre                 2\n",
              "NA_sales              0\n",
              "EU_sales              0\n",
              "JP_sales              0\n",
              "Other_sales           0\n",
              "Critic_Score       8578\n",
              "User_Score         6701\n",
              "Rating             6766\n",
              "dtype: int64"
            ]
          },
          "metadata": {},
          "execution_count": 3
        },
        {
          "output_type": "display_data",
          "data": {
            "text/plain": [
              "<Figure size 1000x1000 with 6 Axes>"
            ],
            "image/png": "[encoded data removed]"
          },
          "metadata": {}
        }
      ],
      "source": [
        "print('Дубликатов: ',sum(games.duplicated()))\n",
        "print()\n",
        "games.info()\n",
        "display(games.head(3))\n",
        "display(games.describe())\n",
        "games.hist(figsize=(10, 10));\n",
        "games.isna().sum()\n"
      ]
    },
    {
      "cell_type": "code",
      "execution_count": 4,
      "metadata": {
        "id": "2Kg027Fmmr16"
      },
      "outputs": [],
      "source": [
        "old_games = games.copy()"
      ]
    },
    {
      "cell_type": "markdown",
      "metadata": {
        "id": "5SVkX7Ikmr18"
      },
      "source": [
        "## Предобработка данных"
      ]
    },
    {
      "cell_type": "code",
      "execution_count": 5,
      "metadata": {
        "colab": {
          "base_uri": "https://localhost:8080/",
          "height": 49
        },
        "id": "oY32RYwGmr18",
        "outputId": "425f93db-68d6-4865-e8ce-9dc9222e8f69"
      },
      "outputs": [
        {
          "output_type": "execute_result",
          "data": {
            "text/plain": [
              "Empty DataFrame\n",
              "Columns: [name, platform, year_of_release, genre, na_sales, eu_sales, jp_sales, other_sales, critic_score, user_score, rating]\n",
              "Index: []"
            ],
            "text/html": [
              "\n",
              "  <div id=\"df-68862e05-f95d-4a0e-83ef-1e99db28e564\">\n",
              "    <div class=\"colab-df-container\">\n",
              "      <div>\n",
              "<style scoped>\n",
              "    .dataframe tbody tr th:only-of-type {\n",
              "        vertical-align: middle;\n",
              "    }\n",
              "\n",
              "    .dataframe tbody tr th {\n",
              "        vertical-align: top;\n",
              "    }\n",
              "\n",
              "    .dataframe thead th {\n",
              "        text-align: right;\n",
              "    }\n",
              "</style>\n",
              "<table border=\"1\" class=\"dataframe\">\n",
              "  <thead>\n",
              "    <tr style=\"text-align: right;\">\n",
              "      <th></th>\n",
              "      <th>name</th>\n",
              "      <th>platform</th>\n",
              "      <th>year_of_release</th>\n",
              "      <th>genre</th>\n",
              "      <th>na_sales</th>\n",
              "      <th>eu_sales</th>\n",
              "      <th>jp_sales</th>\n",
              "      <th>other_sales</th>\n",
              "      <th>critic_score</th>\n",
              "      <th>user_score</th>\n",
              "      <th>rating</th>\n",
              "    </tr>\n",
              "  </thead>\n",
              "  <tbody>\n",
              "  </tbody>\n",
              "</table>\n",
              "</div>\n",
              "      <button class=\"colab-df-convert\" onclick=\"convertToInteractive('df-68862e05-f95d-4a0e-83ef-1e99db28e564')\"\n",
              "              title=\"Convert this dataframe to an interactive table.\"\n",
              "              style=\"display:none;\">\n",
              "        \n",
              "  <svg xmlns=\"http://www.w3.org/2000/svg\" height=\"24px\"viewBox=\"0 0 24 24\"\n",
              "       width=\"24px\">\n",
              "    <path d=\"M0 0h24v24H0V0z\" fill=\"none\"/>\n",
              "    <path d=\"M18.56 5.44l.94 2.06.94-2.06 2.06-.94-2.06-.94-.94-2.06-.94 2.06-2.06.94zm-11 1L8.5 8.5l.94-2.06 2.06-.94-2.06-.94L8.5 2.5l-.94 2.06-2.06.94zm10 10l.94 2.06.94-2.06 2.06-.94-2.06-.94-.94-2.06-.94 2.06-2.06.94z\"/><path d=\"M17.41 7.96l-1.37-1.37c-.4-.4-.92-.59-1.43-.59-.52 0-1.04.2-1.43.59L10.3 9.45l-7.72 7.72c-.78.78-.78 2.05 0 2.83L4 21.41c.39.39.9.59 1.41.59.51 0 1.02-.2 1.41-.59l7.78-7.78 2.81-2.81c.8-.78.8-2.07 0-2.86zM5.41 20L4 18.59l7.72-7.72 1.47 1.35L5.41 20z\"/>\n",
              "  </svg>\n",
              "      </button>\n",
              "      \n",
              "  <style>\n",
              "    .colab-df-container {\n",
              "      display:flex;\n",
              "      flex-wrap:wrap;\n",
              "      gap: 12px;\n",
              "    }\n",
              "\n",
              "    .colab-df-convert {\n",
              "      background-color: #E8F0FE;\n",
              "      border: none;\n",
              "      border-radius: 50%;\n",
              "      cursor: pointer;\n",
              "      display: none;\n",
              "      fill: #1967D2;\n",
              "      height: 32px;\n",
              "      padding: 0 0 0 0;\n",
              "      width: 32px;\n",
              "    }\n",
              "\n",
              "    .colab-df-convert:hover {\n",
              "      background-color: #E2EBFA;\n",
              "      box-shadow: 0px 1px 2px rgba(60, 64, 67, 0.3), 0px 1px 3px 1px rgba(60, 64, 67, 0.15);\n",
              "      fill: #174EA6;\n",
              "    }\n",
              "\n",
              "    [theme=dark] .colab-df-convert {\n",
              "      background-color: #3B4455;\n",
              "      fill: #D2E3FC;\n",
              "    }\n",
              "\n",
              "    [theme=dark] .colab-df-convert:hover {\n",
              "      background-color: #434B5C;\n",
              "      box-shadow: 0px 1px 3px 1px rgba(0, 0, 0, 0.15);\n",
              "      filter: drop-shadow(0px 1px 2px rgba(0, 0, 0, 0.3));\n",
              "      fill: #FFFFFF;\n",
              "    }\n",
              "  </style>\n",
              "\n",
              "      <script>\n",
              "        const buttonEl =\n",
              "          document.querySelector('#df-68862e05-f95d-4a0e-83ef-1e99db28e564 button.colab-df-convert');\n",
              "        buttonEl.style.display =\n",
              "          google.colab.kernel.accessAllowed ? 'block' : 'none';\n",
              "\n",
              "        async function convertToInteractive(key) {\n",
              "          const element = document.querySelector('#df-68862e05-f95d-4a0e-83ef-1e99db28e564');\n",
              "          const dataTable =\n",
              "            await google.colab.kernel.invokeFunction('convertToInteractive',\n",
              "                                                     [key], {});\n",
              "          if (!dataTable) return;\n",
              "\n",
              "          const docLinkHtml = 'Like what you see? Visit the ' +\n",
              "            '<a target=\"_blank\" href=https://colab.research.google.com/notebooks/data_table.ipynb>data table notebook</a>'\n",
              "            + ' to learn more about interactive tables.';\n",
              "          element.innerHTML = '';\n",
              "          dataTable['output_type'] = 'display_data';\n",
              "          await google.colab.output.renderOutput(dataTable, element);\n",
              "          const docLink = document.createElement('div');\n",
              "          docLink.innerHTML = docLinkHtml;\n",
              "          element.appendChild(docLink);\n",
              "        }\n",
              "      </script>\n",
              "    </div>\n",
              "  </div>\n",
              "  "
            ]
          },
          "metadata": {},
          "execution_count": 5
        }
      ],
      "source": [
        "games.columns = map(str.lower, games.columns)\n",
        "games.head(0)"
      ]
    },
    {
      "cell_type": "code",
      "execution_count": 6,
      "metadata": {
        "colab": {
          "base_uri": "https://localhost:8080/",
          "height": 430
        },
        "id": "rbUpiPdimr19",
        "outputId": "c3b40683-48e4-447f-d53d-6fba242d7c38"
      },
      "outputs": [
        {
          "output_type": "display_data",
          "data": {
            "text/plain": [
              "<Figure size 640x480 with 1 Axes>"
            ],
            "image/png": "[encoded data removed]"
          },
          "metadata": {}
        }
      ],
      "source": [
        "games['year_of_release'].hist(bins=20);\n"
      ]
    },
    {
      "cell_type": "code",
      "execution_count": 7,
      "metadata": {
        "colab": {
          "base_uri": "https://localhost:8080/"
        },
        "id": "-S39rEQVmr19",
        "outputId": "d12ca410-0a95-492c-d57c-5301b146f4fb"
      },
      "outputs": [
        {
          "output_type": "execute_result",
          "data": {
            "text/plain": [
              "array(['8', nan, '8.3', '8.5', '6.6', '8.4', '8.6', '7.7', '6.3', '7.4',\n",
              "       '8.2', '9', '7.9', '8.1', '8.7', '7.1', '3.4', '5.3', '4.8', '3.2',\n",
              "       '8.9', '6.4', '7.8', '7.5', '2.6', '7.2', '9.2', '7', '7.3', '4.3',\n",
              "       '7.6', '5.7', '5', '9.1', '6.5', 'tbd', '8.8', '6.9', '9.4', '6.8',\n",
              "       '6.1', '6.7', '5.4', '4', '4.9', '4.5', '9.3', '6.2', '4.2', '6',\n",
              "       '3.7', '4.1', '5.8', '5.6', '5.5', '4.4', '4.6', '5.9', '3.9',\n",
              "       '3.1', '2.9', '5.2', '3.3', '4.7', '5.1', '3.5', '2.5', '1.9', '3',\n",
              "       '2.7', '2.2', '2', '9.5', '2.1', '3.6', '2.8', '1.8', '3.8', '0',\n",
              "       '1.6', '9.6', '2.4', '1.7', '1.1', '0.3', '1.5', '0.7', '1.2',\n",
              "       '2.3', '0.5', '1.3', '0.2', '0.6', '1.4', '0.9', '1', '9.7'],\n",
              "      dtype=object)"
            ]
          },
          "metadata": {},
          "execution_count": 7
        }
      ],
      "source": [
        "games['user_score'].unique()\n"
      ]
    },
    {
      "cell_type": "code",
      "execution_count": 8,
      "metadata": {
        "colab": {
          "base_uri": "https://localhost:8080/"
        },
        "id": "YW1ovFw8mr19",
        "outputId": "31c1bbee-bb36-457b-a1ae-ad990cd35558"
      },
      "outputs": [
        {
          "output_type": "execute_result",
          "data": {
            "text/plain": [
              "array([8. , nan, 8.3, 8.5, 6.6, 8.4, 8.6, 7.7, 6.3, 7.4, 8.2, 9. , 7.9,\n",
              "       8.1, 8.7, 7.1, 3.4, 5.3, 4.8, 3.2, 8.9, 6.4, 7.8, 7.5, 2.6, 7.2,\n",
              "       9.2, 7. , 7.3, 4.3, 7.6, 5.7, 5. , 9.1, 6.5, 8.8, 6.9, 9.4, 6.8,\n",
              "       6.1, 6.7, 5.4, 4. , 4.9, 4.5, 9.3, 6.2, 4.2, 6. , 3.7, 4.1, 5.8,\n",
              "       5.6, 5.5, 4.4, 4.6, 5.9, 3.9, 3.1, 2.9, 5.2, 3.3, 4.7, 5.1, 3.5,\n",
              "       2.5, 1.9, 3. , 2.7, 2.2, 2. , 9.5, 2.1, 3.6, 2.8, 1.8, 3.8, 0. ,\n",
              "       1.6, 9.6, 2.4, 1.7, 1.1, 0.3, 1.5, 0.7, 1.2, 2.3, 0.5, 1.3, 0.2,\n",
              "       0.6, 1.4, 0.9, 1. , 9.7])"
            ]
          },
          "metadata": {},
          "execution_count": 8
        }
      ],
      "source": [
        "games['user_score'] = games['user_score'].str.replace('tbd','nan')\n",
        "games['user_score'] = games['user_score'].astype(float)\n",
        "games['user_score'].unique()"
      ]
    },
    {
      "cell_type": "code",
      "execution_count": 9,
      "metadata": {
        "id": "gVIOUFDImr1-"
      },
      "outputs": [],
      "source": [
        "games['rating'] = games['rating'].fillna('unknown')"
      ]
    },
    {
      "cell_type": "code",
      "execution_count": 10,
      "metadata": {
        "colab": {
          "base_uri": "https://localhost:8080/"
        },
        "id": "TI3msoJRmr1-",
        "outputId": "b2eb6ad4-ac5e-4973-cf2e-78aa15cef84f"
      },
      "outputs": [
        {
          "output_type": "execute_result",
          "data": {
            "text/plain": [
              "rating\n",
              "AO            1\n",
              "E          3990\n",
              "E10+       1420\n",
              "EC            8\n",
              "K-A           3\n",
              "M          1563\n",
              "RP            3\n",
              "T          2961\n",
              "unknown    6766\n",
              "Name: rating, dtype: int64"
            ]
          },
          "metadata": {},
          "execution_count": 10
        }
      ],
      "source": [
        "games.groupby('rating')['rating'].count()"
      ]
    },
    {
      "cell_type": "code",
      "execution_count": 11,
      "metadata": {
        "id": "KslSOtHbmr1_"
      },
      "outputs": [],
      "source": [
        "games['rating'] = games['rating'].str.replace('AO','M')\n",
        "games['rating'] = games['rating'].str.replace('EC','E')\n",
        "games['rating'] = games['rating'].str.replace('K-A','E')\n",
        "games['rating'] = games['rating'].str.replace('RP','uncnown')"
      ]
    },
    {
      "cell_type": "code",
      "execution_count": 12,
      "metadata": {
        "id": "Bcf3UuF9mr1_"
      },
      "outputs": [],
      "source": [
        "games = games.dropna(subset=['year_of_release'])"
      ]
    },
    {
      "cell_type": "code",
      "execution_count": 13,
      "metadata": {
        "colab": {
          "base_uri": "https://localhost:8080/"
        },
        "id": "w0NMKpszmr2A",
        "outputId": "7d088003-1c1d-4d39-85f5-d33521a4bf61"
      },
      "outputs": [
        {
          "output_type": "stream",
          "name": "stdout",
          "text": [
            "<class 'pandas.core.frame.DataFrame'>\n",
            "Int64Index: 16446 entries, 0 to 16714\n",
            "Data columns (total 11 columns):\n",
            " #   Column           Non-Null Count  Dtype  \n",
            "---  ------           --------------  -----  \n",
            " 0   name             16444 non-null  object \n",
            " 1   platform         16446 non-null  object \n",
            " 2   year_of_release  16446 non-null  float64\n",
            " 3   genre            16444 non-null  object \n",
            " 4   na_sales         16446 non-null  float64\n",
            " 5   eu_sales         16446 non-null  float64\n",
            " 6   jp_sales         16446 non-null  float64\n",
            " 7   other_sales      16446 non-null  float64\n",
            " 8   critic_score     7983 non-null   float64\n",
            " 9   user_score       7463 non-null   float64\n",
            " 10  rating           16446 non-null  object \n",
            "dtypes: float64(7), object(4)\n",
            "memory usage: 1.5+ MB\n"
          ]
        }
      ],
      "source": [
        "games.info()"
      ]
    },
    {
      "cell_type": "markdown",
      "metadata": {
        "id": "ya8K4NEsmr2A"
      },
      "source": [
        "* Пропуски в оценках и рейтинге не стала трогать, заменять средним, медианой и другими выдуманными значениями не стоит, это исказит данные. Фильтровать их тоже не буду, т.к. потеряю много данных.\n",
        "* Пропуски по годам тоже не стала трогать, пусть их и мало, но смысла не вижу когда пол датафрейма в нанах.\n",
        "* В оценках пользователей есть абревиатура tbd, её я заменила на nan, методом replace() . В переводе tbd - Подлежит определению."
      ]
    },
    {
      "cell_type": "code",
      "execution_count": 14,
      "metadata": {
        "id": "evopM6wbmr2C"
      },
      "outputs": [],
      "source": [
        "games['all_sales'] = games['na_sales'] + games['eu_sales'] + games['jp_sales'] + games['other_sales']"
      ]
    },
    {
      "cell_type": "code",
      "execution_count": 15,
      "metadata": {
        "id": "9pltQ_Nomr2D"
      },
      "outputs": [],
      "source": [
        "new_games = games.copy()"
      ]
    },
    {
      "cell_type": "code",
      "execution_count": 16,
      "metadata": {
        "colab": {
          "base_uri": "https://localhost:8080/"
        },
        "id": "wzaV6PAlmr2D",
        "outputId": "e11abbf0-c5a6-4d10-99b0-a1059ef7a4ab"
      },
      "outputs": [
        {
          "output_type": "execute_result",
          "data": {
            "text/plain": [
              "0.9839066706551002"
            ]
          },
          "metadata": {},
          "execution_count": 16
        }
      ],
      "source": [
        "new_games.shape[0] / old_games.shape[0]"
      ]
    },
    {
      "cell_type": "code",
      "execution_count": 17,
      "metadata": {
        "colab": {
          "base_uri": "https://localhost:8080/",
          "height": 206
        },
        "id": "2DXea343mr2E",
        "outputId": "ec28846d-ac4c-4efb-be3f-8fc2df998434"
      },
      "outputs": [
        {
          "output_type": "execute_result",
          "data": {
            "text/plain": [
              "                       name platform  year_of_release         genre  na_sales  \\\n",
              "0                Wii Sports      Wii           2006.0        Sports     41.36   \n",
              "1         Super Mario Bros.      NES           1985.0      Platform     29.08   \n",
              "2            Mario Kart Wii      Wii           2008.0        Racing     15.68   \n",
              "3         Wii Sports Resort      Wii           2009.0        Sports     15.61   \n",
              "4  Pokemon Red/Pokemon Blue       GB           1996.0  Role-Playing     11.27   \n",
              "\n",
              "   eu_sales  jp_sales  other_sales  critic_score  user_score   rating  \\\n",
              "0     28.96      3.77         8.45          76.0         8.0        E   \n",
              "1      3.58      6.81         0.77           NaN         NaN  unknown   \n",
              "2     12.76      3.79         3.29          82.0         8.3        E   \n",
              "3     10.93      3.28         2.95          80.0         8.0        E   \n",
              "4      8.89     10.22         1.00           NaN         NaN  unknown   \n",
              "\n",
              "   all_sales  \n",
              "0      82.54  \n",
              "1      40.24  \n",
              "2      35.52  \n",
              "3      32.77  \n",
              "4      31.38  "
            ],
            "text/html": [
              "\n",
              "  <div id=\"df-e909a86c-d35b-417c-8dec-80966ff49cbd\">\n",
              "    <div class=\"colab-df-container\">\n",
              "      <div>\n",
              "<style scoped>\n",
              "    .dataframe tbody tr th:only-of-type {\n",
              "        vertical-align: middle;\n",
              "    }\n",
              "\n",
              "    .dataframe tbody tr th {\n",
              "        vertical-align: top;\n",
              "    }\n",
              "\n",
              "    .dataframe thead th {\n",
              "        text-align: right;\n",
              "    }\n",
              "</style>\n",
              "<table border=\"1\" class=\"dataframe\">\n",
              "  <thead>\n",
              "    <tr style=\"text-align: right;\">\n",
              "      <th></th>\n",
              "      <th>name</th>\n",
              "      <th>platform</th>\n",
              "      <th>year_of_release</th>\n",
              "      <th>genre</th>\n",
              "      <th>na_sales</th>\n",
              "      <th>eu_sales</th>\n",
              "      <th>jp_sales</th>\n",
              "      <th>other_sales</th>\n",
              "      <th>critic_score</th>\n",
              "      <th>user_score</th>\n",
              "      <th>rating</th>\n",
              "      <th>all_sales</th>\n",
              "    </tr>\n",
              "  </thead>\n",
              "  <tbody>\n",
              "    <tr>\n",
              "      <th>0</th>\n",
              "      <td>Wii Sports</td>\n",
              "      <td>Wii</td>\n",
              "      <td>2006.0</td>\n",
              "      <td>Sports</td>\n",
              "      <td>41.36</td>\n",
              "      <td>28.96</td>\n",
              "      <td>3.77</td>\n",
              "      <td>8.45</td>\n",
              "      <td>76.0</td>\n",
              "      <td>8.0</td>\n",
              "      <td>E</td>\n",
              "      <td>82.54</td>\n",
              "    </tr>\n",
              "    <tr>\n",
              "      <th>1</th>\n",
              "      <td>Super Mario Bros.</td>\n",
              "      <td>NES</td>\n",
              "      <td>1985.0</td>\n",
              "      <td>Platform</td>\n",
              "      <td>29.08</td>\n",
              "      <td>3.58</td>\n",
              "      <td>6.81</td>\n",
              "      <td>0.77</td>\n",
              "      <td>NaN</td>\n",
              "      <td>NaN</td>\n",
              "      <td>unknown</td>\n",
              "      <td>40.24</td>\n",
              "    </tr>\n",
              "    <tr>\n",
              "      <th>2</th>\n",
              "      <td>Mario Kart Wii</td>\n",
              "      <td>Wii</td>\n",
              "      <td>2008.0</td>\n",
              "      <td>Racing</td>\n",
              "      <td>15.68</td>\n",
              "      <td>12.76</td>\n",
              "      <td>3.79</td>\n",
              "      <td>3.29</td>\n",
              "      <td>82.0</td>\n",
              "      <td>8.3</td>\n",
              "      <td>E</td>\n",
              "      <td>35.52</td>\n",
              "    </tr>\n",
              "    <tr>\n",
              "      <th>3</th>\n",
              "      <td>Wii Sports Resort</td>\n",
              "      <td>Wii</td>\n",
              "      <td>2009.0</td>\n",
              "      <td>Sports</td>\n",
              "      <td>15.61</td>\n",
              "      <td>10.93</td>\n",
              "      <td>3.28</td>\n",
              "      <td>2.95</td>\n",
              "      <td>80.0</td>\n",
              "      <td>8.0</td>\n",
              "      <td>E</td>\n",
              "      <td>32.77</td>\n",
              "    </tr>\n",
              "    <tr>\n",
              "      <th>4</th>\n",
              "      <td>Pokemon Red/Pokemon Blue</td>\n",
              "      <td>GB</td>\n",
              "      <td>1996.0</td>\n",
              "      <td>Role-Playing</td>\n",
              "      <td>11.27</td>\n",
              "      <td>8.89</td>\n",
              "      <td>10.22</td>\n",
              "      <td>1.00</td>\n",
              "      <td>NaN</td>\n",
              "      <td>NaN</td>\n",
              "      <td>unknown</td>\n",
              "      <td>31.38</td>\n",
              "    </tr>\n",
              "  </tbody>\n",
              "</table>\n",
              "</div>\n",
              "      <button class=\"colab-df-convert\" onclick=\"convertToInteractive('df-e909a86c-d35b-417c-8dec-80966ff49cbd')\"\n",
              "              title=\"Convert this dataframe to an interactive table.\"\n",
              "              style=\"display:none;\">\n",
              "        \n",
              "  <svg xmlns=\"http://www.w3.org/2000/svg\" height=\"24px\"viewBox=\"0 0 24 24\"\n",
              "       width=\"24px\">\n",
              "    <path d=\"M0 0h24v24H0V0z\" fill=\"none\"/>\n",
              "    <path d=\"M18.56 5.44l.94 2.06.94-2.06 2.06-.94-2.06-.94-.94-2.06-.94 2.06-2.06.94zm-11 1L8.5 8.5l.94-2.06 2.06-.94-2.06-.94L8.5 2.5l-.94 2.06-2.06.94zm10 10l.94 2.06.94-2.06 2.06-.94-2.06-.94-.94-2.06-.94 2.06-2.06.94z\"/><path d=\"M17.41 7.96l-1.37-1.37c-.4-.4-.92-.59-1.43-.59-.52 0-1.04.2-1.43.59L10.3 9.45l-7.72 7.72c-.78.78-.78 2.05 0 2.83L4 21.41c.39.39.9.59 1.41.59.51 0 1.02-.2 1.41-.59l7.78-7.78 2.81-2.81c.8-.78.8-2.07 0-2.86zM5.41 20L4 18.59l7.72-7.72 1.47 1.35L5.41 20z\"/>\n",
              "  </svg>\n",
              "      </button>\n",
              "      \n",
              "  <style>\n",
              "    .colab-df-container {\n",
              "      display:flex;\n",
              "      flex-wrap:wrap;\n",
              "      gap: 12px;\n",
              "    }\n",
              "\n",
              "    .colab-df-convert {\n",
              "      background-color: #E8F0FE;\n",
              "      border: none;\n",
              "      border-radius: 50%;\n",
              "      cursor: pointer;\n",
              "      display: none;\n",
              "      fill: #1967D2;\n",
              "      height: 32px;\n",
              "      padding: 0 0 0 0;\n",
              "      width: 32px;\n",
              "    }\n",
              "\n",
              "    .colab-df-convert:hover {\n",
              "      background-color: #E2EBFA;\n",
              "      box-shadow: 0px 1px 2px rgba(60, 64, 67, 0.3), 0px 1px 3px 1px rgba(60, 64, 67, 0.15);\n",
              "      fill: #174EA6;\n",
              "    }\n",
              "\n",
              "    [theme=dark] .colab-df-convert {\n",
              "      background-color: #3B4455;\n",
              "      fill: #D2E3FC;\n",
              "    }\n",
              "\n",
              "    [theme=dark] .colab-df-convert:hover {\n",
              "      background-color: #434B5C;\n",
              "      box-shadow: 0px 1px 3px 1px rgba(0, 0, 0, 0.15);\n",
              "      filter: drop-shadow(0px 1px 2px rgba(0, 0, 0, 0.3));\n",
              "      fill: #FFFFFF;\n",
              "    }\n",
              "  </style>\n",
              "\n",
              "      <script>\n",
              "        const buttonEl =\n",
              "          document.querySelector('#df-e909a86c-d35b-417c-8dec-80966ff49cbd button.colab-df-convert');\n",
              "        buttonEl.style.display =\n",
              "          google.colab.kernel.accessAllowed ? 'block' : 'none';\n",
              "\n",
              "        async function convertToInteractive(key) {\n",
              "          const element = document.querySelector('#df-e909a86c-d35b-417c-8dec-80966ff49cbd');\n",
              "          const dataTable =\n",
              "            await google.colab.kernel.invokeFunction('convertToInteractive',\n",
              "                                                     [key], {});\n",
              "          if (!dataTable) return;\n",
              "\n",
              "          const docLinkHtml = 'Like what you see? Visit the ' +\n",
              "            '<a target=\"_blank\" href=https://colab.research.google.com/notebooks/data_table.ipynb>data table notebook</a>'\n",
              "            + ' to learn more about interactive tables.';\n",
              "          element.innerHTML = '';\n",
              "          dataTable['output_type'] = 'display_data';\n",
              "          await google.colab.output.renderOutput(dataTable, element);\n",
              "          const docLink = document.createElement('div');\n",
              "          docLink.innerHTML = docLinkHtml;\n",
              "          element.appendChild(docLink);\n",
              "        }\n",
              "      </script>\n",
              "    </div>\n",
              "  </div>\n",
              "  "
            ]
          },
          "metadata": {},
          "execution_count": 17
        }
      ],
      "source": [
        "games.head(5)"
      ]
    },
    {
      "cell_type": "markdown",
      "metadata": {
        "id": "9GlQ488kmr2E"
      },
      "source": [
        "\n",
        "* Привела название столбцов к нижнему регистру.\n",
        "* Пропущенный рейтинг заполнила значением 'unknown'\n",
        "* Создала новый столбец с суммой всех оценок по странам.\n",
        "* Объединила схожие рейтинги.\n",
        "* Удалила пропущенные значение в годе релиза.\n",
        "* Проверила допустим ли размер удалённых данных"
      ]
    },
    {
      "cell_type": "markdown",
      "metadata": {
        "id": "mmcrmLY4mr2F"
      },
      "source": [
        "## Исследовательский анализ данных"
      ]
    },
    {
      "cell_type": "code",
      "execution_count": 18,
      "metadata": {
        "colab": {
          "base_uri": "https://localhost:8080/"
        },
        "id": "UzuWl3Hgmr2F",
        "outputId": "0ce23c5c-0ab3-4d8a-f255-3e8deb7b9f51"
      },
      "outputs": [
        {
          "output_type": "execute_result",
          "data": {
            "text/plain": [
              "year_of_release\n",
              "1980.0       9\n",
              "1981.0      46\n",
              "1982.0      36\n",
              "1983.0      17\n",
              "1984.0      14\n",
              "1985.0      14\n",
              "1986.0      21\n",
              "1987.0      16\n",
              "1988.0      15\n",
              "1989.0      17\n",
              "1990.0      16\n",
              "1991.0      41\n",
              "1992.0      43\n",
              "1993.0      60\n",
              "1994.0     121\n",
              "1995.0     219\n",
              "1996.0     263\n",
              "1997.0     289\n",
              "1998.0     379\n",
              "1999.0     338\n",
              "2000.0     350\n",
              "2001.0     482\n",
              "2002.0     829\n",
              "2003.0     775\n",
              "2004.0     762\n",
              "2005.0     939\n",
              "2006.0    1006\n",
              "2007.0    1197\n",
              "2008.0    1427\n",
              "2009.0    1426\n",
              "2010.0    1255\n",
              "2011.0    1136\n",
              "2012.0     653\n",
              "2013.0     544\n",
              "2014.0     581\n",
              "2015.0     606\n",
              "2016.0     502\n",
              "Name: name, dtype: int64"
            ]
          },
          "metadata": {},
          "execution_count": 18
        }
      ],
      "source": [
        "games.groupby('year_of_release')['name'].count()"
      ]
    },
    {
      "cell_type": "code",
      "execution_count": 19,
      "metadata": {
        "colab": {
          "base_uri": "https://localhost:8080/",
          "height": 238
        },
        "id": "3jsMTGlXmr2G",
        "outputId": "7fe383c0-78bc-4249-b86d-b8ce11a6d7f8"
      },
      "outputs": [
        {
          "output_type": "execute_result",
          "data": {
            "text/plain": [
              "              mean\n",
              "platform          \n",
              "GB        2.622990\n",
              "NES       2.561735\n",
              "GEN       1.061034\n",
              "SNES      0.836987\n",
              "PS4       0.801378"
            ],
            "text/html": [
              "\n",
              "  <div id=\"df-4e14cc44-5b83-469c-8c42-765297917de6\">\n",
              "    <div class=\"colab-df-container\">\n",
              "      <div>\n",
              "<style scoped>\n",
              "    .dataframe tbody tr th:only-of-type {\n",
              "        vertical-align: middle;\n",
              "    }\n",
              "\n",
              "    .dataframe tbody tr th {\n",
              "        vertical-align: top;\n",
              "    }\n",
              "\n",
              "    .dataframe thead th {\n",
              "        text-align: right;\n",
              "    }\n",
              "</style>\n",
              "<table border=\"1\" class=\"dataframe\">\n",
              "  <thead>\n",
              "    <tr style=\"text-align: right;\">\n",
              "      <th></th>\n",
              "      <th>mean</th>\n",
              "    </tr>\n",
              "    <tr>\n",
              "      <th>platform</th>\n",
              "      <th></th>\n",
              "    </tr>\n",
              "  </thead>\n",
              "  <tbody>\n",
              "    <tr>\n",
              "      <th>GB</th>\n",
              "      <td>2.622990</td>\n",
              "    </tr>\n",
              "    <tr>\n",
              "      <th>NES</th>\n",
              "      <td>2.561735</td>\n",
              "    </tr>\n",
              "    <tr>\n",
              "      <th>GEN</th>\n",
              "      <td>1.061034</td>\n",
              "    </tr>\n",
              "    <tr>\n",
              "      <th>SNES</th>\n",
              "      <td>0.836987</td>\n",
              "    </tr>\n",
              "    <tr>\n",
              "      <th>PS4</th>\n",
              "      <td>0.801378</td>\n",
              "    </tr>\n",
              "  </tbody>\n",
              "</table>\n",
              "</div>\n",
              "      <button class=\"colab-df-convert\" onclick=\"convertToInteractive('df-4e14cc44-5b83-469c-8c42-765297917de6')\"\n",
              "              title=\"Convert this dataframe to an interactive table.\"\n",
              "              style=\"display:none;\">\n",
              "        \n",
              "  <svg xmlns=\"http://www.w3.org/2000/svg\" height=\"24px\"viewBox=\"0 0 24 24\"\n",
              "       width=\"24px\">\n",
              "    <path d=\"M0 0h24v24H0V0z\" fill=\"none\"/>\n",
              "    <path d=\"M18.56 5.44l.94 2.06.94-2.06 2.06-.94-2.06-.94-.94-2.06-.94 2.06-2.06.94zm-11 1L8.5 8.5l.94-2.06 2.06-.94-2.06-.94L8.5 2.5l-.94 2.06-2.06.94zm10 10l.94 2.06.94-2.06 2.06-.94-2.06-.94-.94-2.06-.94 2.06-2.06.94z\"/><path d=\"M17.41 7.96l-1.37-1.37c-.4-.4-.92-.59-1.43-.59-.52 0-1.04.2-1.43.59L10.3 9.45l-7.72 7.72c-.78.78-.78 2.05 0 2.83L4 21.41c.39.39.9.59 1.41.59.51 0 1.02-.2 1.41-.59l7.78-7.78 2.81-2.81c.8-.78.8-2.07 0-2.86zM5.41 20L4 18.59l7.72-7.72 1.47 1.35L5.41 20z\"/>\n",
              "  </svg>\n",
              "      </button>\n",
              "      \n",
              "  <style>\n",
              "    .colab-df-container {\n",
              "      display:flex;\n",
              "      flex-wrap:wrap;\n",
              "      gap: 12px;\n",
              "    }\n",
              "\n",
              "    .colab-df-convert {\n",
              "      background-color: #E8F0FE;\n",
              "      border: none;\n",
              "      border-radius: 50%;\n",
              "      cursor: pointer;\n",
              "      display: none;\n",
              "      fill: #1967D2;\n",
              "      height: 32px;\n",
              "      padding: 0 0 0 0;\n",
              "      width: 32px;\n",
              "    }\n",
              "\n",
              "    .colab-df-convert:hover {\n",
              "      background-color: #E2EBFA;\n",
              "      box-shadow: 0px 1px 2px rgba(60, 64, 67, 0.3), 0px 1px 3px 1px rgba(60, 64, 67, 0.15);\n",
              "      fill: #174EA6;\n",
              "    }\n",
              "\n",
              "    [theme=dark] .colab-df-convert {\n",
              "      background-color: #3B4455;\n",
              "      fill: #D2E3FC;\n",
              "    }\n",
              "\n",
              "    [theme=dark] .colab-df-convert:hover {\n",
              "      background-color: #434B5C;\n",
              "      box-shadow: 0px 1px 3px 1px rgba(0, 0, 0, 0.15);\n",
              "      filter: drop-shadow(0px 1px 2px rgba(0, 0, 0, 0.3));\n",
              "      fill: #FFFFFF;\n",
              "    }\n",
              "  </style>\n",
              "\n",
              "      <script>\n",
              "        const buttonEl =\n",
              "          document.querySelector('#df-4e14cc44-5b83-469c-8c42-765297917de6 button.colab-df-convert');\n",
              "        buttonEl.style.display =\n",
              "          google.colab.kernel.accessAllowed ? 'block' : 'none';\n",
              "\n",
              "        async function convertToInteractive(key) {\n",
              "          const element = document.querySelector('#df-4e14cc44-5b83-469c-8c42-765297917de6');\n",
              "          const dataTable =\n",
              "            await google.colab.kernel.invokeFunction('convertToInteractive',\n",
              "                                                     [key], {});\n",
              "          if (!dataTable) return;\n",
              "\n",
              "          const docLinkHtml = 'Like what you see? Visit the ' +\n",
              "            '<a target=\"_blank\" href=https://colab.research.google.com/notebooks/data_table.ipynb>data table notebook</a>'\n",
              "            + ' to learn more about interactive tables.';\n",
              "          element.innerHTML = '';\n",
              "          dataTable['output_type'] = 'display_data';\n",
              "          await google.colab.output.renderOutput(dataTable, element);\n",
              "          const docLink = document.createElement('div');\n",
              "          docLink.innerHTML = docLinkHtml;\n",
              "          element.appendChild(docLink);\n",
              "        }\n",
              "      </script>\n",
              "    </div>\n",
              "  </div>\n",
              "  "
            ]
          },
          "metadata": {},
          "execution_count": 19
        }
      ],
      "source": [
        "games.groupby('platform')['all_sales'].agg(['mean']).sort_values(by='mean', ascending=False).head()\n"
      ]
    },
    {
      "cell_type": "code",
      "execution_count": 20,
      "metadata": {
        "colab": {
          "base_uri": "https://localhost:8080/",
          "height": 452
        },
        "id": "8KEEhuqtmr2G",
        "outputId": "efb25a4e-0d44-4fad-9bd7-705ddb5a553a"
      },
      "outputs": [
        {
          "output_type": "display_data",
          "data": {
            "text/plain": [
              "<Figure size 640x480 with 1 Axes>"
            ],
            "image/png": "[encoded data removed]"
          },
          "metadata": {}
        }
      ],
      "source": [
        "games[games['platform'] =='GB']['year_of_release'].plot(bins=20, alpha=0.5, color='green', kind='hist', title='Распределение платформ по годам')\n",
        "games[games['platform'] =='NES']['year_of_release'].plot(bins=20, alpha=0.5, color='red', kind='hist');\n",
        "plt.legend(['GB', 'NES']);"
      ]
    },
    {
      "cell_type": "markdown",
      "metadata": {
        "id": "ZTEbw8VVmr2T"
      },
      "source": [
        "Платформа NES появилась в 1983 году, а закончила своё существование в конце 1993 года. Платформа GB напротив, начала своё существование 1988 году, а закончила в 2000 году. В промежутке между 1988 годом и 1993 платформа NES пыталась сохранить своё место в игровом мире и боролась с платформой GB. Мы видим что в конце 1989 года у неё это не плохо получилось, но к сожалению она утратила свои позиции и позволила платформе GB занять своё место, на рынке. С 1994 года платформа GB стремительно наращивала свои продажи, пик продаж пришёлся на 2000 год."
      ]
    },
    {
      "cell_type": "code",
      "execution_count": 21,
      "metadata": {
        "colab": {
          "base_uri": "https://localhost:8080/"
        },
        "id": "RopXtJn7mr2T",
        "outputId": "a3dc1b7d-e58b-47b5-c224-10b3d0eb5351"
      },
      "outputs": [
        {
          "output_type": "stream",
          "name": "stdout",
          "text": [
            "platform\n",
            "2600     9.0\n",
            "3DO      1.0\n",
            "3DS      5.0\n",
            "DC      10.0\n",
            "DS      28.0\n",
            "GB      13.0\n",
            "GBA      7.0\n",
            "GC       6.0\n",
            "GEN      4.0\n",
            "GG       0.0\n",
            "N64      6.0\n",
            "NES     11.0\n",
            "NG       3.0\n",
            "PC      31.0\n",
            "PCFX     0.0\n",
            "PS       9.0\n",
            "PS2     11.0\n",
            "PS3     10.0\n",
            "PS4      3.0\n",
            "PSP     11.0\n",
            "PSV      5.0\n",
            "SAT      5.0\n",
            "SCD      1.0\n",
            "SNES     9.0\n",
            "TG16     0.0\n",
            "WS       2.0\n",
            "Wii     10.0\n",
            "WiiU     4.0\n",
            "X360    11.0\n",
            "XB       8.0\n",
            "XOne     3.0\n",
            "dtype: float64\n"
          ]
        }
      ],
      "source": [
        "games_min = games.groupby('platform')['year_of_release'].agg(['min'])\n",
        "games_max = games.groupby('platform')['year_of_release'].agg(['max'])\n",
        "games_live = games_max['max'] - games_min['min']\n",
        "print(games_live)"
      ]
    },
    {
      "cell_type": "markdown",
      "metadata": {
        "id": "S2n4wHvwmr2U"
      },
      "source": [
        "Период жизни платформы NES 11 лет, платформы Gb 13 лет. По графику видим что от появления новой платформы, до окончания срока жизни старой платформы - прошло 5 лет"
      ]
    },
    {
      "cell_type": "code",
      "execution_count": 22,
      "metadata": {
        "colab": {
          "base_uri": "https://localhost:8080/",
          "height": 467
        },
        "id": "16CiVnD_mr2U",
        "outputId": "83f28f87-b165-4088-efc8-fc535990ae1e"
      },
      "outputs": [
        {
          "output_type": "execute_result",
          "data": {
            "text/plain": [
              "<Axes: xlabel='year_of_release'>"
            ]
          },
          "metadata": {},
          "execution_count": 22
        },
        {
          "output_type": "display_data",
          "data": {
            "text/plain": [
              "<Figure size 640x480 with 1 Axes>"
            ],
            "image/png": "[encoded data removed]"
          },
          "metadata": {}
        }
      ],
      "source": [
        "games.groupby('year_of_release')['all_sales'].count().plot()"
      ]
    },
    {
      "cell_type": "markdown",
      "metadata": {
        "id": "Qqg7lzpemr2V"
      },
      "source": [
        "Беру 2 года, чтобы получить больше данных, т.к. за 2016 год мало данных."
      ]
    },
    {
      "cell_type": "code",
      "execution_count": 23,
      "metadata": {
        "colab": {
          "base_uri": "https://localhost:8080/"
        },
        "id": "1woX7MuZmr2W",
        "outputId": "b2547241-6ce0-4919-8115-df7c77eccb00"
      },
      "outputs": [
        {
          "output_type": "stream",
          "name": "stdout",
          "text": [
            "Минимальный год: 2015.0\n",
            "Максимальный год: 2016.0\n"
          ]
        }
      ],
      "source": [
        "limit_max = 2016\n",
        "limit_min = 2015\n",
        "current_years_games = games.loc[(games['year_of_release'] >= limit_min ) & (games['year_of_release'] <= limit_max)]\n",
        "print('Минимальный год:', current_years_games['year_of_release'].min())\n",
        "print('Максимальный год:', current_years_games['year_of_release'].max())"
      ]
    },
    {
      "cell_type": "code",
      "execution_count": 24,
      "metadata": {
        "colab": {
          "base_uri": "https://localhost:8080/",
          "height": 238
        },
        "id": "pKC2A-YAmr2W",
        "outputId": "b1b8e377-594d-4a2f-9815-f505767c48ac"
      },
      "outputs": [
        {
          "output_type": "display_data",
          "data": {
            "text/plain": [
              "              mean\n",
              "platform          \n",
              "PS4       0.625083\n",
              "XOne      0.516707\n",
              "WiiU      0.498810\n",
              "3DS       0.325152\n",
              "X360      0.280833"
            ],
            "text/html": [
              "\n",
              "  <div id=\"df-d3019fd4-feb4-4025-9e3a-7f10c5856370\">\n",
              "    <div class=\"colab-df-container\">\n",
              "      <div>\n",
              "<style scoped>\n",
              "    .dataframe tbody tr th:only-of-type {\n",
              "        vertical-align: middle;\n",
              "    }\n",
              "\n",
              "    .dataframe tbody tr th {\n",
              "        vertical-align: top;\n",
              "    }\n",
              "\n",
              "    .dataframe thead th {\n",
              "        text-align: right;\n",
              "    }\n",
              "</style>\n",
              "<table border=\"1\" class=\"dataframe\">\n",
              "  <thead>\n",
              "    <tr style=\"text-align: right;\">\n",
              "      <th></th>\n",
              "      <th>mean</th>\n",
              "    </tr>\n",
              "    <tr>\n",
              "      <th>platform</th>\n",
              "      <th></th>\n",
              "    </tr>\n",
              "  </thead>\n",
              "  <tbody>\n",
              "    <tr>\n",
              "      <th>PS4</th>\n",
              "      <td>0.625083</td>\n",
              "    </tr>\n",
              "    <tr>\n",
              "      <th>XOne</th>\n",
              "      <td>0.516707</td>\n",
              "    </tr>\n",
              "    <tr>\n",
              "      <th>WiiU</th>\n",
              "      <td>0.498810</td>\n",
              "    </tr>\n",
              "    <tr>\n",
              "      <th>3DS</th>\n",
              "      <td>0.325152</td>\n",
              "    </tr>\n",
              "    <tr>\n",
              "      <th>X360</th>\n",
              "      <td>0.280833</td>\n",
              "    </tr>\n",
              "  </tbody>\n",
              "</table>\n",
              "</div>\n",
              "      <button class=\"colab-df-convert\" onclick=\"convertToInteractive('df-d3019fd4-feb4-4025-9e3a-7f10c5856370')\"\n",
              "              title=\"Convert this dataframe to an interactive table.\"\n",
              "              style=\"display:none;\">\n",
              "        \n",
              "  <svg xmlns=\"http://www.w3.org/2000/svg\" height=\"24px\"viewBox=\"0 0 24 24\"\n",
              "       width=\"24px\">\n",
              "    <path d=\"M0 0h24v24H0V0z\" fill=\"none\"/>\n",
              "    <path d=\"M18.56 5.44l.94 2.06.94-2.06 2.06-.94-2.06-.94-.94-2.06-.94 2.06-2.06.94zm-11 1L8.5 8.5l.94-2.06 2.06-.94-2.06-.94L8.5 2.5l-.94 2.06-2.06.94zm10 10l.94 2.06.94-2.06 2.06-.94-2.06-.94-.94-2.06-.94 2.06-2.06.94z\"/><path d=\"M17.41 7.96l-1.37-1.37c-.4-.4-.92-.59-1.43-.59-.52 0-1.04.2-1.43.59L10.3 9.45l-7.72 7.72c-.78.78-.78 2.05 0 2.83L4 21.41c.39.39.9.59 1.41.59.51 0 1.02-.2 1.41-.59l7.78-7.78 2.81-2.81c.8-.78.8-2.07 0-2.86zM5.41 20L4 18.59l7.72-7.72 1.47 1.35L5.41 20z\"/>\n",
              "  </svg>\n",
              "      </button>\n",
              "      \n",
              "  <style>\n",
              "    .colab-df-container {\n",
              "      display:flex;\n",
              "      flex-wrap:wrap;\n",
              "      gap: 12px;\n",
              "    }\n",
              "\n",
              "    .colab-df-convert {\n",
              "      background-color: #E8F0FE;\n",
              "      border: none;\n",
              "      border-radius: 50%;\n",
              "      cursor: pointer;\n",
              "      display: none;\n",
              "      fill: #1967D2;\n",
              "      height: 32px;\n",
              "      padding: 0 0 0 0;\n",
              "      width: 32px;\n",
              "    }\n",
              "\n",
              "    .colab-df-convert:hover {\n",
              "      background-color: #E2EBFA;\n",
              "      box-shadow: 0px 1px 2px rgba(60, 64, 67, 0.3), 0px 1px 3px 1px rgba(60, 64, 67, 0.15);\n",
              "      fill: #174EA6;\n",
              "    }\n",
              "\n",
              "    [theme=dark] .colab-df-convert {\n",
              "      background-color: #3B4455;\n",
              "      fill: #D2E3FC;\n",
              "    }\n",
              "\n",
              "    [theme=dark] .colab-df-convert:hover {\n",
              "      background-color: #434B5C;\n",
              "      box-shadow: 0px 1px 3px 1px rgba(0, 0, 0, 0.15);\n",
              "      filter: drop-shadow(0px 1px 2px rgba(0, 0, 0, 0.3));\n",
              "      fill: #FFFFFF;\n",
              "    }\n",
              "  </style>\n",
              "\n",
              "      <script>\n",
              "        const buttonEl =\n",
              "          document.querySelector('#df-d3019fd4-feb4-4025-9e3a-7f10c5856370 button.colab-df-convert');\n",
              "        buttonEl.style.display =\n",
              "          google.colab.kernel.accessAllowed ? 'block' : 'none';\n",
              "\n",
              "        async function convertToInteractive(key) {\n",
              "          const element = document.querySelector('#df-d3019fd4-feb4-4025-9e3a-7f10c5856370');\n",
              "          const dataTable =\n",
              "            await google.colab.kernel.invokeFunction('convertToInteractive',\n",
              "                                                     [key], {});\n",
              "          if (!dataTable) return;\n",
              "\n",
              "          const docLinkHtml = 'Like what you see? Visit the ' +\n",
              "            '<a target=\"_blank\" href=https://colab.research.google.com/notebooks/data_table.ipynb>data table notebook</a>'\n",
              "            + ' to learn more about interactive tables.';\n",
              "          element.innerHTML = '';\n",
              "          dataTable['output_type'] = 'display_data';\n",
              "          await google.colab.output.renderOutput(dataTable, element);\n",
              "          const docLink = document.createElement('div');\n",
              "          docLink.innerHTML = docLinkHtml;\n",
              "          element.appendChild(docLink);\n",
              "        }\n",
              "      </script>\n",
              "    </div>\n",
              "  </div>\n",
              "  "
            ]
          },
          "metadata": {}
        }
      ],
      "source": [
        "platform_sales = current_years_games.groupby('platform')['all_sales'].agg(['mean']).sort_values(by='mean', ascending=False).head(5)\n",
        "display(platform_sales)"
      ]
    },
    {
      "cell_type": "code",
      "execution_count": 25,
      "metadata": {
        "colab": {
          "base_uri": "https://localhost:8080/",
          "height": 675
        },
        "id": "8HrODI8Lmr2W",
        "outputId": "ff308cbd-3a1e-4287-add8-34e43ec2617e"
      },
      "outputs": [
        {
          "output_type": "display_data",
          "data": {
            "text/plain": [
              "<Figure size 800x800 with 1 Axes>"
            ],
            "image/png": "[encoded data removed]"
          },
          "metadata": {}
        }
      ],
      "source": [
        "platform_sales.plot(kind='pie', y='mean',figsize =(8,8), title = 'Платформы по продажам');"
      ]
    },
    {
      "cell_type": "code",
      "execution_count": 26,
      "metadata": {
        "colab": {
          "base_uri": "https://localhost:8080/",
          "height": 452
        },
        "id": "jeEEla29mr2X",
        "outputId": "49fc5dd4-de13-447e-8448-37f12f798063"
      },
      "outputs": [
        {
          "output_type": "display_data",
          "data": {
            "text/plain": [
              "<Figure size 640x480 with 1 Axes>"
            ],
            "image/png": "[encoded data removed]"
          },
          "metadata": {}
        }
      ],
      "source": [
        "platform_WiiU = current_years_games[current_years_games['platform'] =='WiiU'].groupby('year_of_release')['all_sales'].agg(['mean'])\n",
        "platform_PS4 = current_years_games[current_years_games['platform'] =='PS4'].groupby('year_of_release')['all_sales'].agg(['mean'])\n",
        "platform_XOne = current_years_games[current_years_games['platform'] =='XOne'].groupby('year_of_release')['all_sales'].agg(['mean'])\n",
        "\n",
        "\n",
        "plt.plot(platform_WiiU)\n",
        "plt.plot(platform_PS4)\n",
        "plt.plot(platform_XOne)\n",
        "\n",
        "plt.title('Продажи платформ по годам')\n",
        "plt.legend(['WiiU', 'PS4', 'XOne']);"
      ]
    },
    {
      "cell_type": "markdown",
      "metadata": {
        "id": "FetYyL9Kmr2X"
      },
      "source": [
        "Все приставки имеют серьёзный спад. Но в лидирующей позиции остаётся PS4."
      ]
    },
    {
      "cell_type": "code",
      "execution_count": 27,
      "metadata": {
        "colab": {
          "base_uri": "https://localhost:8080/",
          "height": 143
        },
        "id": "aiIHGnC5mr2X",
        "outputId": "d44833ec-a046-4960-c95f-8321c4e3a4f3"
      },
      "outputs": [
        {
          "output_type": "display_data",
          "data": {
            "text/plain": [
              "                           name platform  year_of_release    genre  na_sales  \\\n",
              "0     Call of Duty: Black Ops 3      PS4           2015.0  Shooter      6.03   \n",
              "1                       FIFA 16      PS4           2015.0   Sports      1.12   \n",
              "2  Star Wars Battlefront (2015)      PS4           2015.0  Shooter      2.99   \n",
              "\n",
              "   eu_sales  jp_sales  other_sales  critic_score  user_score   rating  \\\n",
              "0      5.86      0.36         2.38           NaN         NaN  unknown   \n",
              "1      6.12      0.06         1.28          82.0         4.3        E   \n",
              "2      3.49      0.22         1.28           NaN         NaN  unknown   \n",
              "\n",
              "   all_sales  \n",
              "0      14.63  \n",
              "1       8.58  \n",
              "2       7.98  "
            ],
            "text/html": [
              "\n",
              "  <div id=\"df-9b087dc1-0523-4fad-9848-d69768be149b\">\n",
              "    <div class=\"colab-df-container\">\n",
              "      <div>\n",
              "<style scoped>\n",
              "    .dataframe tbody tr th:only-of-type {\n",
              "        vertical-align: middle;\n",
              "    }\n",
              "\n",
              "    .dataframe tbody tr th {\n",
              "        vertical-align: top;\n",
              "    }\n",
              "\n",
              "    .dataframe thead th {\n",
              "        text-align: right;\n",
              "    }\n",
              "</style>\n",
              "<table border=\"1\" class=\"dataframe\">\n",
              "  <thead>\n",
              "    <tr style=\"text-align: right;\">\n",
              "      <th></th>\n",
              "      <th>name</th>\n",
              "      <th>platform</th>\n",
              "      <th>year_of_release</th>\n",
              "      <th>genre</th>\n",
              "      <th>na_sales</th>\n",
              "      <th>eu_sales</th>\n",
              "      <th>jp_sales</th>\n",
              "      <th>other_sales</th>\n",
              "      <th>critic_score</th>\n",
              "      <th>user_score</th>\n",
              "      <th>rating</th>\n",
              "      <th>all_sales</th>\n",
              "    </tr>\n",
              "  </thead>\n",
              "  <tbody>\n",
              "    <tr>\n",
              "      <th>0</th>\n",
              "      <td>Call of Duty: Black Ops 3</td>\n",
              "      <td>PS4</td>\n",
              "      <td>2015.0</td>\n",
              "      <td>Shooter</td>\n",
              "      <td>6.03</td>\n",
              "      <td>5.86</td>\n",
              "      <td>0.36</td>\n",
              "      <td>2.38</td>\n",
              "      <td>NaN</td>\n",
              "      <td>NaN</td>\n",
              "      <td>unknown</td>\n",
              "      <td>14.63</td>\n",
              "    </tr>\n",
              "    <tr>\n",
              "      <th>1</th>\n",
              "      <td>FIFA 16</td>\n",
              "      <td>PS4</td>\n",
              "      <td>2015.0</td>\n",
              "      <td>Sports</td>\n",
              "      <td>1.12</td>\n",
              "      <td>6.12</td>\n",
              "      <td>0.06</td>\n",
              "      <td>1.28</td>\n",
              "      <td>82.0</td>\n",
              "      <td>4.3</td>\n",
              "      <td>E</td>\n",
              "      <td>8.58</td>\n",
              "    </tr>\n",
              "    <tr>\n",
              "      <th>2</th>\n",
              "      <td>Star Wars Battlefront (2015)</td>\n",
              "      <td>PS4</td>\n",
              "      <td>2015.0</td>\n",
              "      <td>Shooter</td>\n",
              "      <td>2.99</td>\n",
              "      <td>3.49</td>\n",
              "      <td>0.22</td>\n",
              "      <td>1.28</td>\n",
              "      <td>NaN</td>\n",
              "      <td>NaN</td>\n",
              "      <td>unknown</td>\n",
              "      <td>7.98</td>\n",
              "    </tr>\n",
              "  </tbody>\n",
              "</table>\n",
              "</div>\n",
              "      <button class=\"colab-df-convert\" onclick=\"convertToInteractive('df-9b087dc1-0523-4fad-9848-d69768be149b')\"\n",
              "              title=\"Convert this dataframe to an interactive table.\"\n",
              "              style=\"display:none;\">\n",
              "        \n",
              "  <svg xmlns=\"http://www.w3.org/2000/svg\" height=\"24px\"viewBox=\"0 0 24 24\"\n",
              "       width=\"24px\">\n",
              "    <path d=\"M0 0h24v24H0V0z\" fill=\"none\"/>\n",
              "    <path d=\"M18.56 5.44l.94 2.06.94-2.06 2.06-.94-2.06-.94-.94-2.06-.94 2.06-2.06.94zm-11 1L8.5 8.5l.94-2.06 2.06-.94-2.06-.94L8.5 2.5l-.94 2.06-2.06.94zm10 10l.94 2.06.94-2.06 2.06-.94-2.06-.94-.94-2.06-.94 2.06-2.06.94z\"/><path d=\"M17.41 7.96l-1.37-1.37c-.4-.4-.92-.59-1.43-.59-.52 0-1.04.2-1.43.59L10.3 9.45l-7.72 7.72c-.78.78-.78 2.05 0 2.83L4 21.41c.39.39.9.59 1.41.59.51 0 1.02-.2 1.41-.59l7.78-7.78 2.81-2.81c.8-.78.8-2.07 0-2.86zM5.41 20L4 18.59l7.72-7.72 1.47 1.35L5.41 20z\"/>\n",
              "  </svg>\n",
              "      </button>\n",
              "      \n",
              "  <style>\n",
              "    .colab-df-container {\n",
              "      display:flex;\n",
              "      flex-wrap:wrap;\n",
              "      gap: 12px;\n",
              "    }\n",
              "\n",
              "    .colab-df-convert {\n",
              "      background-color: #E8F0FE;\n",
              "      border: none;\n",
              "      border-radius: 50%;\n",
              "      cursor: pointer;\n",
              "      display: none;\n",
              "      fill: #1967D2;\n",
              "      height: 32px;\n",
              "      padding: 0 0 0 0;\n",
              "      width: 32px;\n",
              "    }\n",
              "\n",
              "    .colab-df-convert:hover {\n",
              "      background-color: #E2EBFA;\n",
              "      box-shadow: 0px 1px 2px rgba(60, 64, 67, 0.3), 0px 1px 3px 1px rgba(60, 64, 67, 0.15);\n",
              "      fill: #174EA6;\n",
              "    }\n",
              "\n",
              "    [theme=dark] .colab-df-convert {\n",
              "      background-color: #3B4455;\n",
              "      fill: #D2E3FC;\n",
              "    }\n",
              "\n",
              "    [theme=dark] .colab-df-convert:hover {\n",
              "      background-color: #434B5C;\n",
              "      box-shadow: 0px 1px 3px 1px rgba(0, 0, 0, 0.15);\n",
              "      filter: drop-shadow(0px 1px 2px rgba(0, 0, 0, 0.3));\n",
              "      fill: #FFFFFF;\n",
              "    }\n",
              "  </style>\n",
              "\n",
              "      <script>\n",
              "        const buttonEl =\n",
              "          document.querySelector('#df-9b087dc1-0523-4fad-9848-d69768be149b button.colab-df-convert');\n",
              "        buttonEl.style.display =\n",
              "          google.colab.kernel.accessAllowed ? 'block' : 'none';\n",
              "\n",
              "        async function convertToInteractive(key) {\n",
              "          const element = document.querySelector('#df-9b087dc1-0523-4fad-9848-d69768be149b');\n",
              "          const dataTable =\n",
              "            await google.colab.kernel.invokeFunction('convertToInteractive',\n",
              "                                                     [key], {});\n",
              "          if (!dataTable) return;\n",
              "\n",
              "          const docLinkHtml = 'Like what you see? Visit the ' +\n",
              "            '<a target=\"_blank\" href=https://colab.research.google.com/notebooks/data_table.ipynb>data table notebook</a>'\n",
              "            + ' to learn more about interactive tables.';\n",
              "          element.innerHTML = '';\n",
              "          dataTable['output_type'] = 'display_data';\n",
              "          await google.colab.output.renderOutput(dataTable, element);\n",
              "          const docLink = document.createElement('div');\n",
              "          docLink.innerHTML = docLinkHtml;\n",
              "          element.appendChild(docLink);\n",
              "        }\n",
              "      </script>\n",
              "    </div>\n",
              "  </div>\n",
              "  "
            ]
          },
          "metadata": {}
        }
      ],
      "source": [
        "good_platform_PS4 = current_years_games.loc[current_years_games['platform'].isin(['PS4'])]\n",
        "good_platform_XOne = current_years_games.loc[current_years_games['platform'].isin(['XOne'])]\n",
        "good_platform_WiiU = current_years_games.loc[current_years_games['platform'].isin(['WiiU'])]\n",
        "\n",
        "good_platform = pd.concat([good_platform_PS4, good_platform_XOne, good_platform_WiiU], ignore_index = True)\n",
        "\n",
        "display(good_platform.head(3))"
      ]
    },
    {
      "cell_type": "code",
      "execution_count": 28,
      "metadata": {
        "colab": {
          "base_uri": "https://localhost:8080/",
          "height": 910
        },
        "id": "4o4sM8namr2Y",
        "outputId": "47c1c7d2-9c86-4576-d2ff-9140ea3a2fa9"
      },
      "outputs": [
        {
          "output_type": "display_data",
          "data": {
            "text/plain": [
              "<Figure size 1000x1000 with 1 Axes>"
            ],
            "image/png": "[encoded data removed]"
          },
          "metadata": {}
        }
      ],
      "source": [
        "good_platform.boxplot(column='all_sales', by='platform', figsize=(10,10));\n",
        "plt.ylim(top=5);"
      ]
    },
    {
      "cell_type": "markdown",
      "metadata": {
        "id": "AImXG3-xmr2Y"
      },
      "source": [
        "Разброс продаж у Хбокса выше чем у WiiU и Сони.\n",
        "Сони популярней своих коллег по цеху.\n",
        "Медианное значение у WiiU выше чем у Сони и Хбокса. У Сони медианное значение чуть ниже чем у Хбокса."
      ]
    },
    {
      "cell_type": "code",
      "execution_count": 29,
      "metadata": {
        "colab": {
          "base_uri": "https://localhost:8080/",
          "height": 1000
        },
        "id": "huHCab98mr2Z",
        "outputId": "a183746e-ae7c-4332-be6b-840fece98a4a"
      },
      "outputs": [
        {
          "output_type": "display_data",
          "data": {
            "text/plain": [
              "<Figure size 640x480 with 1 Axes>"
            ],
            "image/png": "[encoded data removed]"
          },
          "metadata": {}
        },
        {
          "output_type": "display_data",
          "data": {
            "text/plain": [
              "<Figure size 640x480 with 1 Axes>"
            ],
            "image/png": "[encoded data removed]"
          },
          "metadata": {}
        },
        {
          "output_type": "execute_result",
          "data": {
            "text/plain": [
              "              user_score  critic_score  all_sales\n",
              "user_score      1.000000      0.533330  -0.059738\n",
              "critic_score    0.533330      1.000000   0.392849\n",
              "all_sales      -0.059738      0.392849   1.000000"
            ],
            "text/html": [
              "\n",
              "  <div id=\"df-aed0122a-f4b4-49a7-8546-ecc71c136689\">\n",
              "    <div class=\"colab-df-container\">\n",
              "      <div>\n",
              "<style scoped>\n",
              "    .dataframe tbody tr th:only-of-type {\n",
              "        vertical-align: middle;\n",
              "    }\n",
              "\n",
              "    .dataframe tbody tr th {\n",
              "        vertical-align: top;\n",
              "    }\n",
              "\n",
              "    .dataframe thead th {\n",
              "        text-align: right;\n",
              "    }\n",
              "</style>\n",
              "<table border=\"1\" class=\"dataframe\">\n",
              "  <thead>\n",
              "    <tr style=\"text-align: right;\">\n",
              "      <th></th>\n",
              "      <th>user_score</th>\n",
              "      <th>critic_score</th>\n",
              "      <th>all_sales</th>\n",
              "    </tr>\n",
              "  </thead>\n",
              "  <tbody>\n",
              "    <tr>\n",
              "      <th>user_score</th>\n",
              "      <td>1.000000</td>\n",
              "      <td>0.533330</td>\n",
              "      <td>-0.059738</td>\n",
              "    </tr>\n",
              "    <tr>\n",
              "      <th>critic_score</th>\n",
              "      <td>0.533330</td>\n",
              "      <td>1.000000</td>\n",
              "      <td>0.392849</td>\n",
              "    </tr>\n",
              "    <tr>\n",
              "      <th>all_sales</th>\n",
              "      <td>-0.059738</td>\n",
              "      <td>0.392849</td>\n",
              "      <td>1.000000</td>\n",
              "    </tr>\n",
              "  </tbody>\n",
              "</table>\n",
              "</div>\n",
              "      <button class=\"colab-df-convert\" onclick=\"convertToInteractive('df-aed0122a-f4b4-49a7-8546-ecc71c136689')\"\n",
              "              title=\"Convert this dataframe to an interactive table.\"\n",
              "              style=\"display:none;\">\n",
              "        \n",
              "  <svg xmlns=\"http://www.w3.org/2000/svg\" height=\"24px\"viewBox=\"0 0 24 24\"\n",
              "       width=\"24px\">\n",
              "    <path d=\"M0 0h24v24H0V0z\" fill=\"none\"/>\n",
              "    <path d=\"M18.56 5.44l.94 2.06.94-2.06 2.06-.94-2.06-.94-.94-2.06-.94 2.06-2.06.94zm-11 1L8.5 8.5l.94-2.06 2.06-.94-2.06-.94L8.5 2.5l-.94 2.06-2.06.94zm10 10l.94 2.06.94-2.06 2.06-.94-2.06-.94-.94-2.06-.94 2.06-2.06.94z\"/><path d=\"M17.41 7.96l-1.37-1.37c-.4-.4-.92-.59-1.43-.59-.52 0-1.04.2-1.43.59L10.3 9.45l-7.72 7.72c-.78.78-.78 2.05 0 2.83L4 21.41c.39.39.9.59 1.41.59.51 0 1.02-.2 1.41-.59l7.78-7.78 2.81-2.81c.8-.78.8-2.07 0-2.86zM5.41 20L4 18.59l7.72-7.72 1.47 1.35L5.41 20z\"/>\n",
              "  </svg>\n",
              "      </button>\n",
              "      \n",
              "  <style>\n",
              "    .colab-df-container {\n",
              "      display:flex;\n",
              "      flex-wrap:wrap;\n",
              "      gap: 12px;\n",
              "    }\n",
              "\n",
              "    .colab-df-convert {\n",
              "      background-color: #E8F0FE;\n",
              "      border: none;\n",
              "      border-radius: 50%;\n",
              "      cursor: pointer;\n",
              "      display: none;\n",
              "      fill: #1967D2;\n",
              "      height: 32px;\n",
              "      padding: 0 0 0 0;\n",
              "      width: 32px;\n",
              "    }\n",
              "\n",
              "    .colab-df-convert:hover {\n",
              "      background-color: #E2EBFA;\n",
              "      box-shadow: 0px 1px 2px rgba(60, 64, 67, 0.3), 0px 1px 3px 1px rgba(60, 64, 67, 0.15);\n",
              "      fill: #174EA6;\n",
              "    }\n",
              "\n",
              "    [theme=dark] .colab-df-convert {\n",
              "      background-color: #3B4455;\n",
              "      fill: #D2E3FC;\n",
              "    }\n",
              "\n",
              "    [theme=dark] .colab-df-convert:hover {\n",
              "      background-color: #434B5C;\n",
              "      box-shadow: 0px 1px 3px 1px rgba(0, 0, 0, 0.15);\n",
              "      filter: drop-shadow(0px 1px 2px rgba(0, 0, 0, 0.3));\n",
              "      fill: #FFFFFF;\n",
              "    }\n",
              "  </style>\n",
              "\n",
              "      <script>\n",
              "        const buttonEl =\n",
              "          document.querySelector('#df-aed0122a-f4b4-49a7-8546-ecc71c136689 button.colab-df-convert');\n",
              "        buttonEl.style.display =\n",
              "          google.colab.kernel.accessAllowed ? 'block' : 'none';\n",
              "\n",
              "        async function convertToInteractive(key) {\n",
              "          const element = document.querySelector('#df-aed0122a-f4b4-49a7-8546-ecc71c136689');\n",
              "          const dataTable =\n",
              "            await google.colab.kernel.invokeFunction('convertToInteractive',\n",
              "                                                     [key], {});\n",
              "          if (!dataTable) return;\n",
              "\n",
              "          const docLinkHtml = 'Like what you see? Visit the ' +\n",
              "            '<a target=\"_blank\" href=https://colab.research.google.com/notebooks/data_table.ipynb>data table notebook</a>'\n",
              "            + ' to learn more about interactive tables.';\n",
              "          element.innerHTML = '';\n",
              "          dataTable['output_type'] = 'display_data';\n",
              "          await google.colab.output.renderOutput(dataTable, element);\n",
              "          const docLink = document.createElement('div');\n",
              "          docLink.innerHTML = docLinkHtml;\n",
              "          element.appendChild(docLink);\n",
              "        }\n",
              "      </script>\n",
              "    </div>\n",
              "  </div>\n",
              "  "
            ]
          },
          "metadata": {},
          "execution_count": 29
        }
      ],
      "source": [
        "good_platform_PS4.plot(x='user_score', y='all_sales', style='o', title='Отзывы пользователей PS4' );\n",
        "plt.show()\n",
        "good_platform_PS4.plot(x='critic_score', y='all_sales',style='o', title='Отзывы критиков PS4' );\n",
        "plt.show()\n",
        "good_platform_PS4[['user_score', 'critic_score', 'all_sales']].corr()"
      ]
    },
    {
      "cell_type": "markdown",
      "metadata": {
        "id": "EdHYZA7Fmr2Z"
      },
      "source": [
        "Оценки пользователей и критиков никак не влияют на продажи"
      ]
    },
    {
      "cell_type": "markdown",
      "metadata": {
        "id": "3p3BtAZZmr2a"
      },
      "source": [
        "<div class=\"alert alert-success\">\n",
        "<b>✔️ Комментарий ревьюера V2:</b> Даже 0.5-0.6 - это слабая корреляция. Значимая корреляция начинается с 0.7"
      ]
    },
    {
      "cell_type": "code",
      "execution_count": 30,
      "metadata": {
        "colab": {
          "base_uri": "https://localhost:8080/",
          "height": 1000
        },
        "id": "n0T1-xMJmr2b",
        "outputId": "246327cb-0512-468a-b833-8df08d9ae23b"
      },
      "outputs": [
        {
          "output_type": "display_data",
          "data": {
            "text/plain": [
              "<Figure size 640x480 with 1 Axes>"
            ],
            "image/png": "[encoded data removed]"
          },
          "metadata": {}
        },
        {
          "output_type": "display_data",
          "data": {
            "text/plain": [
              "<Figure size 640x480 with 1 Axes>"
            ],
            "image/png": "[encoded data removed]"
          },
          "metadata": {}
        },
        {
          "output_type": "execute_result",
          "data": {
            "text/plain": [
              "              user_score  critic_score  all_sales\n",
              "user_score      1.000000      0.467901  -0.001964\n",
              "critic_score    0.467901      1.000000   0.325527\n",
              "all_sales      -0.001964      0.325527   1.000000"
            ],
            "text/html": [
              "\n",
              "  <div id=\"df-2809ef23-a7d8-42d6-8a99-e96ac0c71202\">\n",
              "    <div class=\"colab-df-container\">\n",
              "      <div>\n",
              "<style scoped>\n",
              "    .dataframe tbody tr th:only-of-type {\n",
              "        vertical-align: middle;\n",
              "    }\n",
              "\n",
              "    .dataframe tbody tr th {\n",
              "        vertical-align: top;\n",
              "    }\n",
              "\n",
              "    .dataframe thead th {\n",
              "        text-align: right;\n",
              "    }\n",
              "</style>\n",
              "<table border=\"1\" class=\"dataframe\">\n",
              "  <thead>\n",
              "    <tr style=\"text-align: right;\">\n",
              "      <th></th>\n",
              "      <th>user_score</th>\n",
              "      <th>critic_score</th>\n",
              "      <th>all_sales</th>\n",
              "    </tr>\n",
              "  </thead>\n",
              "  <tbody>\n",
              "    <tr>\n",
              "      <th>user_score</th>\n",
              "      <td>1.000000</td>\n",
              "      <td>0.467901</td>\n",
              "      <td>-0.001964</td>\n",
              "    </tr>\n",
              "    <tr>\n",
              "      <th>critic_score</th>\n",
              "      <td>0.467901</td>\n",
              "      <td>1.000000</td>\n",
              "      <td>0.325527</td>\n",
              "    </tr>\n",
              "    <tr>\n",
              "      <th>all_sales</th>\n",
              "      <td>-0.001964</td>\n",
              "      <td>0.325527</td>\n",
              "      <td>1.000000</td>\n",
              "    </tr>\n",
              "  </tbody>\n",
              "</table>\n",
              "</div>\n",
              "      <button class=\"colab-df-convert\" onclick=\"convertToInteractive('df-2809ef23-a7d8-42d6-8a99-e96ac0c71202')\"\n",
              "              title=\"Convert this dataframe to an interactive table.\"\n",
              "              style=\"display:none;\">\n",
              "        \n",
              "  <svg xmlns=\"http://www.w3.org/2000/svg\" height=\"24px\"viewBox=\"0 0 24 24\"\n",
              "       width=\"24px\">\n",
              "    <path d=\"M0 0h24v24H0V0z\" fill=\"none\"/>\n",
              "    <path d=\"M18.56 5.44l.94 2.06.94-2.06 2.06-.94-2.06-.94-.94-2.06-.94 2.06-2.06.94zm-11 1L8.5 8.5l.94-2.06 2.06-.94-2.06-.94L8.5 2.5l-.94 2.06-2.06.94zm10 10l.94 2.06.94-2.06 2.06-.94-2.06-.94-.94-2.06-.94 2.06-2.06.94z\"/><path d=\"M17.41 7.96l-1.37-1.37c-.4-.4-.92-.59-1.43-.59-.52 0-1.04.2-1.43.59L10.3 9.45l-7.72 7.72c-.78.78-.78 2.05 0 2.83L4 21.41c.39.39.9.59 1.41.59.51 0 1.02-.2 1.41-.59l7.78-7.78 2.81-2.81c.8-.78.8-2.07 0-2.86zM5.41 20L4 18.59l7.72-7.72 1.47 1.35L5.41 20z\"/>\n",
              "  </svg>\n",
              "      </button>\n",
              "      \n",
              "  <style>\n",
              "    .colab-df-container {\n",
              "      display:flex;\n",
              "      flex-wrap:wrap;\n",
              "      gap: 12px;\n",
              "    }\n",
              "\n",
              "    .colab-df-convert {\n",
              "      background-color: #E8F0FE;\n",
              "      border: none;\n",
              "      border-radius: 50%;\n",
              "      cursor: pointer;\n",
              "      display: none;\n",
              "      fill: #1967D2;\n",
              "      height: 32px;\n",
              "      padding: 0 0 0 0;\n",
              "      width: 32px;\n",
              "    }\n",
              "\n",
              "    .colab-df-convert:hover {\n",
              "      background-color: #E2EBFA;\n",
              "      box-shadow: 0px 1px 2px rgba(60, 64, 67, 0.3), 0px 1px 3px 1px rgba(60, 64, 67, 0.15);\n",
              "      fill: #174EA6;\n",
              "    }\n",
              "\n",
              "    [theme=dark] .colab-df-convert {\n",
              "      background-color: #3B4455;\n",
              "      fill: #D2E3FC;\n",
              "    }\n",
              "\n",
              "    [theme=dark] .colab-df-convert:hover {\n",
              "      background-color: #434B5C;\n",
              "      box-shadow: 0px 1px 3px 1px rgba(0, 0, 0, 0.15);\n",
              "      filter: drop-shadow(0px 1px 2px rgba(0, 0, 0, 0.3));\n",
              "      fill: #FFFFFF;\n",
              "    }\n",
              "  </style>\n",
              "\n",
              "      <script>\n",
              "        const buttonEl =\n",
              "          document.querySelector('#df-2809ef23-a7d8-42d6-8a99-e96ac0c71202 button.colab-df-convert');\n",
              "        buttonEl.style.display =\n",
              "          google.colab.kernel.accessAllowed ? 'block' : 'none';\n",
              "\n",
              "        async function convertToInteractive(key) {\n",
              "          const element = document.querySelector('#df-2809ef23-a7d8-42d6-8a99-e96ac0c71202');\n",
              "          const dataTable =\n",
              "            await google.colab.kernel.invokeFunction('convertToInteractive',\n",
              "                                                     [key], {});\n",
              "          if (!dataTable) return;\n",
              "\n",
              "          const docLinkHtml = 'Like what you see? Visit the ' +\n",
              "            '<a target=\"_blank\" href=https://colab.research.google.com/notebooks/data_table.ipynb>data table notebook</a>'\n",
              "            + ' to learn more about interactive tables.';\n",
              "          element.innerHTML = '';\n",
              "          dataTable['output_type'] = 'display_data';\n",
              "          await google.colab.output.renderOutput(dataTable, element);\n",
              "          const docLink = document.createElement('div');\n",
              "          docLink.innerHTML = docLinkHtml;\n",
              "          element.appendChild(docLink);\n",
              "        }\n",
              "      </script>\n",
              "    </div>\n",
              "  </div>\n",
              "  "
            ]
          },
          "metadata": {},
          "execution_count": 30
        }
      ],
      "source": [
        "current_years_games.plot(x='user_score', y='all_sales', style='o', title='Отзывы пользователей' );\n",
        "plt.show()\n",
        "current_years_games.plot(x='critic_score', y='all_sales',style='o', title='Отзывы критиков' );\n",
        "plt.show()\n",
        "current_years_games[['user_score', 'critic_score', 'all_sales']].corr()"
      ]
    },
    {
      "cell_type": "markdown",
      "metadata": {
        "id": "_mPGByW8mr2b"
      },
      "source": [
        "Зависимость отсутствует."
      ]
    },
    {
      "cell_type": "code",
      "execution_count": 31,
      "metadata": {
        "colab": {
          "base_uri": "https://localhost:8080/",
          "height": 457
        },
        "id": "qCDlUFMNmr2c",
        "outputId": "9fa5e99f-5e4a-441a-bfc9-5011f3f7b511"
      },
      "outputs": [
        {
          "output_type": "execute_result",
          "data": {
            "text/plain": [
              "                  mean\n",
              "genre                 \n",
              "Shooter       1.305309\n",
              "Sports        0.601215\n",
              "Role-Playing  0.422879\n",
              "Fighting      0.334324\n",
              "Platform      0.331429\n",
              "Racing        0.258571\n",
              "Action        0.236961\n",
              "Simulation    0.228788\n",
              "Misc          0.199577\n",
              "Adventure     0.108909\n",
              "Puzzle        0.102857\n",
              "Strategy      0.102759"
            ],
            "text/html": [
              "\n",
              "  <div id=\"df-5cf09be4-d64c-441b-895c-b26c67f8fc48\">\n",
              "    <div class=\"colab-df-container\">\n",
              "      <div>\n",
              "<style scoped>\n",
              "    .dataframe tbody tr th:only-of-type {\n",
              "        vertical-align: middle;\n",
              "    }\n",
              "\n",
              "    .dataframe tbody tr th {\n",
              "        vertical-align: top;\n",
              "    }\n",
              "\n",
              "    .dataframe thead th {\n",
              "        text-align: right;\n",
              "    }\n",
              "</style>\n",
              "<table border=\"1\" class=\"dataframe\">\n",
              "  <thead>\n",
              "    <tr style=\"text-align: right;\">\n",
              "      <th></th>\n",
              "      <th>mean</th>\n",
              "    </tr>\n",
              "    <tr>\n",
              "      <th>genre</th>\n",
              "      <th></th>\n",
              "    </tr>\n",
              "  </thead>\n",
              "  <tbody>\n",
              "    <tr>\n",
              "      <th>Shooter</th>\n",
              "      <td>1.305309</td>\n",
              "    </tr>\n",
              "    <tr>\n",
              "      <th>Sports</th>\n",
              "      <td>0.601215</td>\n",
              "    </tr>\n",
              "    <tr>\n",
              "      <th>Role-Playing</th>\n",
              "      <td>0.422879</td>\n",
              "    </tr>\n",
              "    <tr>\n",
              "      <th>Fighting</th>\n",
              "      <td>0.334324</td>\n",
              "    </tr>\n",
              "    <tr>\n",
              "      <th>Platform</th>\n",
              "      <td>0.331429</td>\n",
              "    </tr>\n",
              "    <tr>\n",
              "      <th>Racing</th>\n",
              "      <td>0.258571</td>\n",
              "    </tr>\n",
              "    <tr>\n",
              "      <th>Action</th>\n",
              "      <td>0.236961</td>\n",
              "    </tr>\n",
              "    <tr>\n",
              "      <th>Simulation</th>\n",
              "      <td>0.228788</td>\n",
              "    </tr>\n",
              "    <tr>\n",
              "      <th>Misc</th>\n",
              "      <td>0.199577</td>\n",
              "    </tr>\n",
              "    <tr>\n",
              "      <th>Adventure</th>\n",
              "      <td>0.108909</td>\n",
              "    </tr>\n",
              "    <tr>\n",
              "      <th>Puzzle</th>\n",
              "      <td>0.102857</td>\n",
              "    </tr>\n",
              "    <tr>\n",
              "      <th>Strategy</th>\n",
              "      <td>0.102759</td>\n",
              "    </tr>\n",
              "  </tbody>\n",
              "</table>\n",
              "</div>\n",
              "      <button class=\"colab-df-convert\" onclick=\"convertToInteractive('df-5cf09be4-d64c-441b-895c-b26c67f8fc48')\"\n",
              "              title=\"Convert this dataframe to an interactive table.\"\n",
              "              style=\"display:none;\">\n",
              "        \n",
              "  <svg xmlns=\"http://www.w3.org/2000/svg\" height=\"24px\"viewBox=\"0 0 24 24\"\n",
              "       width=\"24px\">\n",
              "    <path d=\"M0 0h24v24H0V0z\" fill=\"none\"/>\n",
              "    <path d=\"M18.56 5.44l.94 2.06.94-2.06 2.06-.94-2.06-.94-.94-2.06-.94 2.06-2.06.94zm-11 1L8.5 8.5l.94-2.06 2.06-.94-2.06-.94L8.5 2.5l-.94 2.06-2.06.94zm10 10l.94 2.06.94-2.06 2.06-.94-2.06-.94-.94-2.06-.94 2.06-2.06.94z\"/><path d=\"M17.41 7.96l-1.37-1.37c-.4-.4-.92-.59-1.43-.59-.52 0-1.04.2-1.43.59L10.3 9.45l-7.72 7.72c-.78.78-.78 2.05 0 2.83L4 21.41c.39.39.9.59 1.41.59.51 0 1.02-.2 1.41-.59l7.78-7.78 2.81-2.81c.8-.78.8-2.07 0-2.86zM5.41 20L4 18.59l7.72-7.72 1.47 1.35L5.41 20z\"/>\n",
              "  </svg>\n",
              "      </button>\n",
              "      \n",
              "  <style>\n",
              "    .colab-df-container {\n",
              "      display:flex;\n",
              "      flex-wrap:wrap;\n",
              "      gap: 12px;\n",
              "    }\n",
              "\n",
              "    .colab-df-convert {\n",
              "      background-color: #E8F0FE;\n",
              "      border: none;\n",
              "      border-radius: 50%;\n",
              "      cursor: pointer;\n",
              "      display: none;\n",
              "      fill: #1967D2;\n",
              "      height: 32px;\n",
              "      padding: 0 0 0 0;\n",
              "      width: 32px;\n",
              "    }\n",
              "\n",
              "    .colab-df-convert:hover {\n",
              "      background-color: #E2EBFA;\n",
              "      box-shadow: 0px 1px 2px rgba(60, 64, 67, 0.3), 0px 1px 3px 1px rgba(60, 64, 67, 0.15);\n",
              "      fill: #174EA6;\n",
              "    }\n",
              "\n",
              "    [theme=dark] .colab-df-convert {\n",
              "      background-color: #3B4455;\n",
              "      fill: #D2E3FC;\n",
              "    }\n",
              "\n",
              "    [theme=dark] .colab-df-convert:hover {\n",
              "      background-color: #434B5C;\n",
              "      box-shadow: 0px 1px 3px 1px rgba(0, 0, 0, 0.15);\n",
              "      filter: drop-shadow(0px 1px 2px rgba(0, 0, 0, 0.3));\n",
              "      fill: #FFFFFF;\n",
              "    }\n",
              "  </style>\n",
              "\n",
              "      <script>\n",
              "        const buttonEl =\n",
              "          document.querySelector('#df-5cf09be4-d64c-441b-895c-b26c67f8fc48 button.colab-df-convert');\n",
              "        buttonEl.style.display =\n",
              "          google.colab.kernel.accessAllowed ? 'block' : 'none';\n",
              "\n",
              "        async function convertToInteractive(key) {\n",
              "          const element = document.querySelector('#df-5cf09be4-d64c-441b-895c-b26c67f8fc48');\n",
              "          const dataTable =\n",
              "            await google.colab.kernel.invokeFunction('convertToInteractive',\n",
              "                                                     [key], {});\n",
              "          if (!dataTable) return;\n",
              "\n",
              "          const docLinkHtml = 'Like what you see? Visit the ' +\n",
              "            '<a target=\"_blank\" href=https://colab.research.google.com/notebooks/data_table.ipynb>data table notebook</a>'\n",
              "            + ' to learn more about interactive tables.';\n",
              "          element.innerHTML = '';\n",
              "          dataTable['output_type'] = 'display_data';\n",
              "          await google.colab.output.renderOutput(dataTable, element);\n",
              "          const docLink = document.createElement('div');\n",
              "          docLink.innerHTML = docLinkHtml;\n",
              "          element.appendChild(docLink);\n",
              "        }\n",
              "      </script>\n",
              "    </div>\n",
              "  </div>\n",
              "  "
            ]
          },
          "metadata": {},
          "execution_count": 31
        }
      ],
      "source": [
        "current_years_games.groupby('genre')['all_sales'].agg(['mean']).sort_values(by='mean', ascending=False)"
      ]
    },
    {
      "cell_type": "code",
      "execution_count": 32,
      "metadata": {
        "colab": {
          "base_uri": "https://localhost:8080/",
          "height": 521
        },
        "id": "9qeoIWHzmr2c",
        "outputId": "f0f30a09-b3c2-4a26-c000-daac460daacb"
      },
      "outputs": [
        {
          "output_type": "display_data",
          "data": {
            "text/plain": [
              "<Figure size 640x480 with 1 Axes>"
            ],
            "image/png": "[encoded data removed]"
          },
          "metadata": {}
        }
      ],
      "source": [
        "current_years_games.groupby('genre')['all_sales'].agg(['mean']).sort_values(by='mean', ascending=False).plot(kind='bar');"
      ]
    },
    {
      "cell_type": "markdown",
      "metadata": {
        "id": "fOeedLLKmr2c"
      },
      "source": [
        "Жанры с высоким продажами выделяются, так=же как и с низкими. Самые популярные жанры Shooter, Sports, Role-Playing.\n",
        "Самые не популярные Adventure, Puzzle, Strategy.\n",
        "За стратегии обидно. Но всё объясняется тем, что в последнее время не выходит хороших стратегий.\n"
      ]
    },
    {
      "cell_type": "code",
      "execution_count": 33,
      "metadata": {
        "colab": {
          "base_uri": "https://localhost:8080/",
          "height": 238
        },
        "id": "-gPwt8cnmr2d",
        "outputId": "f4e1f200-7101-4eea-ca7e-4629f0987846"
      },
      "outputs": [
        {
          "output_type": "execute_result",
          "data": {
            "text/plain": [
              "              mean\n",
              "platform          \n",
              "PS4       0.625083\n",
              "XOne      0.516707\n",
              "WiiU      0.498810\n",
              "3DS       0.325152\n",
              "X360      0.280833"
            ],
            "text/html": [
              "\n",
              "  <div id=\"df-d31c069a-bf51-47b4-bf54-0dc0ad3a3e69\">\n",
              "    <div class=\"colab-df-container\">\n",
              "      <div>\n",
              "<style scoped>\n",
              "    .dataframe tbody tr th:only-of-type {\n",
              "        vertical-align: middle;\n",
              "    }\n",
              "\n",
              "    .dataframe tbody tr th {\n",
              "        vertical-align: top;\n",
              "    }\n",
              "\n",
              "    .dataframe thead th {\n",
              "        text-align: right;\n",
              "    }\n",
              "</style>\n",
              "<table border=\"1\" class=\"dataframe\">\n",
              "  <thead>\n",
              "    <tr style=\"text-align: right;\">\n",
              "      <th></th>\n",
              "      <th>mean</th>\n",
              "    </tr>\n",
              "    <tr>\n",
              "      <th>platform</th>\n",
              "      <th></th>\n",
              "    </tr>\n",
              "  </thead>\n",
              "  <tbody>\n",
              "    <tr>\n",
              "      <th>PS4</th>\n",
              "      <td>0.625083</td>\n",
              "    </tr>\n",
              "    <tr>\n",
              "      <th>XOne</th>\n",
              "      <td>0.516707</td>\n",
              "    </tr>\n",
              "    <tr>\n",
              "      <th>WiiU</th>\n",
              "      <td>0.498810</td>\n",
              "    </tr>\n",
              "    <tr>\n",
              "      <th>3DS</th>\n",
              "      <td>0.325152</td>\n",
              "    </tr>\n",
              "    <tr>\n",
              "      <th>X360</th>\n",
              "      <td>0.280833</td>\n",
              "    </tr>\n",
              "  </tbody>\n",
              "</table>\n",
              "</div>\n",
              "      <button class=\"colab-df-convert\" onclick=\"convertToInteractive('df-d31c069a-bf51-47b4-bf54-0dc0ad3a3e69')\"\n",
              "              title=\"Convert this dataframe to an interactive table.\"\n",
              "              style=\"display:none;\">\n",
              "        \n",
              "  <svg xmlns=\"http://www.w3.org/2000/svg\" height=\"24px\"viewBox=\"0 0 24 24\"\n",
              "       width=\"24px\">\n",
              "    <path d=\"M0 0h24v24H0V0z\" fill=\"none\"/>\n",
              "    <path d=\"M18.56 5.44l.94 2.06.94-2.06 2.06-.94-2.06-.94-.94-2.06-.94 2.06-2.06.94zm-11 1L8.5 8.5l.94-2.06 2.06-.94-2.06-.94L8.5 2.5l-.94 2.06-2.06.94zm10 10l.94 2.06.94-2.06 2.06-.94-2.06-.94-.94-2.06-.94 2.06-2.06.94z\"/><path d=\"M17.41 7.96l-1.37-1.37c-.4-.4-.92-.59-1.43-.59-.52 0-1.04.2-1.43.59L10.3 9.45l-7.72 7.72c-.78.78-.78 2.05 0 2.83L4 21.41c.39.39.9.59 1.41.59.51 0 1.02-.2 1.41-.59l7.78-7.78 2.81-2.81c.8-.78.8-2.07 0-2.86zM5.41 20L4 18.59l7.72-7.72 1.47 1.35L5.41 20z\"/>\n",
              "  </svg>\n",
              "      </button>\n",
              "      \n",
              "  <style>\n",
              "    .colab-df-container {\n",
              "      display:flex;\n",
              "      flex-wrap:wrap;\n",
              "      gap: 12px;\n",
              "    }\n",
              "\n",
              "    .colab-df-convert {\n",
              "      background-color: #E8F0FE;\n",
              "      border: none;\n",
              "      border-radius: 50%;\n",
              "      cursor: pointer;\n",
              "      display: none;\n",
              "      fill: #1967D2;\n",
              "      height: 32px;\n",
              "      padding: 0 0 0 0;\n",
              "      width: 32px;\n",
              "    }\n",
              "\n",
              "    .colab-df-convert:hover {\n",
              "      background-color: #E2EBFA;\n",
              "      box-shadow: 0px 1px 2px rgba(60, 64, 67, 0.3), 0px 1px 3px 1px rgba(60, 64, 67, 0.15);\n",
              "      fill: #174EA6;\n",
              "    }\n",
              "\n",
              "    [theme=dark] .colab-df-convert {\n",
              "      background-color: #3B4455;\n",
              "      fill: #D2E3FC;\n",
              "    }\n",
              "\n",
              "    [theme=dark] .colab-df-convert:hover {\n",
              "      background-color: #434B5C;\n",
              "      box-shadow: 0px 1px 3px 1px rgba(0, 0, 0, 0.15);\n",
              "      filter: drop-shadow(0px 1px 2px rgba(0, 0, 0, 0.3));\n",
              "      fill: #FFFFFF;\n",
              "    }\n",
              "  </style>\n",
              "\n",
              "      <script>\n",
              "        const buttonEl =\n",
              "          document.querySelector('#df-d31c069a-bf51-47b4-bf54-0dc0ad3a3e69 button.colab-df-convert');\n",
              "        buttonEl.style.display =\n",
              "          google.colab.kernel.accessAllowed ? 'block' : 'none';\n",
              "\n",
              "        async function convertToInteractive(key) {\n",
              "          const element = document.querySelector('#df-d31c069a-bf51-47b4-bf54-0dc0ad3a3e69');\n",
              "          const dataTable =\n",
              "            await google.colab.kernel.invokeFunction('convertToInteractive',\n",
              "                                                     [key], {});\n",
              "          if (!dataTable) return;\n",
              "\n",
              "          const docLinkHtml = 'Like what you see? Visit the ' +\n",
              "            '<a target=\"_blank\" href=https://colab.research.google.com/notebooks/data_table.ipynb>data table notebook</a>'\n",
              "            + ' to learn more about interactive tables.';\n",
              "          element.innerHTML = '';\n",
              "          dataTable['output_type'] = 'display_data';\n",
              "          await google.colab.output.renderOutput(dataTable, element);\n",
              "          const docLink = document.createElement('div');\n",
              "          docLink.innerHTML = docLinkHtml;\n",
              "          element.appendChild(docLink);\n",
              "        }\n",
              "      </script>\n",
              "    </div>\n",
              "  </div>\n",
              "  "
            ]
          },
          "metadata": {},
          "execution_count": 33
        }
      ],
      "source": [
        "platform_sales"
      ]
    },
    {
      "cell_type": "code",
      "execution_count": 34,
      "metadata": {
        "colab": {
          "base_uri": "https://localhost:8080/"
        },
        "id": "Hi5pPq2Dmr2e",
        "outputId": "c4977ce6-5e9d-4955-c9af-d9d249c4b582"
      },
      "outputs": [
        {
          "output_type": "execute_result",
          "data": {
            "text/plain": [
              "array(['PS4', 'XOne', 'WiiU', '3DS', 'X360'], dtype=object)"
            ]
          },
          "metadata": {},
          "execution_count": 34
        }
      ],
      "source": [
        "good_platform_3DS = current_years_games.loc[current_years_games['platform'].isin(['3DS'])]\n",
        "good_platform_X360 = current_years_games.loc[current_years_games['platform'].isin(['X360'])]\n",
        "top_platform = pd.concat([good_platform_PS4, good_platform_XOne, good_platform_WiiU, good_platform_3DS, good_platform_X360], ignore_index = True)\n",
        "top_platform['platform'].unique()"
      ]
    },
    {
      "cell_type": "code",
      "execution_count": 35,
      "metadata": {
        "colab": {
          "base_uri": "https://localhost:8080/",
          "height": 452
        },
        "id": "XKdqnixnmr2e",
        "outputId": "938802ec-0f66-4c50-ca51-837fc561b9ef"
      },
      "outputs": [
        {
          "output_type": "display_data",
          "data": {
            "text/plain": [
              "<Figure size 640x480 with 1 Axes>"
            ],
            "image/png": "[encoded data removed]"
          },
          "metadata": {}
        }
      ],
      "source": [
        "\n",
        "platform_na_sales = top_platform.groupby('platform')['na_sales'].agg(['mean']).head()\n",
        "platform_eu_sales = top_platform.groupby('platform')['eu_sales'].agg(['mean']).head()\n",
        "platform_jp_sales = top_platform.groupby('platform')['jp_sales'].agg(['mean']).head()\n",
        "plt.plot(platform_na_sales)\n",
        "plt.plot(platform_eu_sales)\n",
        "plt.plot(platform_jp_sales)\n",
        "plt.title('Популярность платформ по странам')\n",
        "plt.legend(['Америка', 'Европа', 'Япония']);"
      ]
    },
    {
      "cell_type": "markdown",
      "metadata": {
        "id": "7K00jXsWmr2e"
      },
      "source": [
        "В северной Америке продаж XOne, а меньше всего 3DS.\n",
        "В Европе больше всего продаж PS4, а меньше всего 3DS.\n",
        "В Японии популярна 3DS и совсем не популярны X360 и XOne."
      ]
    },
    {
      "cell_type": "code",
      "execution_count": 36,
      "metadata": {
        "colab": {
          "base_uri": "https://localhost:8080/",
          "height": 452
        },
        "id": "IQPbML-Nmr2f",
        "outputId": "bf5b4e3f-4722-4352-f5c9-92c85b2c4f6c"
      },
      "outputs": [
        {
          "output_type": "display_data",
          "data": {
            "text/plain": [
              "<Figure size 640x480 with 1 Axes>"
            ],
            "image/png": "[encoded data removed]"
          },
          "metadata": {}
        }
      ],
      "source": [
        "genre_na_sales = current_years_games.groupby('genre')['na_sales'].agg(['mean']).head()\n",
        "genre_eu_sales = current_years_games.groupby('genre')['eu_sales'].agg(['mean']).head()\n",
        "genre_jp_sales = current_years_games.groupby('genre')['jp_sales'].agg(['mean']).head()\n",
        "plt.plot(genre_na_sales)\n",
        "plt.plot(genre_eu_sales)\n",
        "plt.plot(genre_jp_sales)\n",
        "plt.title('Популярность жанров по странам')\n",
        "plt.legend(['Америка', 'Европа', 'Япония']);"
      ]
    },
    {
      "cell_type": "markdown",
      "metadata": {
        "id": "ViHFwg6umr2f"
      },
      "source": [
        "В Америке и Европе любят жанр Fighting и Platform, не очень любят Adventure и Misc.\n",
        "В Японии нет особых скачков, почти одинаково относятся ко всем жанрам, но не особо жалуют Adventure.\n"
      ]
    },
    {
      "cell_type": "code",
      "execution_count": 37,
      "metadata": {
        "colab": {
          "base_uri": "https://localhost:8080/",
          "height": 1000
        },
        "id": "NH8bKyGwmr2f",
        "outputId": "fe70e409-1fee-4124-8c0b-4c3ca955dc1d"
      },
      "outputs": [
        {
          "output_type": "display_data",
          "data": {
            "text/plain": [
              "<Figure size 600x600 with 1 Axes>"
            ],
            "image/png": "[encoded data removed]"
          },
          "metadata": {}
        },
        {
          "output_type": "display_data",
          "data": {
            "text/plain": [
              "<Figure size 600x600 with 1 Axes>"
            ],
            "image/png": "[encoded data removed]"
          },
          "metadata": {}
        },
        {
          "output_type": "display_data",
          "data": {
            "text/plain": [
              "<Figure size 600x600 with 1 Axes>"
            ],
            "image/png": "[encoded data removed]"
          },
          "metadata": {}
        }
      ],
      "source": [
        "rating_na_sales = current_years_games.groupby('rating')['na_sales'].agg(['mean']).head()\n",
        "rating_eu_sales = current_years_games.groupby('rating')['eu_sales'].agg(['mean']).head()\n",
        "rating_jp_sales = current_years_games.groupby('rating')['jp_sales'].agg(['mean']).head()\n",
        "\n",
        "rating_na_sales.plot(kind='pie', y='mean',figsize =(6,6), title = 'Продажи по рейтингу в Америке', normalize=False);\n",
        "plt.show()\n",
        "rating_eu_sales.plot(kind='pie', y='mean',figsize =(6,6), title = 'Продажи по рейтингу в Европе', normalize=False);\n",
        "plt.show()\n",
        "rating_jp_sales.plot(kind='pie', y='mean',figsize =(6,6), title = 'Продажи по рейтингу в Японии', normalize=False);\n",
        "plt.show()"
      ]
    },
    {
      "cell_type": "markdown",
      "metadata": {
        "id": "EVy51WH7mr2g"
      },
      "source": [
        "В Японии больеше предпочитают игры не имеющие рейтинга.\n",
        "В Америке и Европе предпочитают играть в игры для взрослых, менее, но значительно продают игры для всех и от 10 лет. А вот игры без рейтинга их особо не интересуют."
      ]
    },
    {
      "cell_type": "markdown",
      "metadata": {
        "id": "Wn8_nqwdmr2h"
      },
      "source": [
        "## Проверьте гипотезы"
      ]
    },
    {
      "cell_type": "code",
      "source": [],
      "metadata": {
        "id": "RtMJee-OW3FH"
      },
      "execution_count": 37,
      "outputs": []
    },
    {
      "cell_type": "code",
      "execution_count": 38,
      "metadata": {
        "id": "1dlhyTuNmr2h"
      },
      "outputs": [],
      "source": [
        "games = games.dropna(subset=['user_score'])"
      ]
    },
    {
      "cell_type": "markdown",
      "metadata": {
        "id": "q8-fMo96mr2h"
      },
      "source": [
        "**Первая гипотеза: Средние пользовательские рейтинги платформ Xbox One и PC одинаковые.**\n",
        "\n",
        "```\n",
        "H_0: Средние пользовательские рейтинги (user_score) платформ \"XOne\" = Средние пользовательские рейтинги (user_score) платформ \"PC\"`\n",
        "H_a: Средние пользовательские рейтинги (user_score) платформ \"XOne\" ≠ Средние пользовательские рейтинги (user_score) платформ \"PC\"`\n",
        "alpha = 0.05\n",
        "```"
      ]
    },
    {
      "cell_type": "code",
      "execution_count": 39,
      "metadata": {
        "colab": {
          "base_uri": "https://localhost:8080/"
        },
        "id": "i0fErsCVmr2i",
        "outputId": "42a69817-6ceb-4c73-af47-f0d589327561"
      },
      "outputs": [
        {
          "output_type": "stream",
          "name": "stdout",
          "text": [
            "1.3037979620149106e-05\n",
            "Отвергаем нулевую гипотезу\n"
          ]
        }
      ],
      "source": [
        "xone_platform = games[games['platform'] == 'XOne']['user_score']\n",
        "pc_platform =  games[games['platform'] == 'PC']['user_score']\n",
        "results = st.ttest_ind(a=xone_platform, b=pc_platform, equal_var = True)\n",
        "\n",
        "alpha = .05\n",
        "\n",
        "print(results.pvalue)\n",
        "\n",
        "if results.pvalue < alpha:\n",
        "    print(\"Отвергаем нулевую гипотезу\")\n",
        "else:\n",
        "    print(\"Не получилось отвергнуть нулевую гипотезу\")"
      ]
    },
    {
      "cell_type": "markdown",
      "metadata": {
        "id": "1SGPwIiLmr2i"
      },
      "source": [
        "**Вторая гипотеза: Средние пользовательские рейтинги жанров Action и Sports разные.**\n",
        "```\n",
        "H_0: Средние пользовательские рейтинги (user_score) жанров \"Action\" = Средние пользовательские рейтинги (user_score) жанров \"Sports\"`\n",
        "H_a: Средние пользовательские рейтинги (user_score) жанров \"Action\" ≠ Средние пользовательские рейтинги (user_score) жанров \"Sports\"`\n",
        "alpha = 0.05\n",
        "```"
      ]
    },
    {
      "cell_type": "code",
      "execution_count": 40,
      "metadata": {
        "colab": {
          "base_uri": "https://localhost:8080/"
        },
        "id": "-d6meGTImr2j",
        "outputId": "edd87904-dea0-495d-d663-fdfc174a33bc"
      },
      "outputs": [
        {
          "output_type": "stream",
          "name": "stdout",
          "text": [
            "0.06480928064420527\n",
            "Не получилось отвергнуть нулевую гипотезу\n"
          ]
        }
      ],
      "source": [
        "genre_action = games[games['genre'] == 'Action']['user_score']\n",
        "genre_sports =  games[games['genre'] == 'Sports']['user_score']\n",
        "results = st.ttest_ind(a=genre_action, b=genre_sports, equal_var = True)\n",
        "\n",
        "alpha = .05\n",
        "\n",
        "print(results.pvalue)\n",
        "\n",
        "if results.pvalue < alpha:\n",
        "    print(\"Отвергаем нулевую гипотезу\")\n",
        "else:\n",
        "    print(\"Не получилось отвергнуть нулевую гипотезу\")"
      ]
    },
    {
      "cell_type": "markdown",
      "metadata": {
        "id": "Wjn8nBlMmr2k"
      },
      "source": [
        "## Вывод"
      ]
    },
    {
      "cell_type": "markdown",
      "metadata": {
        "id": "AQZVz1vMmr2k"
      },
      "source": [
        "В предобработке, изучении данных и анализе я провела колосальную работу. Заполнили пропуски в рейтингах, отсортировала их по актуальным и не устаревшим данным, добавили и заполнили значения нового стобца, общей информацией по оценкам. Обработала пропущенные года. Провела анализ рынка платформ, чтобы вычислить актуальный период для анализа. Так-же выявили потенциально прибыльные платформы, влияние оценок пользователей и критиков на продажи. Нашла прибыльные жанры и жарны находящиеся в аутсайдерах. Провела анализ пользователей по регионам, их предпочтения в жанрах, в платформах, отношение к рейтингу ESRB.\n",
        "\n",
        "* Разброс продаж у Хбокса выше чем у WiiU и Сони. Сони популярней своих коллег по цеху.\n",
        "* Продажи не зависят от оценок пользователе и критиков.\n",
        "* Жанры с высоким продажами выделяются, так=же как и с низкими. Самые популярные жанры Shooter, Sports, Role-Playing. Самые не популярные Adventure, Puzzle, Strategy\n",
        "\n",
        "* В северной Америке продаж XOne, а меньше всего 3DS.\n",
        "* В Европе больше всего продаж PS4, а меньше всего 3DS. В Японии популярна 3DS и совсем не популярны X360 и XOne.\n",
        "\n",
        "* В Америке и Европе любят жанр Fighting и Platform, не очень любят Adventure и Misc.\n",
        "* В Японии нет особых скачков, почти одинаково относятся ко всем жанрам, но не особо жалуют Adventure.\n",
        "* Как мы видим, в Японии больеше предпочитают игры не имеющие рейтинга.\n",
        "* В Америке и Европе предпочитают играть в игры для взрослых, менее, но значительно продают игры для всех и от 10 лет. А вот игры без рейтинга их особо не интересуют.\n",
        "* Средние пользовательские рейтинги платформ Xbox One и PC разные.\n",
        "* Средние пользовательские рейтинги жанров Action и Sports одинаковые.\n"
      ]
    }
  ],
  "metadata": {
    "ExecuteTimeLog": [
      {
        "duration": 3,
        "start_time": "2022-11-29T01:27:38.262Z"
      },
      {
        "duration": 3,
        "start_time": "2022-11-29T01:36:21.216Z"
      },
      {
        "duration": 764,
        "start_time": "2022-11-29T01:41:28.228Z"
      },
      {
        "duration": 101,
        "start_time": "2022-11-29T01:41:33.631Z"
      },
      {
        "duration": 68,
        "start_time": "2022-11-29T01:42:05.039Z"
      },
      {
        "duration": 15,
        "start_time": "2022-11-29T01:42:11.765Z"
      },
      {
        "duration": 18,
        "start_time": "2022-11-29T01:42:57.466Z"
      },
      {
        "duration": 14,
        "start_time": "2022-11-29T01:43:15.585Z"
      },
      {
        "duration": 710,
        "start_time": "2022-11-29T01:44:50.127Z"
      },
      {
        "duration": 487,
        "start_time": "2022-11-29T01:45:03.143Z"
      },
      {
        "duration": 613,
        "start_time": "2022-11-29T01:45:12.398Z"
      },
      {
        "duration": 602,
        "start_time": "2022-11-29T01:48:12.319Z"
      },
      {
        "duration": 2166,
        "start_time": "2022-11-29T01:48:25.710Z"
      },
      {
        "duration": 37,
        "start_time": "2022-11-29T01:51:00.117Z"
      },
      {
        "duration": 674,
        "start_time": "2022-11-29T01:51:57.166Z"
      },
      {
        "duration": 592,
        "start_time": "2022-11-29T01:52:26.861Z"
      },
      {
        "duration": 628,
        "start_time": "2022-11-29T01:53:02.633Z"
      },
      {
        "duration": 620,
        "start_time": "2022-11-29T01:53:23.414Z"
      },
      {
        "duration": 724,
        "start_time": "2022-11-29T01:53:35.238Z"
      },
      {
        "duration": 715,
        "start_time": "2022-11-29T01:54:45.791Z"
      },
      {
        "duration": 723,
        "start_time": "2022-11-29T01:55:05.221Z"
      },
      {
        "duration": 664,
        "start_time": "2022-11-29T01:55:37.068Z"
      },
      {
        "duration": 48,
        "start_time": "2022-11-29T01:56:17.945Z"
      },
      {
        "duration": 52,
        "start_time": "2022-11-29T01:56:24.503Z"
      },
      {
        "duration": 648,
        "start_time": "2022-11-29T01:56:47.877Z"
      },
      {
        "duration": 599,
        "start_time": "2022-11-29T01:57:20.260Z"
      },
      {
        "duration": 595,
        "start_time": "2022-11-29T01:57:29.447Z"
      },
      {
        "duration": 720,
        "start_time": "2022-11-29T01:57:49.088Z"
      },
      {
        "duration": 3,
        "start_time": "2022-11-29T01:59:30.664Z"
      },
      {
        "duration": 10,
        "start_time": "2022-11-29T02:14:43.310Z"
      },
      {
        "duration": 3,
        "start_time": "2022-11-29T02:16:04.328Z"
      },
      {
        "duration": 11,
        "start_time": "2022-11-29T02:16:22.662Z"
      },
      {
        "duration": 11,
        "start_time": "2022-11-29T02:16:43.829Z"
      },
      {
        "duration": 8,
        "start_time": "2022-11-29T02:16:50.740Z"
      },
      {
        "duration": 12,
        "start_time": "2022-11-29T02:20:19.510Z"
      },
      {
        "duration": 11,
        "start_time": "2022-11-29T02:25:52.682Z"
      },
      {
        "duration": 223,
        "start_time": "2022-11-29T02:26:15.112Z"
      },
      {
        "duration": 11,
        "start_time": "2022-11-29T02:26:27.288Z"
      },
      {
        "duration": 9,
        "start_time": "2022-11-29T02:27:29.970Z"
      },
      {
        "duration": 4,
        "start_time": "2022-11-29T02:29:05.546Z"
      },
      {
        "duration": 13,
        "start_time": "2022-11-29T02:32:00.972Z"
      },
      {
        "duration": 7,
        "start_time": "2022-11-29T02:39:55.343Z"
      },
      {
        "duration": 6,
        "start_time": "2022-11-29T02:41:54.684Z"
      },
      {
        "duration": 571,
        "start_time": "2022-11-29T02:43:43.186Z"
      },
      {
        "duration": 53,
        "start_time": "2022-11-29T02:43:43.758Z"
      },
      {
        "duration": 621,
        "start_time": "2022-11-29T02:43:43.812Z"
      },
      {
        "duration": 2,
        "start_time": "2022-11-29T02:43:44.435Z"
      },
      {
        "duration": 11,
        "start_time": "2022-11-29T02:43:44.439Z"
      },
      {
        "duration": 150,
        "start_time": "2022-11-29T02:43:44.451Z"
      },
      {
        "duration": 2,
        "start_time": "2022-11-29T02:43:44.603Z"
      },
      {
        "duration": 14,
        "start_time": "2022-11-29T02:43:44.607Z"
      },
      {
        "duration": 8,
        "start_time": "2022-11-29T02:43:44.622Z"
      },
      {
        "duration": 169,
        "start_time": "2022-11-29T02:44:12.305Z"
      },
      {
        "duration": 899,
        "start_time": "2022-11-29T02:46:24.615Z"
      },
      {
        "duration": 208,
        "start_time": "2022-11-29T02:47:16.215Z"
      },
      {
        "duration": 190,
        "start_time": "2022-11-29T02:48:33.693Z"
      },
      {
        "duration": 176,
        "start_time": "2022-11-29T02:48:48.187Z"
      },
      {
        "duration": 47,
        "start_time": "2022-11-29T02:50:21.317Z"
      },
      {
        "duration": 172,
        "start_time": "2022-11-29T02:50:29.779Z"
      },
      {
        "duration": 129,
        "start_time": "2022-11-29T02:51:10.641Z"
      },
      {
        "duration": 13,
        "start_time": "2022-11-29T02:51:38.621Z"
      },
      {
        "duration": 7,
        "start_time": "2022-11-29T02:51:52.732Z"
      },
      {
        "duration": 693,
        "start_time": "2022-11-29T02:53:09.816Z"
      },
      {
        "duration": 576,
        "start_time": "2022-11-29T02:53:47.634Z"
      },
      {
        "duration": 52,
        "start_time": "2022-11-29T02:53:48.212Z"
      },
      {
        "duration": 642,
        "start_time": "2022-11-29T02:53:48.265Z"
      },
      {
        "duration": 2,
        "start_time": "2022-11-29T02:53:48.909Z"
      },
      {
        "duration": 14,
        "start_time": "2022-11-29T02:53:48.913Z"
      },
      {
        "duration": 146,
        "start_time": "2022-11-29T02:53:48.928Z"
      },
      {
        "duration": 6,
        "start_time": "2022-11-29T02:53:49.076Z"
      },
      {
        "duration": 13,
        "start_time": "2022-11-29T02:53:49.083Z"
      },
      {
        "duration": 20,
        "start_time": "2022-11-29T02:53:49.097Z"
      },
      {
        "duration": 181,
        "start_time": "2022-11-29T02:55:23.916Z"
      },
      {
        "duration": 113,
        "start_time": "2022-11-29T02:55:31.835Z"
      },
      {
        "duration": 128,
        "start_time": "2022-11-29T02:55:40.778Z"
      },
      {
        "duration": 160,
        "start_time": "2022-11-29T02:56:34.936Z"
      },
      {
        "duration": 239,
        "start_time": "2022-11-29T02:59:21.625Z"
      },
      {
        "duration": 890,
        "start_time": "2022-11-29T02:59:32.727Z"
      },
      {
        "duration": 788,
        "start_time": "2022-11-29T02:59:51.909Z"
      },
      {
        "duration": 413,
        "start_time": "2022-11-29T03:00:47.825Z"
      },
      {
        "duration": 140,
        "start_time": "2022-11-29T03:07:41.088Z"
      },
      {
        "duration": 130,
        "start_time": "2022-11-29T03:07:47.408Z"
      },
      {
        "duration": 133,
        "start_time": "2022-11-29T03:12:28.872Z"
      },
      {
        "duration": 141,
        "start_time": "2022-11-29T03:15:45.480Z"
      },
      {
        "duration": 126,
        "start_time": "2022-11-29T03:16:52.947Z"
      },
      {
        "duration": 150,
        "start_time": "2022-11-29T03:17:08.194Z"
      },
      {
        "duration": 150,
        "start_time": "2022-11-29T03:17:47.024Z"
      },
      {
        "duration": 153,
        "start_time": "2022-11-29T03:17:51.890Z"
      },
      {
        "duration": 149,
        "start_time": "2022-11-29T03:20:18.344Z"
      },
      {
        "duration": 125,
        "start_time": "2022-11-29T03:21:17.236Z"
      },
      {
        "duration": 214,
        "start_time": "2022-11-29T03:21:34.700Z"
      },
      {
        "duration": 47,
        "start_time": "2022-11-29T03:22:14.846Z"
      },
      {
        "duration": 65,
        "start_time": "2022-11-29T03:22:38.391Z"
      },
      {
        "duration": 162,
        "start_time": "2022-11-29T03:22:46.518Z"
      },
      {
        "duration": 5,
        "start_time": "2022-11-29T03:24:40.446Z"
      },
      {
        "duration": 128,
        "start_time": "2022-11-29T03:26:33.544Z"
      },
      {
        "duration": 46,
        "start_time": "2022-11-29T03:26:47.477Z"
      },
      {
        "duration": 70,
        "start_time": "2022-11-29T03:26:54.163Z"
      },
      {
        "duration": 171,
        "start_time": "2022-11-29T03:27:01.461Z"
      },
      {
        "duration": 124,
        "start_time": "2022-11-29T03:28:13.532Z"
      },
      {
        "duration": 140,
        "start_time": "2022-11-29T03:28:25.515Z"
      },
      {
        "duration": 108,
        "start_time": "2022-11-29T03:29:48.037Z"
      },
      {
        "duration": 123,
        "start_time": "2022-11-29T03:30:02.915Z"
      },
      {
        "duration": 127,
        "start_time": "2022-11-29T03:30:12.259Z"
      },
      {
        "duration": 128,
        "start_time": "2022-11-29T03:30:27.266Z"
      },
      {
        "duration": 45,
        "start_time": "2022-11-30T01:38:44.273Z"
      },
      {
        "duration": 713,
        "start_time": "2022-11-30T01:38:54.441Z"
      },
      {
        "duration": 99,
        "start_time": "2022-11-30T01:38:55.157Z"
      },
      {
        "duration": 668,
        "start_time": "2022-11-30T01:38:55.258Z"
      },
      {
        "duration": 3,
        "start_time": "2022-11-30T01:38:55.928Z"
      },
      {
        "duration": 13,
        "start_time": "2022-11-30T01:38:55.933Z"
      },
      {
        "duration": 137,
        "start_time": "2022-11-30T01:38:55.947Z"
      },
      {
        "duration": 4,
        "start_time": "2022-11-30T01:38:56.086Z"
      },
      {
        "duration": 84,
        "start_time": "2022-11-30T01:38:56.092Z"
      },
      {
        "duration": 0,
        "start_time": "2022-11-30T01:38:56.177Z"
      },
      {
        "duration": 0,
        "start_time": "2022-11-30T01:38:56.178Z"
      },
      {
        "duration": 13,
        "start_time": "2022-11-30T01:39:38.791Z"
      },
      {
        "duration": 66,
        "start_time": "2022-11-30T01:40:18.323Z"
      },
      {
        "duration": 11,
        "start_time": "2022-11-30T01:42:41.955Z"
      },
      {
        "duration": 14,
        "start_time": "2022-11-30T01:43:16.604Z"
      },
      {
        "duration": 7,
        "start_time": "2022-11-30T01:44:51.129Z"
      },
      {
        "duration": 545,
        "start_time": "2022-11-30T01:45:19.769Z"
      },
      {
        "duration": 53,
        "start_time": "2022-11-30T01:45:20.316Z"
      },
      {
        "duration": 652,
        "start_time": "2022-11-30T01:45:20.371Z"
      },
      {
        "duration": 2,
        "start_time": "2022-11-30T01:45:21.025Z"
      },
      {
        "duration": 12,
        "start_time": "2022-11-30T01:45:21.028Z"
      },
      {
        "duration": 138,
        "start_time": "2022-11-30T01:45:21.041Z"
      },
      {
        "duration": 7,
        "start_time": "2022-11-30T01:45:21.180Z"
      },
      {
        "duration": 4,
        "start_time": "2022-11-30T01:45:21.188Z"
      },
      {
        "duration": 4,
        "start_time": "2022-11-30T01:45:21.194Z"
      },
      {
        "duration": 71,
        "start_time": "2022-11-30T01:50:33.614Z"
      },
      {
        "duration": 1330,
        "start_time": "2022-11-30T01:51:00.510Z"
      },
      {
        "duration": 1253,
        "start_time": "2022-11-30T01:52:47.891Z"
      },
      {
        "duration": 5141,
        "start_time": "2022-11-30T01:59:31.960Z"
      },
      {
        "duration": 15,
        "start_time": "2022-11-30T02:06:43.042Z"
      },
      {
        "duration": 2754,
        "start_time": "2022-11-30T02:07:03.838Z"
      },
      {
        "duration": 555,
        "start_time": "2022-11-30T02:08:43.085Z"
      },
      {
        "duration": 52,
        "start_time": "2022-11-30T02:08:43.641Z"
      },
      {
        "duration": 696,
        "start_time": "2022-11-30T02:08:43.694Z"
      },
      {
        "duration": 3,
        "start_time": "2022-11-30T02:08:44.392Z"
      },
      {
        "duration": 13,
        "start_time": "2022-11-30T02:08:44.396Z"
      },
      {
        "duration": 149,
        "start_time": "2022-11-30T02:08:44.411Z"
      },
      {
        "duration": 122,
        "start_time": "2022-11-30T02:08:44.562Z"
      },
      {
        "duration": 3,
        "start_time": "2022-11-30T02:08:44.685Z"
      },
      {
        "duration": 8,
        "start_time": "2022-11-30T02:08:44.689Z"
      },
      {
        "duration": 74,
        "start_time": "2022-11-30T02:27:14.195Z"
      },
      {
        "duration": 14,
        "start_time": "2022-11-30T02:31:46.228Z"
      },
      {
        "duration": 608,
        "start_time": "2022-11-30T02:33:14.507Z"
      },
      {
        "duration": 54,
        "start_time": "2022-11-30T02:33:15.117Z"
      },
      {
        "duration": 717,
        "start_time": "2022-11-30T02:33:15.174Z"
      },
      {
        "duration": 3,
        "start_time": "2022-11-30T02:33:15.893Z"
      },
      {
        "duration": 10,
        "start_time": "2022-11-30T02:33:15.898Z"
      },
      {
        "duration": 128,
        "start_time": "2022-11-30T02:33:15.920Z"
      },
      {
        "duration": 5,
        "start_time": "2022-11-30T02:33:16.049Z"
      },
      {
        "duration": 15,
        "start_time": "2022-11-30T02:33:16.055Z"
      },
      {
        "duration": 3,
        "start_time": "2022-11-30T02:33:16.071Z"
      },
      {
        "duration": 71,
        "start_time": "2022-11-30T02:33:41.834Z"
      },
      {
        "duration": 11,
        "start_time": "2022-11-30T02:34:40.662Z"
      },
      {
        "duration": 561,
        "start_time": "2022-11-30T02:35:08.947Z"
      },
      {
        "duration": 51,
        "start_time": "2022-11-30T02:35:09.510Z"
      },
      {
        "duration": 662,
        "start_time": "2022-11-30T02:35:09.564Z"
      },
      {
        "duration": 3,
        "start_time": "2022-11-30T02:35:10.228Z"
      },
      {
        "duration": 13,
        "start_time": "2022-11-30T02:35:10.232Z"
      },
      {
        "duration": 139,
        "start_time": "2022-11-30T02:35:10.246Z"
      },
      {
        "duration": 5,
        "start_time": "2022-11-30T02:35:10.387Z"
      },
      {
        "duration": 29,
        "start_time": "2022-11-30T02:35:10.393Z"
      },
      {
        "duration": 2,
        "start_time": "2022-11-30T02:35:10.423Z"
      },
      {
        "duration": 12,
        "start_time": "2022-11-30T02:37:18.121Z"
      },
      {
        "duration": 604,
        "start_time": "2022-11-30T02:38:52.396Z"
      },
      {
        "duration": 75,
        "start_time": "2022-11-30T02:38:53.002Z"
      },
      {
        "duration": 644,
        "start_time": "2022-11-30T02:38:53.079Z"
      },
      {
        "duration": 3,
        "start_time": "2022-11-30T02:38:53.725Z"
      },
      {
        "duration": 11,
        "start_time": "2022-11-30T02:38:53.729Z"
      },
      {
        "duration": 134,
        "start_time": "2022-11-30T02:38:53.741Z"
      },
      {
        "duration": 4,
        "start_time": "2022-11-30T02:38:53.877Z"
      },
      {
        "duration": 15,
        "start_time": "2022-11-30T02:38:53.883Z"
      },
      {
        "duration": 28,
        "start_time": "2022-11-30T02:38:53.899Z"
      },
      {
        "duration": 2,
        "start_time": "2022-11-30T02:38:53.929Z"
      },
      {
        "duration": 589,
        "start_time": "2022-11-30T02:46:09.828Z"
      },
      {
        "duration": 51,
        "start_time": "2022-11-30T02:46:10.418Z"
      },
      {
        "duration": 689,
        "start_time": "2022-11-30T02:46:10.471Z"
      },
      {
        "duration": 3,
        "start_time": "2022-11-30T02:46:11.162Z"
      },
      {
        "duration": 8,
        "start_time": "2022-11-30T02:46:11.168Z"
      },
      {
        "duration": 139,
        "start_time": "2022-11-30T02:46:11.178Z"
      },
      {
        "duration": 5,
        "start_time": "2022-11-30T02:46:11.321Z"
      },
      {
        "duration": 15,
        "start_time": "2022-11-30T02:46:11.328Z"
      },
      {
        "duration": 11,
        "start_time": "2022-11-30T02:46:11.344Z"
      },
      {
        "duration": 4,
        "start_time": "2022-11-30T02:46:11.356Z"
      },
      {
        "duration": 5,
        "start_time": "2022-11-30T02:53:53.240Z"
      },
      {
        "duration": 14,
        "start_time": "2022-11-30T02:54:13.670Z"
      },
      {
        "duration": 8,
        "start_time": "2022-11-30T02:56:44.474Z"
      },
      {
        "duration": 66,
        "start_time": "2022-11-30T03:06:49.018Z"
      },
      {
        "duration": 8,
        "start_time": "2022-11-30T03:06:58.442Z"
      },
      {
        "duration": 12,
        "start_time": "2022-11-30T03:07:14.216Z"
      },
      {
        "duration": 15,
        "start_time": "2022-11-30T03:07:53.775Z"
      },
      {
        "duration": 10,
        "start_time": "2022-11-30T03:08:04.948Z"
      },
      {
        "duration": 10,
        "start_time": "2022-11-30T03:19:55.524Z"
      },
      {
        "duration": 60,
        "start_time": "2022-11-30T03:19:59.018Z"
      },
      {
        "duration": 12,
        "start_time": "2022-11-30T03:20:08.954Z"
      },
      {
        "duration": 11,
        "start_time": "2022-11-30T03:20:20.137Z"
      },
      {
        "duration": 113,
        "start_time": "2022-11-30T03:21:34.836Z"
      },
      {
        "duration": 6,
        "start_time": "2022-11-30T03:25:18.466Z"
      },
      {
        "duration": 8,
        "start_time": "2022-11-30T03:26:55.097Z"
      },
      {
        "duration": 14,
        "start_time": "2022-11-30T03:27:05.113Z"
      },
      {
        "duration": 6,
        "start_time": "2022-11-30T03:27:17.096Z"
      },
      {
        "duration": 14,
        "start_time": "2022-11-30T03:27:19.256Z"
      },
      {
        "duration": 8,
        "start_time": "2022-11-30T03:30:24.553Z"
      },
      {
        "duration": 145,
        "start_time": "2022-11-30T03:30:32.953Z"
      },
      {
        "duration": 752,
        "start_time": "2022-11-30T03:30:43.816Z"
      },
      {
        "duration": 43,
        "start_time": "2022-11-30T03:30:58.487Z"
      },
      {
        "duration": 10,
        "start_time": "2022-11-30T03:38:09.597Z"
      },
      {
        "duration": 10,
        "start_time": "2022-11-30T03:38:15.804Z"
      },
      {
        "duration": 260,
        "start_time": "2022-11-30T03:40:12.395Z"
      },
      {
        "duration": 195,
        "start_time": "2022-11-30T03:41:02.248Z"
      },
      {
        "duration": 251,
        "start_time": "2022-11-30T03:45:05.155Z"
      },
      {
        "duration": 239,
        "start_time": "2022-11-30T03:47:23.437Z"
      },
      {
        "duration": 235,
        "start_time": "2022-11-30T03:47:54.540Z"
      },
      {
        "duration": 330,
        "start_time": "2022-11-30T03:48:04.405Z"
      },
      {
        "duration": 251,
        "start_time": "2022-11-30T03:48:42.689Z"
      },
      {
        "duration": 243,
        "start_time": "2022-11-30T03:48:57.408Z"
      },
      {
        "duration": 200,
        "start_time": "2022-11-30T03:50:13.247Z"
      },
      {
        "duration": 205,
        "start_time": "2022-11-30T03:50:36.164Z"
      },
      {
        "duration": 212,
        "start_time": "2022-11-30T03:50:48.952Z"
      },
      {
        "duration": 260,
        "start_time": "2022-11-30T03:50:56.938Z"
      },
      {
        "duration": 187,
        "start_time": "2022-11-30T03:51:01.942Z"
      },
      {
        "duration": 210,
        "start_time": "2022-11-30T03:51:12.037Z"
      },
      {
        "duration": 181,
        "start_time": "2022-11-30T03:52:18.017Z"
      },
      {
        "duration": 183,
        "start_time": "2022-11-30T03:52:27.920Z"
      },
      {
        "duration": 202,
        "start_time": "2022-11-30T04:07:29.272Z"
      },
      {
        "duration": 221,
        "start_time": "2022-11-30T04:08:01.737Z"
      },
      {
        "duration": 215,
        "start_time": "2022-11-30T04:28:08.066Z"
      },
      {
        "duration": 9,
        "start_time": "2022-11-30T04:47:10.423Z"
      },
      {
        "duration": 70,
        "start_time": "2022-11-30T04:47:23.816Z"
      },
      {
        "duration": 173,
        "start_time": "2022-11-30T04:47:32.423Z"
      },
      {
        "duration": 2765,
        "start_time": "2022-11-30T04:48:14.596Z"
      },
      {
        "duration": 7,
        "start_time": "2022-11-30T04:50:31.603Z"
      },
      {
        "duration": 7,
        "start_time": "2022-11-30T04:51:29.410Z"
      },
      {
        "duration": 19,
        "start_time": "2022-11-30T04:52:01.711Z"
      },
      {
        "duration": 6,
        "start_time": "2022-11-30T04:52:19.071Z"
      },
      {
        "duration": 10,
        "start_time": "2022-11-30T04:53:51.910Z"
      },
      {
        "duration": 10,
        "start_time": "2022-11-30T04:55:18.336Z"
      },
      {
        "duration": 147,
        "start_time": "2022-11-30T04:56:42.810Z"
      },
      {
        "duration": 50,
        "start_time": "2022-11-30T04:59:12.751Z"
      },
      {
        "duration": 197,
        "start_time": "2022-11-30T04:59:36.331Z"
      },
      {
        "duration": 296,
        "start_time": "2022-11-30T04:59:55.578Z"
      },
      {
        "duration": 332,
        "start_time": "2022-11-30T05:00:56.199Z"
      },
      {
        "duration": 486,
        "start_time": "2022-11-30T05:01:10.051Z"
      },
      {
        "duration": 436,
        "start_time": "2022-11-30T05:01:54.656Z"
      },
      {
        "duration": 458,
        "start_time": "2022-11-30T05:02:27.490Z"
      },
      {
        "duration": 404,
        "start_time": "2022-11-30T05:02:40.095Z"
      },
      {
        "duration": 404,
        "start_time": "2022-11-30T05:02:47.773Z"
      },
      {
        "duration": 480,
        "start_time": "2022-11-30T05:03:33.373Z"
      },
      {
        "duration": 396,
        "start_time": "2022-11-30T05:03:47.895Z"
      },
      {
        "duration": 412,
        "start_time": "2022-11-30T05:04:00.455Z"
      },
      {
        "duration": 408,
        "start_time": "2022-11-30T05:04:41.260Z"
      },
      {
        "duration": 597,
        "start_time": "2022-11-30T05:05:00.034Z"
      },
      {
        "duration": 416,
        "start_time": "2022-11-30T05:06:25.787Z"
      },
      {
        "duration": 439,
        "start_time": "2022-11-30T05:06:58.200Z"
      },
      {
        "duration": 423,
        "start_time": "2022-11-30T05:10:00.109Z"
      },
      {
        "duration": 611,
        "start_time": "2022-11-30T05:10:18.183Z"
      },
      {
        "duration": 527,
        "start_time": "2022-11-30T05:10:33.606Z"
      },
      {
        "duration": 612,
        "start_time": "2022-11-30T05:10:41.846Z"
      },
      {
        "duration": 382,
        "start_time": "2022-11-30T05:11:06.035Z"
      },
      {
        "duration": 739,
        "start_time": "2022-11-30T18:38:08.280Z"
      },
      {
        "duration": 186,
        "start_time": "2022-11-30T18:38:09.021Z"
      },
      {
        "duration": 696,
        "start_time": "2022-11-30T18:38:09.209Z"
      },
      {
        "duration": 3,
        "start_time": "2022-11-30T18:38:09.908Z"
      },
      {
        "duration": 14,
        "start_time": "2022-11-30T18:38:09.922Z"
      },
      {
        "duration": 162,
        "start_time": "2022-11-30T18:38:09.939Z"
      },
      {
        "duration": 6,
        "start_time": "2022-11-30T18:38:10.103Z"
      },
      {
        "duration": 21,
        "start_time": "2022-11-30T18:38:10.111Z"
      },
      {
        "duration": 12,
        "start_time": "2022-11-30T18:38:10.134Z"
      },
      {
        "duration": 6,
        "start_time": "2022-11-30T18:38:10.148Z"
      },
      {
        "duration": 17,
        "start_time": "2022-11-30T18:38:10.155Z"
      },
      {
        "duration": 8,
        "start_time": "2022-11-30T18:38:10.174Z"
      },
      {
        "duration": 97,
        "start_time": "2022-11-30T18:38:10.184Z"
      },
      {
        "duration": 250,
        "start_time": "2022-11-30T18:38:10.284Z"
      },
      {
        "duration": 7,
        "start_time": "2022-11-30T18:38:10.535Z"
      },
      {
        "duration": 11,
        "start_time": "2022-11-30T18:38:10.543Z"
      },
      {
        "duration": 429,
        "start_time": "2022-11-30T18:38:10.555Z"
      },
      {
        "duration": 221,
        "start_time": "2022-11-30T18:39:29.260Z"
      },
      {
        "duration": 70,
        "start_time": "2022-11-30T18:39:52.716Z"
      },
      {
        "duration": 253,
        "start_time": "2022-11-30T18:40:03.979Z"
      },
      {
        "duration": 201,
        "start_time": "2022-11-30T18:40:35.143Z"
      },
      {
        "duration": 284,
        "start_time": "2022-11-30T18:40:58.199Z"
      },
      {
        "duration": 209,
        "start_time": "2022-11-30T18:41:16.979Z"
      },
      {
        "duration": 228,
        "start_time": "2022-11-30T18:41:33.282Z"
      },
      {
        "duration": 179,
        "start_time": "2022-11-30T18:41:56.223Z"
      },
      {
        "duration": 94,
        "start_time": "2022-11-30T18:42:54.452Z"
      },
      {
        "duration": 122,
        "start_time": "2022-11-30T18:43:13.788Z"
      },
      {
        "duration": 217,
        "start_time": "2022-11-30T18:43:47.081Z"
      },
      {
        "duration": 115,
        "start_time": "2022-11-30T18:44:24.739Z"
      },
      {
        "duration": 203,
        "start_time": "2022-11-30T18:44:33.708Z"
      },
      {
        "duration": 197,
        "start_time": "2022-11-30T18:44:41.491Z"
      },
      {
        "duration": 138,
        "start_time": "2022-11-30T18:46:03.085Z"
      },
      {
        "duration": 18,
        "start_time": "2022-11-30T19:01:23.714Z"
      },
      {
        "duration": 129,
        "start_time": "2022-11-30T19:02:00.383Z"
      },
      {
        "duration": 8,
        "start_time": "2022-11-30T19:02:12.878Z"
      },
      {
        "duration": 79,
        "start_time": "2022-11-30T19:03:06.858Z"
      },
      {
        "duration": 29,
        "start_time": "2022-11-30T19:03:39.639Z"
      },
      {
        "duration": 14,
        "start_time": "2022-11-30T19:04:40.237Z"
      },
      {
        "duration": 16,
        "start_time": "2022-11-30T19:05:00.192Z"
      },
      {
        "duration": 16,
        "start_time": "2022-11-30T19:05:33.357Z"
      },
      {
        "duration": 417,
        "start_time": "2022-11-30T19:06:44.636Z"
      },
      {
        "duration": 472,
        "start_time": "2022-11-30T19:07:03.674Z"
      },
      {
        "duration": 18,
        "start_time": "2022-11-30T19:07:55.251Z"
      },
      {
        "duration": 170,
        "start_time": "2022-11-30T19:08:10.896Z"
      },
      {
        "duration": 175,
        "start_time": "2022-11-30T19:08:15.072Z"
      },
      {
        "duration": 505,
        "start_time": "2022-11-30T19:08:27.152Z"
      },
      {
        "duration": 524,
        "start_time": "2022-11-30T19:10:11.783Z"
      },
      {
        "duration": 497,
        "start_time": "2022-11-30T19:10:31.783Z"
      },
      {
        "duration": 521,
        "start_time": "2022-11-30T19:10:42.022Z"
      },
      {
        "duration": 510,
        "start_time": "2022-11-30T19:10:52.725Z"
      },
      {
        "duration": 517,
        "start_time": "2022-11-30T19:11:29.767Z"
      },
      {
        "duration": 499,
        "start_time": "2022-11-30T19:12:58.394Z"
      },
      {
        "duration": 160,
        "start_time": "2022-11-30T19:15:34.066Z"
      },
      {
        "duration": 127,
        "start_time": "2022-11-30T19:15:52.173Z"
      },
      {
        "duration": 135,
        "start_time": "2022-11-30T19:15:59.805Z"
      },
      {
        "duration": 115,
        "start_time": "2022-11-30T19:17:27.093Z"
      },
      {
        "duration": 141,
        "start_time": "2022-11-30T19:18:39.390Z"
      },
      {
        "duration": 151,
        "start_time": "2022-11-30T19:18:43.777Z"
      },
      {
        "duration": 143,
        "start_time": "2022-11-30T19:21:52.879Z"
      },
      {
        "duration": 11,
        "start_time": "2022-11-30T19:22:41.642Z"
      },
      {
        "duration": 633,
        "start_time": "2022-11-30T19:25:21.079Z"
      },
      {
        "duration": 53,
        "start_time": "2022-11-30T19:25:21.714Z"
      },
      {
        "duration": 727,
        "start_time": "2022-11-30T19:25:21.768Z"
      },
      {
        "duration": 3,
        "start_time": "2022-11-30T19:25:22.497Z"
      },
      {
        "duration": 13,
        "start_time": "2022-11-30T19:25:22.501Z"
      },
      {
        "duration": 146,
        "start_time": "2022-11-30T19:25:22.522Z"
      },
      {
        "duration": 5,
        "start_time": "2022-11-30T19:25:22.670Z"
      },
      {
        "duration": 46,
        "start_time": "2022-11-30T19:25:22.677Z"
      },
      {
        "duration": 36,
        "start_time": "2022-11-30T19:25:22.725Z"
      },
      {
        "duration": 34,
        "start_time": "2022-11-30T19:25:22.764Z"
      },
      {
        "duration": 51,
        "start_time": "2022-11-30T19:25:22.800Z"
      },
      {
        "duration": 36,
        "start_time": "2022-11-30T19:25:22.853Z"
      },
      {
        "duration": 98,
        "start_time": "2022-11-30T19:25:22.891Z"
      },
      {
        "duration": 234,
        "start_time": "2022-11-30T19:25:22.990Z"
      },
      {
        "duration": 9,
        "start_time": "2022-11-30T19:25:23.226Z"
      },
      {
        "duration": 13,
        "start_time": "2022-11-30T19:25:23.236Z"
      },
      {
        "duration": 11,
        "start_time": "2022-11-30T19:25:23.251Z"
      },
      {
        "duration": 196,
        "start_time": "2022-11-30T19:25:23.264Z"
      },
      {
        "duration": 644,
        "start_time": "2022-11-30T19:26:00.433Z"
      },
      {
        "duration": 53,
        "start_time": "2022-11-30T19:26:01.079Z"
      },
      {
        "duration": 761,
        "start_time": "2022-11-30T19:26:01.133Z"
      },
      {
        "duration": 3,
        "start_time": "2022-11-30T19:26:01.896Z"
      },
      {
        "duration": 12,
        "start_time": "2022-11-30T19:26:01.900Z"
      },
      {
        "duration": 144,
        "start_time": "2022-11-30T19:26:01.921Z"
      },
      {
        "duration": 5,
        "start_time": "2022-11-30T19:26:02.066Z"
      },
      {
        "duration": 18,
        "start_time": "2022-11-30T19:26:02.072Z"
      },
      {
        "duration": 30,
        "start_time": "2022-11-30T19:26:02.092Z"
      },
      {
        "duration": 6,
        "start_time": "2022-11-30T19:26:02.124Z"
      },
      {
        "duration": 15,
        "start_time": "2022-11-30T19:26:02.132Z"
      },
      {
        "duration": 10,
        "start_time": "2022-11-30T19:26:02.148Z"
      },
      {
        "duration": 87,
        "start_time": "2022-11-30T19:26:02.159Z"
      },
      {
        "duration": 232,
        "start_time": "2022-11-30T19:26:02.247Z"
      },
      {
        "duration": 7,
        "start_time": "2022-11-30T19:26:02.480Z"
      },
      {
        "duration": 15,
        "start_time": "2022-11-30T19:26:02.488Z"
      },
      {
        "duration": 24,
        "start_time": "2022-11-30T19:26:02.505Z"
      },
      {
        "duration": 173,
        "start_time": "2022-11-30T19:26:02.530Z"
      },
      {
        "duration": 153,
        "start_time": "2022-11-30T19:28:14.848Z"
      },
      {
        "duration": 7,
        "start_time": "2022-11-30T19:29:33.274Z"
      },
      {
        "duration": 11,
        "start_time": "2022-11-30T19:29:37.353Z"
      },
      {
        "duration": 142,
        "start_time": "2022-11-30T19:29:43.293Z"
      },
      {
        "duration": 653,
        "start_time": "2022-11-30T19:32:24.552Z"
      },
      {
        "duration": 49,
        "start_time": "2022-11-30T19:32:25.206Z"
      },
      {
        "duration": 713,
        "start_time": "2022-11-30T19:32:25.257Z"
      },
      {
        "duration": 2,
        "start_time": "2022-11-30T19:32:25.972Z"
      },
      {
        "duration": 17,
        "start_time": "2022-11-30T19:32:25.975Z"
      },
      {
        "duration": 143,
        "start_time": "2022-11-30T19:32:25.994Z"
      },
      {
        "duration": 5,
        "start_time": "2022-11-30T19:32:26.139Z"
      },
      {
        "duration": 18,
        "start_time": "2022-11-30T19:32:26.146Z"
      },
      {
        "duration": 18,
        "start_time": "2022-11-30T19:32:26.166Z"
      },
      {
        "duration": 6,
        "start_time": "2022-11-30T19:32:26.186Z"
      },
      {
        "duration": 38,
        "start_time": "2022-11-30T19:32:26.193Z"
      },
      {
        "duration": 21,
        "start_time": "2022-11-30T19:32:26.233Z"
      },
      {
        "duration": 91,
        "start_time": "2022-11-30T19:32:26.257Z"
      },
      {
        "duration": 250,
        "start_time": "2022-11-30T19:32:26.350Z"
      },
      {
        "duration": 8,
        "start_time": "2022-11-30T19:32:26.601Z"
      },
      {
        "duration": 16,
        "start_time": "2022-11-30T19:32:26.621Z"
      },
      {
        "duration": 11,
        "start_time": "2022-11-30T19:32:26.639Z"
      },
      {
        "duration": 176,
        "start_time": "2022-11-30T19:32:26.652Z"
      },
      {
        "duration": 178,
        "start_time": "2022-11-30T19:34:16.803Z"
      },
      {
        "duration": 680,
        "start_time": "2022-11-30T19:34:32.192Z"
      },
      {
        "duration": 51,
        "start_time": "2022-11-30T19:34:32.875Z"
      },
      {
        "duration": 741,
        "start_time": "2022-11-30T19:34:32.933Z"
      },
      {
        "duration": 3,
        "start_time": "2022-11-30T19:34:33.676Z"
      },
      {
        "duration": 13,
        "start_time": "2022-11-30T19:34:33.680Z"
      },
      {
        "duration": 159,
        "start_time": "2022-11-30T19:34:33.694Z"
      },
      {
        "duration": 6,
        "start_time": "2022-11-30T19:34:33.855Z"
      },
      {
        "duration": 18,
        "start_time": "2022-11-30T19:34:33.862Z"
      },
      {
        "duration": 14,
        "start_time": "2022-11-30T19:34:33.882Z"
      },
      {
        "duration": 26,
        "start_time": "2022-11-30T19:34:33.898Z"
      },
      {
        "duration": 17,
        "start_time": "2022-11-30T19:34:33.927Z"
      },
      {
        "duration": 10,
        "start_time": "2022-11-30T19:34:33.945Z"
      },
      {
        "duration": 84,
        "start_time": "2022-11-30T19:34:33.957Z"
      },
      {
        "duration": 317,
        "start_time": "2022-11-30T19:34:34.043Z"
      },
      {
        "duration": 10,
        "start_time": "2022-11-30T19:34:34.362Z"
      },
      {
        "duration": 12,
        "start_time": "2022-11-30T19:34:34.373Z"
      },
      {
        "duration": 188,
        "start_time": "2022-11-30T19:34:34.387Z"
      },
      {
        "duration": 162,
        "start_time": "2022-11-30T19:35:03.583Z"
      },
      {
        "duration": 13,
        "start_time": "2022-11-30T19:38:24.133Z"
      },
      {
        "duration": 10,
        "start_time": "2022-11-30T19:38:29.822Z"
      },
      {
        "duration": 704,
        "start_time": "2022-11-30T20:05:19.660Z"
      },
      {
        "duration": 52,
        "start_time": "2022-11-30T20:05:20.366Z"
      },
      {
        "duration": 784,
        "start_time": "2022-11-30T20:05:20.420Z"
      },
      {
        "duration": 3,
        "start_time": "2022-11-30T20:05:21.206Z"
      },
      {
        "duration": 40,
        "start_time": "2022-11-30T20:05:21.211Z"
      },
      {
        "duration": 192,
        "start_time": "2022-11-30T20:05:21.253Z"
      },
      {
        "duration": 7,
        "start_time": "2022-11-30T20:05:21.448Z"
      },
      {
        "duration": 16,
        "start_time": "2022-11-30T20:05:21.457Z"
      },
      {
        "duration": 13,
        "start_time": "2022-11-30T20:05:21.475Z"
      },
      {
        "duration": 6,
        "start_time": "2022-11-30T20:05:21.490Z"
      },
      {
        "duration": 19,
        "start_time": "2022-11-30T20:05:21.525Z"
      },
      {
        "duration": 11,
        "start_time": "2022-11-30T20:05:21.547Z"
      },
      {
        "duration": 107,
        "start_time": "2022-11-30T20:05:21.561Z"
      },
      {
        "duration": 264,
        "start_time": "2022-11-30T20:05:21.670Z"
      },
      {
        "duration": 69,
        "start_time": "2022-11-30T20:05:21.941Z"
      },
      {
        "duration": 0,
        "start_time": "2022-11-30T20:05:22.012Z"
      },
      {
        "duration": 0,
        "start_time": "2022-11-30T20:05:22.014Z"
      },
      {
        "duration": 0,
        "start_time": "2022-11-30T20:05:22.015Z"
      },
      {
        "duration": 706,
        "start_time": "2022-11-30T20:05:57.359Z"
      },
      {
        "duration": 58,
        "start_time": "2022-11-30T20:05:58.067Z"
      },
      {
        "duration": 808,
        "start_time": "2022-11-30T20:05:58.133Z"
      },
      {
        "duration": 2,
        "start_time": "2022-11-30T20:05:58.943Z"
      },
      {
        "duration": 31,
        "start_time": "2022-11-30T20:05:58.947Z"
      },
      {
        "duration": 163,
        "start_time": "2022-11-30T20:05:58.980Z"
      },
      {
        "duration": 5,
        "start_time": "2022-11-30T20:05:59.144Z"
      },
      {
        "duration": 27,
        "start_time": "2022-11-30T20:05:59.151Z"
      },
      {
        "duration": 13,
        "start_time": "2022-11-30T20:05:59.179Z"
      },
      {
        "duration": 13,
        "start_time": "2022-11-30T20:05:59.194Z"
      },
      {
        "duration": 28,
        "start_time": "2022-11-30T20:05:59.209Z"
      },
      {
        "duration": 12,
        "start_time": "2022-11-30T20:05:59.239Z"
      },
      {
        "duration": 90,
        "start_time": "2022-11-30T20:05:59.253Z"
      },
      {
        "duration": 234,
        "start_time": "2022-11-30T20:05:59.345Z"
      },
      {
        "duration": 77,
        "start_time": "2022-11-30T20:05:59.581Z"
      },
      {
        "duration": 0,
        "start_time": "2022-11-30T20:05:59.660Z"
      },
      {
        "duration": 0,
        "start_time": "2022-11-30T20:05:59.661Z"
      },
      {
        "duration": 0,
        "start_time": "2022-11-30T20:05:59.662Z"
      },
      {
        "duration": 619,
        "start_time": "2022-11-30T20:07:09.193Z"
      },
      {
        "duration": 71,
        "start_time": "2022-11-30T20:07:09.814Z"
      },
      {
        "duration": 745,
        "start_time": "2022-11-30T20:07:09.887Z"
      },
      {
        "duration": 4,
        "start_time": "2022-11-30T20:07:10.636Z"
      },
      {
        "duration": 13,
        "start_time": "2022-11-30T20:07:10.641Z"
      },
      {
        "duration": 154,
        "start_time": "2022-11-30T20:07:10.656Z"
      },
      {
        "duration": 16,
        "start_time": "2022-11-30T20:07:10.811Z"
      },
      {
        "duration": 27,
        "start_time": "2022-11-30T20:07:10.830Z"
      },
      {
        "duration": 16,
        "start_time": "2022-11-30T20:07:10.859Z"
      },
      {
        "duration": 5,
        "start_time": "2022-11-30T20:07:10.878Z"
      },
      {
        "duration": 14,
        "start_time": "2022-11-30T20:07:10.885Z"
      },
      {
        "duration": 22,
        "start_time": "2022-11-30T20:07:10.901Z"
      },
      {
        "duration": 82,
        "start_time": "2022-11-30T20:07:10.928Z"
      },
      {
        "duration": 239,
        "start_time": "2022-11-30T20:07:11.012Z"
      },
      {
        "duration": 11,
        "start_time": "2022-11-30T20:07:11.252Z"
      },
      {
        "duration": 77,
        "start_time": "2022-11-30T20:07:11.265Z"
      },
      {
        "duration": 0,
        "start_time": "2022-11-30T20:07:11.344Z"
      },
      {
        "duration": 0,
        "start_time": "2022-11-30T20:07:11.346Z"
      },
      {
        "duration": 0,
        "start_time": "2022-11-30T20:07:11.347Z"
      },
      {
        "duration": 668,
        "start_time": "2022-11-30T20:08:50.007Z"
      },
      {
        "duration": 59,
        "start_time": "2022-11-30T20:08:50.677Z"
      },
      {
        "duration": 764,
        "start_time": "2022-11-30T20:08:50.739Z"
      },
      {
        "duration": 4,
        "start_time": "2022-11-30T20:08:51.505Z"
      },
      {
        "duration": 28,
        "start_time": "2022-11-30T20:08:51.511Z"
      },
      {
        "duration": 156,
        "start_time": "2022-11-30T20:08:51.541Z"
      },
      {
        "duration": 5,
        "start_time": "2022-11-30T20:08:51.699Z"
      },
      {
        "duration": 34,
        "start_time": "2022-11-30T20:08:51.705Z"
      },
      {
        "duration": 18,
        "start_time": "2022-11-30T20:08:51.740Z"
      },
      {
        "duration": 7,
        "start_time": "2022-11-30T20:08:51.761Z"
      },
      {
        "duration": 22,
        "start_time": "2022-11-30T20:08:51.770Z"
      },
      {
        "duration": 48,
        "start_time": "2022-11-30T20:08:51.794Z"
      },
      {
        "duration": 75,
        "start_time": "2022-11-30T20:08:51.845Z"
      },
      {
        "duration": 244,
        "start_time": "2022-11-30T20:08:51.923Z"
      },
      {
        "duration": 12,
        "start_time": "2022-11-30T20:08:52.168Z"
      },
      {
        "duration": 75,
        "start_time": "2022-11-30T20:08:52.183Z"
      },
      {
        "duration": 0,
        "start_time": "2022-11-30T20:08:52.260Z"
      },
      {
        "duration": 0,
        "start_time": "2022-11-30T20:08:52.261Z"
      },
      {
        "duration": 0,
        "start_time": "2022-11-30T20:08:52.262Z"
      },
      {
        "duration": 728,
        "start_time": "2022-11-30T20:09:10.215Z"
      },
      {
        "duration": 50,
        "start_time": "2022-11-30T20:09:10.945Z"
      },
      {
        "duration": 905,
        "start_time": "2022-11-30T20:09:10.997Z"
      },
      {
        "duration": 3,
        "start_time": "2022-11-30T20:09:11.905Z"
      },
      {
        "duration": 28,
        "start_time": "2022-11-30T20:09:11.911Z"
      },
      {
        "duration": 163,
        "start_time": "2022-11-30T20:09:11.943Z"
      },
      {
        "duration": 5,
        "start_time": "2022-11-30T20:09:12.108Z"
      },
      {
        "duration": 23,
        "start_time": "2022-11-30T20:09:12.127Z"
      },
      {
        "duration": 30,
        "start_time": "2022-11-30T20:09:12.152Z"
      },
      {
        "duration": 6,
        "start_time": "2022-11-30T20:09:12.185Z"
      },
      {
        "duration": 32,
        "start_time": "2022-11-30T20:09:12.193Z"
      },
      {
        "duration": 38,
        "start_time": "2022-11-30T20:09:12.229Z"
      },
      {
        "duration": 97,
        "start_time": "2022-11-30T20:09:12.269Z"
      },
      {
        "duration": 268,
        "start_time": "2022-11-30T20:09:12.368Z"
      },
      {
        "duration": 15,
        "start_time": "2022-11-30T20:09:12.638Z"
      },
      {
        "duration": 103,
        "start_time": "2022-11-30T20:09:12.655Z"
      },
      {
        "duration": 0,
        "start_time": "2022-11-30T20:09:12.760Z"
      },
      {
        "duration": 0,
        "start_time": "2022-11-30T20:09:12.761Z"
      },
      {
        "duration": 0,
        "start_time": "2022-11-30T20:09:12.762Z"
      },
      {
        "duration": 669,
        "start_time": "2022-11-30T20:09:31.803Z"
      },
      {
        "duration": 57,
        "start_time": "2022-11-30T20:09:32.474Z"
      },
      {
        "duration": 801,
        "start_time": "2022-11-30T20:09:32.533Z"
      },
      {
        "duration": 8,
        "start_time": "2022-11-30T20:09:33.338Z"
      },
      {
        "duration": 15,
        "start_time": "2022-11-30T20:09:33.348Z"
      },
      {
        "duration": 179,
        "start_time": "2022-11-30T20:09:33.366Z"
      },
      {
        "duration": 5,
        "start_time": "2022-11-30T20:09:33.547Z"
      },
      {
        "duration": 30,
        "start_time": "2022-11-30T20:09:33.554Z"
      },
      {
        "duration": 14,
        "start_time": "2022-11-30T20:09:33.585Z"
      },
      {
        "duration": 30,
        "start_time": "2022-11-30T20:09:33.601Z"
      },
      {
        "duration": 25,
        "start_time": "2022-11-30T20:09:33.633Z"
      },
      {
        "duration": 13,
        "start_time": "2022-11-30T20:09:33.660Z"
      },
      {
        "duration": 85,
        "start_time": "2022-11-30T20:09:33.675Z"
      },
      {
        "duration": 271,
        "start_time": "2022-11-30T20:09:33.762Z"
      },
      {
        "duration": 26,
        "start_time": "2022-11-30T20:09:34.035Z"
      },
      {
        "duration": 157,
        "start_time": "2022-11-30T20:09:34.070Z"
      },
      {
        "duration": 0,
        "start_time": "2022-11-30T20:09:34.229Z"
      },
      {
        "duration": 0,
        "start_time": "2022-11-30T20:09:34.230Z"
      },
      {
        "duration": 0,
        "start_time": "2022-11-30T20:09:34.232Z"
      },
      {
        "duration": 17,
        "start_time": "2022-11-30T20:16:49.530Z"
      },
      {
        "duration": 11,
        "start_time": "2022-11-30T20:17:03.542Z"
      },
      {
        "duration": 12,
        "start_time": "2022-11-30T20:21:58.303Z"
      },
      {
        "duration": 9,
        "start_time": "2022-11-30T20:22:09.772Z"
      },
      {
        "duration": 12,
        "start_time": "2022-11-30T20:22:24.842Z"
      },
      {
        "duration": 22,
        "start_time": "2022-11-30T20:27:10.549Z"
      },
      {
        "duration": 23,
        "start_time": "2022-11-30T20:27:26.612Z"
      },
      {
        "duration": 7,
        "start_time": "2022-11-30T20:58:48.137Z"
      },
      {
        "duration": 601,
        "start_time": "2022-11-30T20:58:58.554Z"
      },
      {
        "duration": 50,
        "start_time": "2022-11-30T20:58:59.157Z"
      },
      {
        "duration": 685,
        "start_time": "2022-11-30T20:58:59.208Z"
      },
      {
        "duration": 3,
        "start_time": "2022-11-30T20:58:59.895Z"
      },
      {
        "duration": 10,
        "start_time": "2022-11-30T20:58:59.900Z"
      },
      {
        "duration": 141,
        "start_time": "2022-11-30T20:58:59.922Z"
      },
      {
        "duration": 6,
        "start_time": "2022-11-30T20:59:00.065Z"
      },
      {
        "duration": 28,
        "start_time": "2022-11-30T20:59:00.072Z"
      },
      {
        "duration": 13,
        "start_time": "2022-11-30T20:59:00.102Z"
      },
      {
        "duration": 5,
        "start_time": "2022-11-30T20:59:00.123Z"
      },
      {
        "duration": 24,
        "start_time": "2022-11-30T20:59:00.129Z"
      },
      {
        "duration": 13,
        "start_time": "2022-11-30T20:59:00.155Z"
      },
      {
        "duration": 76,
        "start_time": "2022-11-30T20:59:00.169Z"
      },
      {
        "duration": 217,
        "start_time": "2022-11-30T20:59:00.246Z"
      },
      {
        "duration": 6,
        "start_time": "2022-11-30T20:59:00.465Z"
      },
      {
        "duration": 13,
        "start_time": "2022-11-30T20:59:00.473Z"
      },
      {
        "duration": 254,
        "start_time": "2022-11-30T20:59:00.487Z"
      },
      {
        "duration": 166,
        "start_time": "2022-11-30T20:59:00.743Z"
      },
      {
        "duration": 145,
        "start_time": "2022-11-30T20:59:19.655Z"
      },
      {
        "duration": 10,
        "start_time": "2022-11-30T21:01:57.579Z"
      },
      {
        "duration": 130,
        "start_time": "2022-11-30T21:07:31.683Z"
      },
      {
        "duration": 270,
        "start_time": "2022-11-30T21:07:58.749Z"
      },
      {
        "duration": 272,
        "start_time": "2022-11-30T21:08:16.156Z"
      },
      {
        "duration": 347,
        "start_time": "2022-11-30T21:08:56.233Z"
      },
      {
        "duration": 66,
        "start_time": "2022-11-30T21:09:35.254Z"
      },
      {
        "duration": 291,
        "start_time": "2022-11-30T21:09:50.821Z"
      },
      {
        "duration": 161,
        "start_time": "2022-11-30T21:10:02.500Z"
      },
      {
        "duration": 170,
        "start_time": "2022-11-30T21:10:40.049Z"
      },
      {
        "duration": 163,
        "start_time": "2022-11-30T21:11:25.118Z"
      },
      {
        "duration": 141,
        "start_time": "2022-11-30T21:11:46.109Z"
      },
      {
        "duration": 188,
        "start_time": "2022-11-30T21:12:19.177Z"
      },
      {
        "duration": 143,
        "start_time": "2022-11-30T21:13:35.698Z"
      },
      {
        "duration": 151,
        "start_time": "2022-11-30T21:14:34.158Z"
      },
      {
        "duration": 214,
        "start_time": "2022-11-30T21:14:46.540Z"
      },
      {
        "duration": 156,
        "start_time": "2022-11-30T21:14:58.653Z"
      },
      {
        "duration": 131,
        "start_time": "2022-11-30T21:15:11.115Z"
      },
      {
        "duration": 129,
        "start_time": "2022-11-30T21:15:48.872Z"
      },
      {
        "duration": 129,
        "start_time": "2022-11-30T21:16:20.261Z"
      },
      {
        "duration": 5,
        "start_time": "2022-11-30T21:18:56.601Z"
      },
      {
        "duration": 14,
        "start_time": "2022-11-30T21:19:33.606Z"
      },
      {
        "duration": 9,
        "start_time": "2022-11-30T21:20:00.276Z"
      },
      {
        "duration": 279,
        "start_time": "2022-11-30T21:20:42.065Z"
      },
      {
        "duration": 103,
        "start_time": "2022-11-30T21:21:36.636Z"
      },
      {
        "duration": 8,
        "start_time": "2022-11-30T21:22:11.097Z"
      },
      {
        "duration": 7,
        "start_time": "2022-11-30T21:22:17.882Z"
      },
      {
        "duration": 9,
        "start_time": "2022-11-30T21:22:27.769Z"
      },
      {
        "duration": 8,
        "start_time": "2022-11-30T21:22:32.263Z"
      },
      {
        "duration": 15,
        "start_time": "2022-11-30T21:23:04.105Z"
      },
      {
        "duration": 1279,
        "start_time": "2022-11-30T21:24:18.881Z"
      },
      {
        "duration": 6,
        "start_time": "2022-11-30T21:24:26.638Z"
      },
      {
        "duration": 10,
        "start_time": "2022-11-30T21:25:05.899Z"
      },
      {
        "duration": 310,
        "start_time": "2022-11-30T21:25:23.114Z"
      },
      {
        "duration": 171,
        "start_time": "2022-11-30T21:26:41.972Z"
      },
      {
        "duration": 175,
        "start_time": "2022-11-30T21:26:54.547Z"
      },
      {
        "duration": 8,
        "start_time": "2022-11-30T21:27:19.744Z"
      },
      {
        "duration": 11,
        "start_time": "2022-11-30T21:27:25.680Z"
      },
      {
        "duration": 317,
        "start_time": "2022-11-30T21:27:28.560Z"
      },
      {
        "duration": 171,
        "start_time": "2022-11-30T21:28:06.877Z"
      },
      {
        "duration": 8,
        "start_time": "2022-11-30T21:31:01.632Z"
      },
      {
        "duration": 6,
        "start_time": "2022-11-30T21:31:13.773Z"
      },
      {
        "duration": 151,
        "start_time": "2022-11-30T21:31:21.823Z"
      },
      {
        "duration": 131,
        "start_time": "2022-11-30T21:31:41.323Z"
      },
      {
        "duration": 230,
        "start_time": "2022-11-30T21:32:17.164Z"
      },
      {
        "duration": 127,
        "start_time": "2022-11-30T21:32:29.384Z"
      },
      {
        "duration": 549,
        "start_time": "2022-11-30T21:33:18.276Z"
      },
      {
        "duration": 50,
        "start_time": "2022-11-30T21:33:18.827Z"
      },
      {
        "duration": 691,
        "start_time": "2022-11-30T21:33:18.879Z"
      },
      {
        "duration": 2,
        "start_time": "2022-11-30T21:33:19.572Z"
      },
      {
        "duration": 11,
        "start_time": "2022-11-30T21:33:19.576Z"
      },
      {
        "duration": 150,
        "start_time": "2022-11-30T21:33:19.589Z"
      },
      {
        "duration": 6,
        "start_time": "2022-11-30T21:33:19.741Z"
      },
      {
        "duration": 15,
        "start_time": "2022-11-30T21:33:19.749Z"
      },
      {
        "duration": 13,
        "start_time": "2022-11-30T21:33:19.766Z"
      },
      {
        "duration": 5,
        "start_time": "2022-11-30T21:33:19.782Z"
      },
      {
        "duration": 49,
        "start_time": "2022-11-30T21:33:19.789Z"
      },
      {
        "duration": 10,
        "start_time": "2022-11-30T21:33:19.839Z"
      },
      {
        "duration": 87,
        "start_time": "2022-11-30T21:33:19.850Z"
      },
      {
        "duration": 217,
        "start_time": "2022-11-30T21:33:19.938Z"
      },
      {
        "duration": 133,
        "start_time": "2022-11-30T21:33:20.157Z"
      },
      {
        "duration": 8,
        "start_time": "2022-11-30T21:33:20.291Z"
      },
      {
        "duration": 23,
        "start_time": "2022-11-30T21:33:20.300Z"
      },
      {
        "duration": 170,
        "start_time": "2022-11-30T21:33:20.325Z"
      },
      {
        "duration": 134,
        "start_time": "2022-11-30T21:34:31.934Z"
      },
      {
        "duration": 143,
        "start_time": "2022-11-30T21:34:39.828Z"
      },
      {
        "duration": 71,
        "start_time": "2022-11-30T21:40:13.395Z"
      },
      {
        "duration": 1166,
        "start_time": "2022-11-30T21:40:18.515Z"
      },
      {
        "duration": 342,
        "start_time": "2022-11-30T21:40:40.352Z"
      },
      {
        "duration": 336,
        "start_time": "2022-11-30T21:42:03.289Z"
      },
      {
        "duration": 153,
        "start_time": "2022-11-30T21:44:10.801Z"
      },
      {
        "duration": 623,
        "start_time": "2022-11-30T21:45:13.203Z"
      },
      {
        "duration": 51,
        "start_time": "2022-11-30T21:45:13.830Z"
      },
      {
        "duration": 705,
        "start_time": "2022-11-30T21:45:13.883Z"
      },
      {
        "duration": 3,
        "start_time": "2022-11-30T21:45:14.590Z"
      },
      {
        "duration": 10,
        "start_time": "2022-11-30T21:45:14.595Z"
      },
      {
        "duration": 143,
        "start_time": "2022-11-30T21:45:14.606Z"
      },
      {
        "duration": 5,
        "start_time": "2022-11-30T21:45:14.750Z"
      },
      {
        "duration": 15,
        "start_time": "2022-11-30T21:45:14.756Z"
      },
      {
        "duration": 12,
        "start_time": "2022-11-30T21:45:14.774Z"
      },
      {
        "duration": 34,
        "start_time": "2022-11-30T21:45:14.788Z"
      },
      {
        "duration": 15,
        "start_time": "2022-11-30T21:45:14.824Z"
      },
      {
        "duration": 15,
        "start_time": "2022-11-30T21:45:14.841Z"
      },
      {
        "duration": 76,
        "start_time": "2022-11-30T21:45:14.858Z"
      },
      {
        "duration": 218,
        "start_time": "2022-11-30T21:45:14.937Z"
      },
      {
        "duration": 133,
        "start_time": "2022-11-30T21:45:15.156Z"
      },
      {
        "duration": 6,
        "start_time": "2022-11-30T21:45:15.291Z"
      },
      {
        "duration": 24,
        "start_time": "2022-11-30T21:45:15.299Z"
      },
      {
        "duration": 290,
        "start_time": "2022-11-30T21:45:15.324Z"
      },
      {
        "duration": 172,
        "start_time": "2022-11-30T21:45:15.622Z"
      },
      {
        "duration": 598,
        "start_time": "2022-11-30T21:47:51.845Z"
      },
      {
        "duration": 50,
        "start_time": "2022-11-30T21:47:52.444Z"
      },
      {
        "duration": 681,
        "start_time": "2022-11-30T21:47:52.495Z"
      },
      {
        "duration": 2,
        "start_time": "2022-11-30T21:47:53.179Z"
      },
      {
        "duration": 11,
        "start_time": "2022-11-30T21:47:53.183Z"
      },
      {
        "duration": 141,
        "start_time": "2022-11-30T21:47:53.196Z"
      },
      {
        "duration": 5,
        "start_time": "2022-11-30T21:47:53.338Z"
      },
      {
        "duration": 21,
        "start_time": "2022-11-30T21:47:53.345Z"
      },
      {
        "duration": 18,
        "start_time": "2022-11-30T21:47:53.368Z"
      },
      {
        "duration": 7,
        "start_time": "2022-11-30T21:47:53.388Z"
      },
      {
        "duration": 26,
        "start_time": "2022-11-30T21:47:53.397Z"
      },
      {
        "duration": 25,
        "start_time": "2022-11-30T21:47:53.424Z"
      },
      {
        "duration": 88,
        "start_time": "2022-11-30T21:47:53.451Z"
      },
      {
        "duration": 223,
        "start_time": "2022-11-30T21:47:53.541Z"
      },
      {
        "duration": 141,
        "start_time": "2022-11-30T21:47:53.765Z"
      },
      {
        "duration": 14,
        "start_time": "2022-11-30T21:47:53.908Z"
      },
      {
        "duration": 10,
        "start_time": "2022-11-30T21:47:53.923Z"
      },
      {
        "duration": 311,
        "start_time": "2022-11-30T21:47:53.934Z"
      },
      {
        "duration": 181,
        "start_time": "2022-11-30T21:47:54.247Z"
      },
      {
        "duration": 619,
        "start_time": "2022-11-30T21:48:30.527Z"
      },
      {
        "duration": 49,
        "start_time": "2022-11-30T21:48:31.148Z"
      },
      {
        "duration": 670,
        "start_time": "2022-11-30T21:48:31.201Z"
      },
      {
        "duration": 3,
        "start_time": "2022-11-30T21:48:31.873Z"
      },
      {
        "duration": 13,
        "start_time": "2022-11-30T21:48:31.877Z"
      },
      {
        "duration": 140,
        "start_time": "2022-11-30T21:48:31.891Z"
      },
      {
        "duration": 4,
        "start_time": "2022-11-30T21:48:32.033Z"
      },
      {
        "duration": 15,
        "start_time": "2022-11-30T21:48:32.039Z"
      },
      {
        "duration": 12,
        "start_time": "2022-11-30T21:48:32.058Z"
      },
      {
        "duration": 5,
        "start_time": "2022-11-30T21:48:32.072Z"
      },
      {
        "duration": 43,
        "start_time": "2022-11-30T21:48:32.079Z"
      },
      {
        "duration": 7,
        "start_time": "2022-11-30T21:48:32.124Z"
      },
      {
        "duration": 68,
        "start_time": "2022-11-30T21:48:32.133Z"
      },
      {
        "duration": 223,
        "start_time": "2022-11-30T21:48:32.202Z"
      },
      {
        "duration": 132,
        "start_time": "2022-11-30T21:48:32.427Z"
      },
      {
        "duration": 6,
        "start_time": "2022-11-30T21:48:32.561Z"
      },
      {
        "duration": 15,
        "start_time": "2022-11-30T21:48:32.568Z"
      },
      {
        "duration": 273,
        "start_time": "2022-11-30T21:48:32.585Z"
      },
      {
        "duration": 176,
        "start_time": "2022-11-30T21:48:32.860Z"
      },
      {
        "duration": 562,
        "start_time": "2022-11-30T21:48:51.977Z"
      },
      {
        "duration": 50,
        "start_time": "2022-11-30T21:48:52.540Z"
      },
      {
        "duration": 678,
        "start_time": "2022-11-30T21:48:52.592Z"
      },
      {
        "duration": 2,
        "start_time": "2022-11-30T21:48:53.272Z"
      },
      {
        "duration": 17,
        "start_time": "2022-11-30T21:48:53.275Z"
      },
      {
        "duration": 150,
        "start_time": "2022-11-30T21:48:53.293Z"
      },
      {
        "duration": 5,
        "start_time": "2022-11-30T21:48:53.445Z"
      },
      {
        "duration": 27,
        "start_time": "2022-11-30T21:48:53.452Z"
      },
      {
        "duration": 14,
        "start_time": "2022-11-30T21:48:53.481Z"
      },
      {
        "duration": 10,
        "start_time": "2022-11-30T21:48:53.497Z"
      },
      {
        "duration": 28,
        "start_time": "2022-11-30T21:48:53.508Z"
      },
      {
        "duration": 17,
        "start_time": "2022-11-30T21:48:53.537Z"
      },
      {
        "duration": 79,
        "start_time": "2022-11-30T21:48:53.556Z"
      },
      {
        "duration": 230,
        "start_time": "2022-11-30T21:48:53.637Z"
      },
      {
        "duration": 147,
        "start_time": "2022-11-30T21:48:53.869Z"
      },
      {
        "duration": 13,
        "start_time": "2022-11-30T21:48:54.017Z"
      },
      {
        "duration": 30,
        "start_time": "2022-11-30T21:48:54.032Z"
      },
      {
        "duration": 323,
        "start_time": "2022-11-30T21:48:54.064Z"
      },
      {
        "duration": 177,
        "start_time": "2022-11-30T21:48:54.388Z"
      },
      {
        "duration": 576,
        "start_time": "2022-11-30T21:49:50.355Z"
      },
      {
        "duration": 49,
        "start_time": "2022-11-30T21:49:50.933Z"
      },
      {
        "duration": 676,
        "start_time": "2022-11-30T21:49:50.984Z"
      },
      {
        "duration": 3,
        "start_time": "2022-11-30T21:49:51.662Z"
      },
      {
        "duration": 11,
        "start_time": "2022-11-30T21:49:51.666Z"
      },
      {
        "duration": 144,
        "start_time": "2022-11-30T21:49:51.679Z"
      },
      {
        "duration": 5,
        "start_time": "2022-11-30T21:49:51.824Z"
      },
      {
        "duration": 17,
        "start_time": "2022-11-30T21:49:51.830Z"
      },
      {
        "duration": 19,
        "start_time": "2022-11-30T21:49:51.848Z"
      },
      {
        "duration": 6,
        "start_time": "2022-11-30T21:49:51.869Z"
      },
      {
        "duration": 20,
        "start_time": "2022-11-30T21:49:51.877Z"
      },
      {
        "duration": 8,
        "start_time": "2022-11-30T21:49:51.898Z"
      },
      {
        "duration": 67,
        "start_time": "2022-11-30T21:49:51.921Z"
      },
      {
        "duration": 232,
        "start_time": "2022-11-30T21:49:51.989Z"
      },
      {
        "duration": 128,
        "start_time": "2022-11-30T21:49:52.223Z"
      },
      {
        "duration": 5,
        "start_time": "2022-11-30T21:49:52.353Z"
      },
      {
        "duration": 13,
        "start_time": "2022-11-30T21:49:52.359Z"
      },
      {
        "duration": 279,
        "start_time": "2022-11-30T21:49:52.373Z"
      },
      {
        "duration": 158,
        "start_time": "2022-11-30T21:49:52.654Z"
      },
      {
        "duration": 67,
        "start_time": "2022-11-30T22:06:14.788Z"
      },
      {
        "duration": 10,
        "start_time": "2022-11-30T22:10:17.089Z"
      },
      {
        "duration": 9,
        "start_time": "2022-11-30T22:10:29.024Z"
      },
      {
        "duration": 7,
        "start_time": "2022-11-30T22:17:37.885Z"
      },
      {
        "duration": 78,
        "start_time": "2022-11-30T22:20:40.559Z"
      },
      {
        "duration": 1153,
        "start_time": "2022-11-30T22:21:03.612Z"
      },
      {
        "duration": 175,
        "start_time": "2022-11-30T22:24:02.063Z"
      },
      {
        "duration": 84,
        "start_time": "2022-11-30T22:25:46.455Z"
      },
      {
        "duration": 128,
        "start_time": "2022-11-30T22:28:18.360Z"
      },
      {
        "duration": 191,
        "start_time": "2022-11-30T22:30:48.444Z"
      },
      {
        "duration": 177,
        "start_time": "2022-11-30T22:31:31.579Z"
      },
      {
        "duration": 96,
        "start_time": "2022-11-30T22:31:41.337Z"
      },
      {
        "duration": 1190,
        "start_time": "2022-11-30T22:34:24.955Z"
      },
      {
        "duration": 4,
        "start_time": "2022-11-30T22:36:10.420Z"
      },
      {
        "duration": 7,
        "start_time": "2022-11-30T22:36:34.673Z"
      },
      {
        "duration": 85,
        "start_time": "2022-11-30T22:38:37.287Z"
      },
      {
        "duration": 163,
        "start_time": "2022-11-30T22:40:32.862Z"
      },
      {
        "duration": 150,
        "start_time": "2022-11-30T22:43:03.282Z"
      },
      {
        "duration": 145,
        "start_time": "2022-11-30T22:43:12.128Z"
      },
      {
        "duration": 166,
        "start_time": "2022-11-30T22:43:19.682Z"
      },
      {
        "duration": 157,
        "start_time": "2022-11-30T22:43:40.320Z"
      },
      {
        "duration": 4,
        "start_time": "2022-11-30T22:43:57.406Z"
      },
      {
        "duration": 179,
        "start_time": "2022-11-30T22:44:02.750Z"
      },
      {
        "duration": 10,
        "start_time": "2022-11-30T22:50:20.095Z"
      },
      {
        "duration": 12,
        "start_time": "2022-11-30T22:51:45.259Z"
      },
      {
        "duration": 586,
        "start_time": "2022-11-30T22:52:25.453Z"
      },
      {
        "duration": 49,
        "start_time": "2022-11-30T22:52:26.041Z"
      },
      {
        "duration": 666,
        "start_time": "2022-11-30T22:52:26.092Z"
      },
      {
        "duration": 3,
        "start_time": "2022-11-30T22:52:26.760Z"
      },
      {
        "duration": 23,
        "start_time": "2022-11-30T22:52:26.764Z"
      },
      {
        "duration": 136,
        "start_time": "2022-11-30T22:52:26.788Z"
      },
      {
        "duration": 5,
        "start_time": "2022-11-30T22:52:26.925Z"
      },
      {
        "duration": 15,
        "start_time": "2022-11-30T22:52:26.932Z"
      },
      {
        "duration": 13,
        "start_time": "2022-11-30T22:52:26.949Z"
      },
      {
        "duration": 6,
        "start_time": "2022-11-30T22:52:26.966Z"
      },
      {
        "duration": 51,
        "start_time": "2022-11-30T22:52:26.974Z"
      },
      {
        "duration": 68,
        "start_time": "2022-11-30T22:52:27.027Z"
      },
      {
        "duration": 10,
        "start_time": "2022-11-30T22:52:27.096Z"
      },
      {
        "duration": 207,
        "start_time": "2022-11-30T22:52:27.122Z"
      },
      {
        "duration": 136,
        "start_time": "2022-11-30T22:52:27.330Z"
      },
      {
        "duration": 6,
        "start_time": "2022-11-30T22:52:27.468Z"
      },
      {
        "duration": 10,
        "start_time": "2022-11-30T22:52:27.475Z"
      },
      {
        "duration": 178,
        "start_time": "2022-11-30T22:52:27.487Z"
      },
      {
        "duration": 192,
        "start_time": "2022-11-30T22:52:27.667Z"
      },
      {
        "duration": 13,
        "start_time": "2022-11-30T22:52:27.860Z"
      },
      {
        "duration": 101,
        "start_time": "2022-11-30T22:52:27.874Z"
      },
      {
        "duration": 75,
        "start_time": "2022-11-30T22:55:31.494Z"
      },
      {
        "duration": 10,
        "start_time": "2022-11-30T22:56:04.453Z"
      },
      {
        "duration": 2,
        "start_time": "2022-11-30T22:56:20.210Z"
      },
      {
        "duration": 9,
        "start_time": "2022-11-30T22:56:39.168Z"
      },
      {
        "duration": 221,
        "start_time": "2022-11-30T23:10:13.167Z"
      },
      {
        "duration": 110,
        "start_time": "2022-11-30T23:12:21.525Z"
      },
      {
        "duration": 100,
        "start_time": "2022-11-30T23:13:05.105Z"
      },
      {
        "duration": 97,
        "start_time": "2022-11-30T23:14:23.516Z"
      },
      {
        "duration": 1171,
        "start_time": "2022-11-30T23:16:50.399Z"
      },
      {
        "duration": 1082,
        "start_time": "2022-11-30T23:17:50.715Z"
      },
      {
        "duration": 2,
        "start_time": "2022-11-30T23:18:07.449Z"
      },
      {
        "duration": 10,
        "start_time": "2022-11-30T23:18:24.327Z"
      },
      {
        "duration": 8,
        "start_time": "2022-11-30T23:19:08.995Z"
      },
      {
        "duration": 71,
        "start_time": "2022-11-30T23:21:09.915Z"
      },
      {
        "duration": 3,
        "start_time": "2022-11-30T23:21:19.162Z"
      },
      {
        "duration": 4,
        "start_time": "2022-11-30T23:21:45.191Z"
      },
      {
        "duration": 102,
        "start_time": "2022-11-30T23:22:01.429Z"
      },
      {
        "duration": 8,
        "start_time": "2022-11-30T23:24:51.337Z"
      },
      {
        "duration": 174,
        "start_time": "2022-11-30T23:28:52.965Z"
      },
      {
        "duration": 3,
        "start_time": "2022-11-30T23:33:08.608Z"
      },
      {
        "duration": 4,
        "start_time": "2022-11-30T23:33:45.405Z"
      },
      {
        "duration": 170,
        "start_time": "2022-11-30T23:34:02.940Z"
      },
      {
        "duration": 558,
        "start_time": "2022-11-30T23:34:27.857Z"
      },
      {
        "duration": 49,
        "start_time": "2022-11-30T23:34:28.417Z"
      },
      {
        "duration": 644,
        "start_time": "2022-11-30T23:34:28.467Z"
      },
      {
        "duration": 9,
        "start_time": "2022-11-30T23:34:29.113Z"
      },
      {
        "duration": 7,
        "start_time": "2022-11-30T23:34:29.123Z"
      },
      {
        "duration": 140,
        "start_time": "2022-11-30T23:34:29.132Z"
      },
      {
        "duration": 5,
        "start_time": "2022-11-30T23:34:29.273Z"
      },
      {
        "duration": 14,
        "start_time": "2022-11-30T23:34:29.279Z"
      },
      {
        "duration": 27,
        "start_time": "2022-11-30T23:34:29.295Z"
      },
      {
        "duration": 5,
        "start_time": "2022-11-30T23:34:29.325Z"
      },
      {
        "duration": 18,
        "start_time": "2022-11-30T23:34:29.331Z"
      },
      {
        "duration": 79,
        "start_time": "2022-11-30T23:34:29.351Z"
      },
      {
        "duration": 11,
        "start_time": "2022-11-30T23:34:29.431Z"
      },
      {
        "duration": 222,
        "start_time": "2022-11-30T23:34:29.443Z"
      },
      {
        "duration": 137,
        "start_time": "2022-11-30T23:34:29.667Z"
      },
      {
        "duration": 16,
        "start_time": "2022-11-30T23:34:29.806Z"
      },
      {
        "duration": 10,
        "start_time": "2022-11-30T23:34:29.824Z"
      },
      {
        "duration": 186,
        "start_time": "2022-11-30T23:34:29.836Z"
      },
      {
        "duration": 178,
        "start_time": "2022-11-30T23:34:30.024Z"
      },
      {
        "duration": 73,
        "start_time": "2022-11-30T23:34:30.203Z"
      },
      {
        "duration": 0,
        "start_time": "2022-11-30T23:34:30.277Z"
      },
      {
        "duration": 206,
        "start_time": "2022-11-30T23:38:49.019Z"
      },
      {
        "duration": 104,
        "start_time": "2022-11-30T23:39:47.680Z"
      },
      {
        "duration": 105,
        "start_time": "2022-11-30T23:39:47.843Z"
      },
      {
        "duration": 205,
        "start_time": "2022-11-30T23:39:55.456Z"
      },
      {
        "duration": 266,
        "start_time": "2022-11-30T23:40:01.534Z"
      },
      {
        "duration": 10,
        "start_time": "2022-11-30T23:52:18.883Z"
      },
      {
        "duration": 70,
        "start_time": "2022-11-30T23:52:34.705Z"
      },
      {
        "duration": 9,
        "start_time": "2022-11-30T23:53:44.811Z"
      },
      {
        "duration": 9,
        "start_time": "2022-11-30T23:55:09.478Z"
      },
      {
        "duration": 9,
        "start_time": "2022-11-30T23:55:24.471Z"
      },
      {
        "duration": 8,
        "start_time": "2022-11-30T23:55:50.946Z"
      },
      {
        "duration": 143,
        "start_time": "2022-11-30T23:56:05.440Z"
      },
      {
        "duration": 168,
        "start_time": "2022-11-30T23:56:18.817Z"
      },
      {
        "duration": 105,
        "start_time": "2022-11-30T23:57:15.377Z"
      },
      {
        "duration": 12,
        "start_time": "2022-11-30T23:58:31.361Z"
      },
      {
        "duration": 17,
        "start_time": "2022-11-30T23:58:42.771Z"
      },
      {
        "duration": 120,
        "start_time": "2022-11-30T23:59:07.835Z"
      },
      {
        "duration": 16,
        "start_time": "2022-11-30T23:59:27.076Z"
      },
      {
        "duration": 7,
        "start_time": "2022-12-01T00:04:25.513Z"
      },
      {
        "duration": 8,
        "start_time": "2022-12-01T00:04:34.823Z"
      },
      {
        "duration": 7,
        "start_time": "2022-12-01T00:04:59.368Z"
      },
      {
        "duration": 79,
        "start_time": "2022-12-01T00:05:18.388Z"
      },
      {
        "duration": 8,
        "start_time": "2022-12-01T00:05:27.570Z"
      },
      {
        "duration": 7,
        "start_time": "2022-12-01T00:05:42.881Z"
      },
      {
        "duration": 6,
        "start_time": "2022-12-01T00:09:40.990Z"
      },
      {
        "duration": 8,
        "start_time": "2022-12-01T00:12:24.707Z"
      },
      {
        "duration": 9,
        "start_time": "2022-12-01T00:13:59.466Z"
      },
      {
        "duration": 9,
        "start_time": "2022-12-01T00:14:22.760Z"
      },
      {
        "duration": 4,
        "start_time": "2022-12-01T00:15:15.940Z"
      },
      {
        "duration": 11,
        "start_time": "2022-12-01T00:15:38.432Z"
      },
      {
        "duration": 17,
        "start_time": "2022-12-01T00:15:52.639Z"
      },
      {
        "duration": 29,
        "start_time": "2022-12-01T00:16:14.511Z"
      },
      {
        "duration": 212,
        "start_time": "2022-12-01T00:16:58.267Z"
      },
      {
        "duration": 187,
        "start_time": "2022-12-01T00:17:17.914Z"
      },
      {
        "duration": 17,
        "start_time": "2022-12-01T00:25:27.300Z"
      },
      {
        "duration": 81,
        "start_time": "2022-12-01T00:25:36.796Z"
      },
      {
        "duration": 98,
        "start_time": "2022-12-01T00:26:25.766Z"
      },
      {
        "duration": 86,
        "start_time": "2022-12-01T00:27:01.492Z"
      },
      {
        "duration": 81,
        "start_time": "2022-12-01T00:27:15.139Z"
      },
      {
        "duration": 84,
        "start_time": "2022-12-01T00:27:54.928Z"
      },
      {
        "duration": 221,
        "start_time": "2022-12-01T00:28:38.630Z"
      },
      {
        "duration": 116,
        "start_time": "2022-12-01T00:28:53.778Z"
      },
      {
        "duration": 111,
        "start_time": "2022-12-01T00:34:21.272Z"
      },
      {
        "duration": 120,
        "start_time": "2022-12-01T00:52:48.559Z"
      },
      {
        "duration": 117,
        "start_time": "2022-12-01T00:52:56.087Z"
      },
      {
        "duration": 125,
        "start_time": "2022-12-01T00:53:20.763Z"
      },
      {
        "duration": 129,
        "start_time": "2022-12-01T00:57:02.507Z"
      },
      {
        "duration": 188,
        "start_time": "2022-12-01T00:57:10.762Z"
      },
      {
        "duration": 68,
        "start_time": "2022-12-01T01:01:02.345Z"
      },
      {
        "duration": 226,
        "start_time": "2022-12-01T01:01:26.725Z"
      },
      {
        "duration": 210,
        "start_time": "2022-12-01T01:01:42.534Z"
      },
      {
        "duration": 269,
        "start_time": "2022-12-01T01:05:38.513Z"
      },
      {
        "duration": 252,
        "start_time": "2022-12-01T01:07:34.778Z"
      },
      {
        "duration": 264,
        "start_time": "2022-12-01T01:08:30.036Z"
      },
      {
        "duration": 260,
        "start_time": "2022-12-01T01:16:35.068Z"
      },
      {
        "duration": 356,
        "start_time": "2022-12-01T01:16:57.195Z"
      },
      {
        "duration": 262,
        "start_time": "2022-12-01T01:18:55.842Z"
      },
      {
        "duration": 11,
        "start_time": "2022-12-01T01:24:17.991Z"
      },
      {
        "duration": 7,
        "start_time": "2022-12-01T01:24:26.440Z"
      },
      {
        "duration": 123,
        "start_time": "2022-12-01T01:24:43.061Z"
      },
      {
        "duration": 7,
        "start_time": "2022-12-01T01:24:54.565Z"
      },
      {
        "duration": 7,
        "start_time": "2022-12-01T01:25:37.026Z"
      },
      {
        "duration": 10,
        "start_time": "2022-12-01T01:25:56.031Z"
      },
      {
        "duration": 11,
        "start_time": "2022-12-01T01:26:15.198Z"
      },
      {
        "duration": 11,
        "start_time": "2022-12-01T01:27:20.329Z"
      },
      {
        "duration": 117,
        "start_time": "2022-12-01T01:27:33.767Z"
      },
      {
        "duration": 12,
        "start_time": "2022-12-01T01:27:40.919Z"
      },
      {
        "duration": 18,
        "start_time": "2022-12-01T01:28:28.388Z"
      },
      {
        "duration": 20,
        "start_time": "2022-12-01T01:29:59.774Z"
      },
      {
        "duration": 16,
        "start_time": "2022-12-01T01:30:11.084Z"
      },
      {
        "duration": 19,
        "start_time": "2022-12-01T01:30:26.746Z"
      },
      {
        "duration": 558,
        "start_time": "2022-12-01T01:41:05.175Z"
      },
      {
        "duration": 50,
        "start_time": "2022-12-01T01:41:05.735Z"
      },
      {
        "duration": 679,
        "start_time": "2022-12-01T01:41:05.787Z"
      },
      {
        "duration": 3,
        "start_time": "2022-12-01T01:41:06.467Z"
      },
      {
        "duration": 20,
        "start_time": "2022-12-01T01:41:06.471Z"
      },
      {
        "duration": 146,
        "start_time": "2022-12-01T01:41:06.492Z"
      },
      {
        "duration": 5,
        "start_time": "2022-12-01T01:41:06.640Z"
      },
      {
        "duration": 15,
        "start_time": "2022-12-01T01:41:06.646Z"
      },
      {
        "duration": 11,
        "start_time": "2022-12-01T01:41:06.663Z"
      },
      {
        "duration": 5,
        "start_time": "2022-12-01T01:41:06.676Z"
      },
      {
        "duration": 81,
        "start_time": "2022-12-01T01:41:06.683Z"
      },
      {
        "duration": 7,
        "start_time": "2022-12-01T01:41:06.766Z"
      },
      {
        "duration": 9,
        "start_time": "2022-12-01T01:41:06.775Z"
      },
      {
        "duration": 245,
        "start_time": "2022-12-01T01:41:06.785Z"
      },
      {
        "duration": 165,
        "start_time": "2022-12-01T01:41:07.031Z"
      },
      {
        "duration": 6,
        "start_time": "2022-12-01T01:41:07.198Z"
      },
      {
        "duration": 22,
        "start_time": "2022-12-01T01:41:07.206Z"
      },
      {
        "duration": 163,
        "start_time": "2022-12-01T01:41:07.230Z"
      },
      {
        "duration": 176,
        "start_time": "2022-12-01T01:41:07.395Z"
      },
      {
        "duration": 279,
        "start_time": "2022-12-01T01:41:07.573Z"
      },
      {
        "duration": 130,
        "start_time": "2022-12-01T01:41:07.853Z"
      },
      {
        "duration": 285,
        "start_time": "2022-12-01T01:41:07.984Z"
      },
      {
        "duration": 284,
        "start_time": "2022-12-01T01:41:08.271Z"
      },
      {
        "duration": 12,
        "start_time": "2022-12-01T01:41:08.556Z"
      },
      {
        "duration": 10,
        "start_time": "2022-12-01T01:41:08.570Z"
      },
      {
        "duration": 10,
        "start_time": "2022-12-01T01:42:12.721Z"
      },
      {
        "duration": 264,
        "start_time": "2022-12-01T01:42:21.310Z"
      },
      {
        "duration": 8,
        "start_time": "2022-12-01T01:43:14.858Z"
      },
      {
        "duration": 10,
        "start_time": "2022-12-01T01:43:20.523Z"
      },
      {
        "duration": 317,
        "start_time": "2022-12-01T01:43:28.376Z"
      },
      {
        "duration": 6,
        "start_time": "2022-12-01T01:43:51.272Z"
      },
      {
        "duration": 10,
        "start_time": "2022-12-01T01:43:53.990Z"
      },
      {
        "duration": 262,
        "start_time": "2022-12-01T01:44:00.230Z"
      },
      {
        "duration": 180,
        "start_time": "2022-12-01T01:44:04.743Z"
      },
      {
        "duration": 6,
        "start_time": "2022-12-01T01:45:25.312Z"
      },
      {
        "duration": 11,
        "start_time": "2022-12-01T01:45:28.126Z"
      },
      {
        "duration": 245,
        "start_time": "2022-12-01T01:45:30.399Z"
      },
      {
        "duration": 160,
        "start_time": "2022-12-01T01:45:34.478Z"
      },
      {
        "duration": 7,
        "start_time": "2022-12-01T01:45:46.064Z"
      },
      {
        "duration": 10,
        "start_time": "2022-12-01T01:45:48.317Z"
      },
      {
        "duration": 248,
        "start_time": "2022-12-01T01:45:50.604Z"
      },
      {
        "duration": 164,
        "start_time": "2022-12-01T01:45:54.700Z"
      },
      {
        "duration": 579,
        "start_time": "2022-12-01T01:45:59.262Z"
      },
      {
        "duration": 55,
        "start_time": "2022-12-01T01:45:59.844Z"
      },
      {
        "duration": 685,
        "start_time": "2022-12-01T01:45:59.901Z"
      },
      {
        "duration": 2,
        "start_time": "2022-12-01T01:46:00.589Z"
      },
      {
        "duration": 20,
        "start_time": "2022-12-01T01:46:00.592Z"
      },
      {
        "duration": 156,
        "start_time": "2022-12-01T01:46:00.613Z"
      },
      {
        "duration": 5,
        "start_time": "2022-12-01T01:46:00.770Z"
      },
      {
        "duration": 31,
        "start_time": "2022-12-01T01:46:00.777Z"
      },
      {
        "duration": 31,
        "start_time": "2022-12-01T01:46:00.809Z"
      },
      {
        "duration": 16,
        "start_time": "2022-12-01T01:46:00.842Z"
      },
      {
        "duration": 106,
        "start_time": "2022-12-01T01:46:00.859Z"
      },
      {
        "duration": 11,
        "start_time": "2022-12-01T01:46:00.967Z"
      },
      {
        "duration": 10,
        "start_time": "2022-12-01T01:46:00.980Z"
      },
      {
        "duration": 218,
        "start_time": "2022-12-01T01:46:00.992Z"
      },
      {
        "duration": 129,
        "start_time": "2022-12-01T01:46:01.212Z"
      },
      {
        "duration": 7,
        "start_time": "2022-12-01T01:46:01.343Z"
      },
      {
        "duration": 11,
        "start_time": "2022-12-01T01:46:01.351Z"
      },
      {
        "duration": 260,
        "start_time": "2022-12-01T01:46:01.363Z"
      },
      {
        "duration": 178,
        "start_time": "2022-12-01T01:46:01.625Z"
      },
      {
        "duration": 223,
        "start_time": "2022-12-01T01:46:01.804Z"
      },
      {
        "duration": 116,
        "start_time": "2022-12-01T01:46:02.029Z"
      },
      {
        "duration": 247,
        "start_time": "2022-12-01T01:46:02.146Z"
      },
      {
        "duration": 251,
        "start_time": "2022-12-01T01:46:02.395Z"
      },
      {
        "duration": 11,
        "start_time": "2022-12-01T01:46:02.647Z"
      },
      {
        "duration": 22,
        "start_time": "2022-12-01T01:46:02.659Z"
      },
      {
        "duration": 138,
        "start_time": "2022-12-01T01:48:37.488Z"
      },
      {
        "duration": 613,
        "start_time": "2022-12-01T01:49:28.993Z"
      },
      {
        "duration": 51,
        "start_time": "2022-12-01T01:49:29.608Z"
      },
      {
        "duration": 665,
        "start_time": "2022-12-01T01:49:29.661Z"
      },
      {
        "duration": 2,
        "start_time": "2022-12-01T01:49:30.328Z"
      },
      {
        "duration": 32,
        "start_time": "2022-12-01T01:49:30.332Z"
      },
      {
        "duration": 145,
        "start_time": "2022-12-01T01:49:30.366Z"
      },
      {
        "duration": 9,
        "start_time": "2022-12-01T01:49:30.513Z"
      },
      {
        "duration": 40,
        "start_time": "2022-12-01T01:49:30.524Z"
      },
      {
        "duration": 20,
        "start_time": "2022-12-01T01:49:30.566Z"
      },
      {
        "duration": 22,
        "start_time": "2022-12-01T01:49:30.589Z"
      },
      {
        "duration": 91,
        "start_time": "2022-12-01T01:49:30.612Z"
      },
      {
        "duration": 20,
        "start_time": "2022-12-01T01:49:30.705Z"
      },
      {
        "duration": 26,
        "start_time": "2022-12-01T01:49:30.726Z"
      },
      {
        "duration": 214,
        "start_time": "2022-12-01T01:49:30.754Z"
      },
      {
        "duration": 122,
        "start_time": "2022-12-01T01:49:30.970Z"
      },
      {
        "duration": 7,
        "start_time": "2022-12-01T01:49:31.094Z"
      },
      {
        "duration": 24,
        "start_time": "2022-12-01T01:49:31.102Z"
      },
      {
        "duration": 252,
        "start_time": "2022-12-01T01:49:31.128Z"
      },
      {
        "duration": 151,
        "start_time": "2022-12-01T01:49:31.382Z"
      },
      {
        "duration": 288,
        "start_time": "2022-12-01T01:49:31.535Z"
      },
      {
        "duration": 128,
        "start_time": "2022-12-01T01:49:31.825Z"
      },
      {
        "duration": 272,
        "start_time": "2022-12-01T01:49:31.954Z"
      },
      {
        "duration": 274,
        "start_time": "2022-12-01T01:49:32.228Z"
      },
      {
        "duration": 19,
        "start_time": "2022-12-01T01:49:32.504Z"
      },
      {
        "duration": 13,
        "start_time": "2022-12-01T01:49:32.524Z"
      },
      {
        "duration": 140,
        "start_time": "2022-12-01T01:51:25.522Z"
      },
      {
        "duration": 618,
        "start_time": "2022-12-01T01:52:12.407Z"
      },
      {
        "duration": 50,
        "start_time": "2022-12-01T01:52:13.027Z"
      },
      {
        "duration": 660,
        "start_time": "2022-12-01T01:52:13.078Z"
      },
      {
        "duration": 2,
        "start_time": "2022-12-01T01:52:13.740Z"
      },
      {
        "duration": 20,
        "start_time": "2022-12-01T01:52:13.743Z"
      },
      {
        "duration": 140,
        "start_time": "2022-12-01T01:52:13.764Z"
      },
      {
        "duration": 5,
        "start_time": "2022-12-01T01:52:13.906Z"
      },
      {
        "duration": 22,
        "start_time": "2022-12-01T01:52:13.913Z"
      },
      {
        "duration": 13,
        "start_time": "2022-12-01T01:52:13.936Z"
      },
      {
        "duration": 5,
        "start_time": "2022-12-01T01:52:13.952Z"
      },
      {
        "duration": 97,
        "start_time": "2022-12-01T01:52:13.959Z"
      },
      {
        "duration": 21,
        "start_time": "2022-12-01T01:52:14.059Z"
      },
      {
        "duration": 12,
        "start_time": "2022-12-01T01:52:14.082Z"
      },
      {
        "duration": 217,
        "start_time": "2022-12-01T01:52:14.096Z"
      },
      {
        "duration": 133,
        "start_time": "2022-12-01T01:52:14.314Z"
      },
      {
        "duration": 6,
        "start_time": "2022-12-01T01:52:14.448Z"
      },
      {
        "duration": 13,
        "start_time": "2022-12-01T01:52:14.455Z"
      },
      {
        "duration": 253,
        "start_time": "2022-12-01T01:52:14.469Z"
      },
      {
        "duration": 141,
        "start_time": "2022-12-01T01:52:14.723Z"
      },
      {
        "duration": 214,
        "start_time": "2022-12-01T01:52:14.865Z"
      },
      {
        "duration": 137,
        "start_time": "2022-12-01T01:52:15.081Z"
      },
      {
        "duration": 250,
        "start_time": "2022-12-01T01:52:15.221Z"
      },
      {
        "duration": 251,
        "start_time": "2022-12-01T01:52:15.472Z"
      },
      {
        "duration": 10,
        "start_time": "2022-12-01T01:52:15.724Z"
      },
      {
        "duration": 12,
        "start_time": "2022-12-01T01:52:15.735Z"
      },
      {
        "duration": 8,
        "start_time": "2022-12-01T01:53:21.161Z"
      },
      {
        "duration": 243,
        "start_time": "2022-12-01T01:53:24.584Z"
      },
      {
        "duration": 205,
        "start_time": "2022-12-01T01:53:32.039Z"
      },
      {
        "duration": 579,
        "start_time": "2022-12-01T01:58:41.250Z"
      },
      {
        "duration": 51,
        "start_time": "2022-12-01T01:58:41.832Z"
      },
      {
        "duration": 653,
        "start_time": "2022-12-01T01:58:41.884Z"
      },
      {
        "duration": 3,
        "start_time": "2022-12-01T01:58:42.539Z"
      },
      {
        "duration": 9,
        "start_time": "2022-12-01T01:58:42.544Z"
      },
      {
        "duration": 138,
        "start_time": "2022-12-01T01:58:42.555Z"
      },
      {
        "duration": 5,
        "start_time": "2022-12-01T01:58:42.694Z"
      },
      {
        "duration": 27,
        "start_time": "2022-12-01T01:58:42.700Z"
      },
      {
        "duration": 11,
        "start_time": "2022-12-01T01:58:42.729Z"
      },
      {
        "duration": 5,
        "start_time": "2022-12-01T01:58:42.741Z"
      },
      {
        "duration": 16,
        "start_time": "2022-12-01T01:58:42.747Z"
      },
      {
        "duration": 9,
        "start_time": "2022-12-01T01:58:42.765Z"
      },
      {
        "duration": 83,
        "start_time": "2022-12-01T01:58:42.775Z"
      },
      {
        "duration": 224,
        "start_time": "2022-12-01T01:58:42.860Z"
      },
      {
        "duration": 127,
        "start_time": "2022-12-01T01:58:43.085Z"
      },
      {
        "duration": 12,
        "start_time": "2022-12-01T01:58:43.213Z"
      },
      {
        "duration": 9,
        "start_time": "2022-12-01T01:58:43.227Z"
      },
      {
        "duration": 261,
        "start_time": "2022-12-01T01:58:43.238Z"
      },
      {
        "duration": 147,
        "start_time": "2022-12-01T01:58:43.501Z"
      },
      {
        "duration": 321,
        "start_time": "2022-12-01T01:58:43.650Z"
      },
      {
        "duration": 182,
        "start_time": "2022-12-01T01:58:43.973Z"
      },
      {
        "duration": 268,
        "start_time": "2022-12-01T01:58:44.157Z"
      },
      {
        "duration": 267,
        "start_time": "2022-12-01T01:58:44.426Z"
      },
      {
        "duration": 10,
        "start_time": "2022-12-01T01:58:44.694Z"
      },
      {
        "duration": 24,
        "start_time": "2022-12-01T01:58:44.705Z"
      },
      {
        "duration": 12,
        "start_time": "2022-12-01T02:05:24.624Z"
      },
      {
        "duration": 10,
        "start_time": "2022-12-01T02:05:33.887Z"
      },
      {
        "duration": 10,
        "start_time": "2022-12-01T02:07:54.517Z"
      },
      {
        "duration": 10,
        "start_time": "2022-12-01T02:08:43.856Z"
      },
      {
        "duration": 67,
        "start_time": "2022-12-01T02:09:16.540Z"
      },
      {
        "duration": 9,
        "start_time": "2022-12-01T02:09:51.690Z"
      },
      {
        "duration": 10,
        "start_time": "2022-12-01T02:10:13.897Z"
      },
      {
        "duration": 12,
        "start_time": "2022-12-01T02:10:32.854Z"
      },
      {
        "duration": 11,
        "start_time": "2022-12-01T02:10:43.845Z"
      },
      {
        "duration": 6,
        "start_time": "2022-12-01T02:11:27.378Z"
      },
      {
        "duration": 11,
        "start_time": "2022-12-01T02:12:26.414Z"
      },
      {
        "duration": 19,
        "start_time": "2022-12-01T02:13:27.000Z"
      },
      {
        "duration": 159,
        "start_time": "2022-12-01T02:13:55.046Z"
      },
      {
        "duration": 191,
        "start_time": "2022-12-01T02:14:14.456Z"
      },
      {
        "duration": 138,
        "start_time": "2022-12-01T02:14:24.662Z"
      },
      {
        "duration": 125,
        "start_time": "2022-12-01T02:14:37.683Z"
      },
      {
        "duration": 141,
        "start_time": "2022-12-01T02:17:02.471Z"
      },
      {
        "duration": 102,
        "start_time": "2022-12-01T02:17:57.811Z"
      },
      {
        "duration": 147,
        "start_time": "2022-12-01T02:18:23.145Z"
      },
      {
        "duration": 381,
        "start_time": "2022-12-01T02:18:59.584Z"
      },
      {
        "duration": 359,
        "start_time": "2022-12-01T02:20:11.049Z"
      },
      {
        "duration": 433,
        "start_time": "2022-12-01T02:20:28.073Z"
      },
      {
        "duration": 362,
        "start_time": "2022-12-01T02:21:49.153Z"
      },
      {
        "duration": 358,
        "start_time": "2022-12-01T02:22:40.701Z"
      },
      {
        "duration": 366,
        "start_time": "2022-12-01T02:22:52.444Z"
      },
      {
        "duration": 71,
        "start_time": "2022-12-01T02:23:04.604Z"
      },
      {
        "duration": 360,
        "start_time": "2022-12-01T02:23:09.225Z"
      },
      {
        "duration": 597,
        "start_time": "2022-12-01T02:24:29.966Z"
      },
      {
        "duration": 51,
        "start_time": "2022-12-01T02:24:30.565Z"
      },
      {
        "duration": 681,
        "start_time": "2022-12-01T02:24:30.618Z"
      },
      {
        "duration": 2,
        "start_time": "2022-12-01T02:24:31.301Z"
      },
      {
        "duration": 18,
        "start_time": "2022-12-01T02:24:31.304Z"
      },
      {
        "duration": 132,
        "start_time": "2022-12-01T02:24:31.323Z"
      },
      {
        "duration": 5,
        "start_time": "2022-12-01T02:24:31.457Z"
      },
      {
        "duration": 16,
        "start_time": "2022-12-01T02:24:31.464Z"
      },
      {
        "duration": 14,
        "start_time": "2022-12-01T02:24:31.482Z"
      },
      {
        "duration": 28,
        "start_time": "2022-12-01T02:24:31.499Z"
      },
      {
        "duration": 75,
        "start_time": "2022-12-01T02:24:31.529Z"
      },
      {
        "duration": 20,
        "start_time": "2022-12-01T02:24:31.605Z"
      },
      {
        "duration": 10,
        "start_time": "2022-12-01T02:24:31.627Z"
      },
      {
        "duration": 235,
        "start_time": "2022-12-01T02:24:31.639Z"
      },
      {
        "duration": 125,
        "start_time": "2022-12-01T02:24:31.876Z"
      },
      {
        "duration": 6,
        "start_time": "2022-12-01T02:24:32.003Z"
      },
      {
        "duration": 20,
        "start_time": "2022-12-01T02:24:32.010Z"
      },
      {
        "duration": 245,
        "start_time": "2022-12-01T02:24:32.031Z"
      },
      {
        "duration": 149,
        "start_time": "2022-12-01T02:24:32.278Z"
      },
      {
        "duration": 286,
        "start_time": "2022-12-01T02:24:32.429Z"
      },
      {
        "duration": 170,
        "start_time": "2022-12-01T02:24:32.717Z"
      },
      {
        "duration": 303,
        "start_time": "2022-12-01T02:24:32.889Z"
      },
      {
        "duration": 278,
        "start_time": "2022-12-01T02:24:33.193Z"
      },
      {
        "duration": 9,
        "start_time": "2022-12-01T02:24:33.473Z"
      },
      {
        "duration": 473,
        "start_time": "2022-12-01T02:24:33.484Z"
      },
      {
        "duration": 588,
        "start_time": "2022-12-01T02:25:47.785Z"
      },
      {
        "duration": 50,
        "start_time": "2022-12-01T02:25:48.375Z"
      },
      {
        "duration": 681,
        "start_time": "2022-12-01T02:25:48.427Z"
      },
      {
        "duration": 2,
        "start_time": "2022-12-01T02:25:49.110Z"
      },
      {
        "duration": 16,
        "start_time": "2022-12-01T02:25:49.114Z"
      },
      {
        "duration": 141,
        "start_time": "2022-12-01T02:25:49.132Z"
      },
      {
        "duration": 6,
        "start_time": "2022-12-01T02:25:49.274Z"
      },
      {
        "duration": 14,
        "start_time": "2022-12-01T02:25:49.282Z"
      },
      {
        "duration": 28,
        "start_time": "2022-12-01T02:25:49.298Z"
      },
      {
        "duration": 5,
        "start_time": "2022-12-01T02:25:49.329Z"
      },
      {
        "duration": 87,
        "start_time": "2022-12-01T02:25:49.336Z"
      },
      {
        "duration": 10,
        "start_time": "2022-12-01T02:25:49.425Z"
      },
      {
        "duration": 11,
        "start_time": "2022-12-01T02:25:49.437Z"
      },
      {
        "duration": 242,
        "start_time": "2022-12-01T02:25:49.449Z"
      },
      {
        "duration": 151,
        "start_time": "2022-12-01T02:25:49.693Z"
      },
      {
        "duration": 7,
        "start_time": "2022-12-01T02:25:49.845Z"
      },
      {
        "duration": 12,
        "start_time": "2022-12-01T02:25:49.853Z"
      },
      {
        "duration": 270,
        "start_time": "2022-12-01T02:25:49.866Z"
      },
      {
        "duration": 152,
        "start_time": "2022-12-01T02:25:50.138Z"
      },
      {
        "duration": 233,
        "start_time": "2022-12-01T02:25:50.291Z"
      },
      {
        "duration": 160,
        "start_time": "2022-12-01T02:25:50.525Z"
      },
      {
        "duration": 263,
        "start_time": "2022-12-01T02:25:50.686Z"
      },
      {
        "duration": 263,
        "start_time": "2022-12-01T02:25:50.950Z"
      },
      {
        "duration": 13,
        "start_time": "2022-12-01T02:25:51.215Z"
      },
      {
        "duration": 456,
        "start_time": "2022-12-01T02:25:51.229Z"
      },
      {
        "duration": 7,
        "start_time": "2022-12-01T02:30:35.031Z"
      },
      {
        "duration": 8,
        "start_time": "2022-12-01T02:30:35.126Z"
      },
      {
        "duration": 10,
        "start_time": "2022-12-01T02:31:36.097Z"
      },
      {
        "duration": 7,
        "start_time": "2022-12-01T02:32:12.286Z"
      },
      {
        "duration": 7,
        "start_time": "2022-12-01T02:36:35.576Z"
      },
      {
        "duration": 7,
        "start_time": "2022-12-01T02:36:37.476Z"
      },
      {
        "duration": 9,
        "start_time": "2022-12-01T02:37:33.988Z"
      },
      {
        "duration": 10,
        "start_time": "2022-12-01T02:38:33.695Z"
      },
      {
        "duration": 370,
        "start_time": "2022-12-01T02:39:27.355Z"
      },
      {
        "duration": 109,
        "start_time": "2022-12-01T02:45:43.133Z"
      },
      {
        "duration": 134,
        "start_time": "2022-12-01T02:46:46.937Z"
      },
      {
        "duration": 145,
        "start_time": "2022-12-01T02:47:39.939Z"
      },
      {
        "duration": 135,
        "start_time": "2022-12-01T03:03:36.488Z"
      },
      {
        "duration": 139,
        "start_time": "2022-12-01T03:03:52.549Z"
      },
      {
        "duration": 135,
        "start_time": "2022-12-01T03:08:41.197Z"
      },
      {
        "duration": 11,
        "start_time": "2022-12-01T03:16:54.102Z"
      },
      {
        "duration": 254,
        "start_time": "2022-12-01T03:17:47.394Z"
      },
      {
        "duration": 73,
        "start_time": "2022-12-01T03:20:17.527Z"
      },
      {
        "duration": 16,
        "start_time": "2022-12-01T03:20:55.438Z"
      },
      {
        "duration": 1097,
        "start_time": "2022-12-01T03:22:06.044Z"
      },
      {
        "duration": 5,
        "start_time": "2022-12-01T03:22:23.004Z"
      },
      {
        "duration": 96,
        "start_time": "2022-12-01T03:39:29.352Z"
      },
      {
        "duration": 71,
        "start_time": "2022-12-01T03:39:39.016Z"
      },
      {
        "duration": 17,
        "start_time": "2022-12-01T03:42:11.592Z"
      },
      {
        "duration": 589,
        "start_time": "2022-12-01T03:42:44.953Z"
      },
      {
        "duration": 52,
        "start_time": "2022-12-01T03:42:45.544Z"
      },
      {
        "duration": 675,
        "start_time": "2022-12-01T03:42:45.598Z"
      },
      {
        "duration": 3,
        "start_time": "2022-12-01T03:42:46.275Z"
      },
      {
        "duration": 15,
        "start_time": "2022-12-01T03:42:46.279Z"
      },
      {
        "duration": 15,
        "start_time": "2022-12-01T03:42:46.296Z"
      },
      {
        "duration": 22,
        "start_time": "2022-12-01T03:42:46.312Z"
      },
      {
        "duration": 68,
        "start_time": "2022-12-01T03:42:46.336Z"
      },
      {
        "duration": 0,
        "start_time": "2022-12-01T03:42:46.406Z"
      },
      {
        "duration": 0,
        "start_time": "2022-12-01T03:42:46.407Z"
      },
      {
        "duration": 0,
        "start_time": "2022-12-01T03:42:46.408Z"
      },
      {
        "duration": 0,
        "start_time": "2022-12-01T03:42:46.409Z"
      },
      {
        "duration": 0,
        "start_time": "2022-12-01T03:42:46.411Z"
      },
      {
        "duration": 0,
        "start_time": "2022-12-01T03:42:46.411Z"
      },
      {
        "duration": 0,
        "start_time": "2022-12-01T03:42:46.412Z"
      },
      {
        "duration": 0,
        "start_time": "2022-12-01T03:42:46.413Z"
      },
      {
        "duration": 0,
        "start_time": "2022-12-01T03:42:46.414Z"
      },
      {
        "duration": 0,
        "start_time": "2022-12-01T03:42:46.415Z"
      },
      {
        "duration": 0,
        "start_time": "2022-12-01T03:42:46.415Z"
      },
      {
        "duration": 0,
        "start_time": "2022-12-01T03:42:46.416Z"
      },
      {
        "duration": 0,
        "start_time": "2022-12-01T03:42:46.417Z"
      },
      {
        "duration": 0,
        "start_time": "2022-12-01T03:42:46.418Z"
      },
      {
        "duration": 0,
        "start_time": "2022-12-01T03:42:46.419Z"
      },
      {
        "duration": 0,
        "start_time": "2022-12-01T03:42:46.420Z"
      },
      {
        "duration": 0,
        "start_time": "2022-12-01T03:42:46.420Z"
      },
      {
        "duration": 0,
        "start_time": "2022-12-01T03:42:46.421Z"
      },
      {
        "duration": 0,
        "start_time": "2022-12-01T03:42:46.422Z"
      },
      {
        "duration": 0,
        "start_time": "2022-12-01T03:42:46.423Z"
      },
      {
        "duration": 0,
        "start_time": "2022-12-01T03:42:46.424Z"
      },
      {
        "duration": 0,
        "start_time": "2022-12-01T03:42:46.425Z"
      },
      {
        "duration": 0,
        "start_time": "2022-12-01T03:42:46.426Z"
      },
      {
        "duration": 0,
        "start_time": "2022-12-01T03:42:46.427Z"
      },
      {
        "duration": 616,
        "start_time": "2022-12-01T03:44:41.029Z"
      },
      {
        "duration": 49,
        "start_time": "2022-12-01T03:44:41.648Z"
      },
      {
        "duration": 674,
        "start_time": "2022-12-01T03:44:41.698Z"
      },
      {
        "duration": 3,
        "start_time": "2022-12-01T03:44:42.374Z"
      },
      {
        "duration": 16,
        "start_time": "2022-12-01T03:44:42.378Z"
      },
      {
        "duration": 15,
        "start_time": "2022-12-01T03:44:42.396Z"
      },
      {
        "duration": 135,
        "start_time": "2022-12-01T03:44:42.412Z"
      },
      {
        "duration": 5,
        "start_time": "2022-12-01T03:44:42.549Z"
      },
      {
        "duration": 19,
        "start_time": "2022-12-01T03:44:42.555Z"
      },
      {
        "duration": 16,
        "start_time": "2022-12-01T03:44:42.576Z"
      },
      {
        "duration": 4,
        "start_time": "2022-12-01T03:44:42.594Z"
      },
      {
        "duration": 88,
        "start_time": "2022-12-01T03:44:42.599Z"
      },
      {
        "duration": 11,
        "start_time": "2022-12-01T03:44:42.688Z"
      },
      {
        "duration": 10,
        "start_time": "2022-12-01T03:44:42.701Z"
      },
      {
        "duration": 215,
        "start_time": "2022-12-01T03:44:42.722Z"
      },
      {
        "duration": 128,
        "start_time": "2022-12-01T03:44:42.939Z"
      },
      {
        "duration": 7,
        "start_time": "2022-12-01T03:44:43.069Z"
      },
      {
        "duration": 12,
        "start_time": "2022-12-01T03:44:43.077Z"
      },
      {
        "duration": 182,
        "start_time": "2022-12-01T03:44:43.091Z"
      },
      {
        "duration": 151,
        "start_time": "2022-12-01T03:44:43.275Z"
      },
      {
        "duration": 231,
        "start_time": "2022-12-01T03:44:43.428Z"
      },
      {
        "duration": 154,
        "start_time": "2022-12-01T03:44:43.661Z"
      },
      {
        "duration": 294,
        "start_time": "2022-12-01T03:44:43.817Z"
      },
      {
        "duration": 263,
        "start_time": "2022-12-01T03:44:44.115Z"
      },
      {
        "duration": 9,
        "start_time": "2022-12-01T03:44:44.380Z"
      },
      {
        "duration": 9,
        "start_time": "2022-12-01T03:44:44.390Z"
      },
      {
        "duration": 26,
        "start_time": "2022-12-01T03:44:44.401Z"
      },
      {
        "duration": 153,
        "start_time": "2022-12-01T03:44:44.430Z"
      },
      {
        "duration": 218,
        "start_time": "2022-12-01T03:44:44.584Z"
      },
      {
        "duration": 80,
        "start_time": "2022-12-01T03:44:44.803Z"
      },
      {
        "duration": 123,
        "start_time": "2022-12-01T03:47:02.741Z"
      },
      {
        "duration": 154,
        "start_time": "2022-12-01T03:50:38.859Z"
      },
      {
        "duration": 136,
        "start_time": "2022-12-01T03:50:49.921Z"
      },
      {
        "duration": 9,
        "start_time": "2022-12-01T04:06:44.210Z"
      },
      {
        "duration": 1046,
        "start_time": "2022-12-01T04:07:22.923Z"
      },
      {
        "duration": 51,
        "start_time": "2022-12-01T04:07:23.971Z"
      },
      {
        "duration": 699,
        "start_time": "2022-12-01T04:07:24.023Z"
      },
      {
        "duration": 3,
        "start_time": "2022-12-01T04:07:24.724Z"
      },
      {
        "duration": 13,
        "start_time": "2022-12-01T04:07:24.728Z"
      },
      {
        "duration": 144,
        "start_time": "2022-12-01T04:07:24.743Z"
      },
      {
        "duration": 6,
        "start_time": "2022-12-01T04:07:24.889Z"
      },
      {
        "duration": 27,
        "start_time": "2022-12-01T04:07:24.896Z"
      },
      {
        "duration": 13,
        "start_time": "2022-12-01T04:07:24.924Z"
      },
      {
        "duration": 5,
        "start_time": "2022-12-01T04:07:24.940Z"
      },
      {
        "duration": 19,
        "start_time": "2022-12-01T04:07:24.947Z"
      },
      {
        "duration": 10,
        "start_time": "2022-12-01T04:07:24.967Z"
      },
      {
        "duration": 15,
        "start_time": "2022-12-01T04:07:24.978Z"
      },
      {
        "duration": 235,
        "start_time": "2022-12-01T04:07:24.994Z"
      },
      {
        "duration": 133,
        "start_time": "2022-12-01T04:07:25.230Z"
      },
      {
        "duration": 6,
        "start_time": "2022-12-01T04:07:25.364Z"
      },
      {
        "duration": 19,
        "start_time": "2022-12-01T04:07:25.371Z"
      },
      {
        "duration": 173,
        "start_time": "2022-12-01T04:07:25.391Z"
      },
      {
        "duration": 168,
        "start_time": "2022-12-01T04:07:25.566Z"
      },
      {
        "duration": 264,
        "start_time": "2022-12-01T04:07:25.735Z"
      },
      {
        "duration": 237,
        "start_time": "2022-12-01T04:07:26.001Z"
      },
      {
        "duration": 283,
        "start_time": "2022-12-01T04:07:26.239Z"
      },
      {
        "duration": 277,
        "start_time": "2022-12-01T04:07:26.524Z"
      },
      {
        "duration": 20,
        "start_time": "2022-12-01T04:07:26.803Z"
      },
      {
        "duration": 7,
        "start_time": "2022-12-01T04:07:26.824Z"
      },
      {
        "duration": 27,
        "start_time": "2022-12-01T04:07:26.833Z"
      },
      {
        "duration": 155,
        "start_time": "2022-12-01T04:07:26.862Z"
      },
      {
        "duration": 155,
        "start_time": "2022-12-01T04:07:27.023Z"
      },
      {
        "duration": 149,
        "start_time": "2022-12-01T04:07:27.180Z"
      },
      {
        "duration": 74,
        "start_time": "2022-12-01T04:07:27.331Z"
      },
      {
        "duration": 0,
        "start_time": "2022-12-01T04:07:27.407Z"
      },
      {
        "duration": 9,
        "start_time": "2022-12-01T04:07:43.931Z"
      },
      {
        "duration": 91,
        "start_time": "2022-12-01T04:11:21.389Z"
      },
      {
        "duration": 8,
        "start_time": "2022-12-01T04:19:02.025Z"
      },
      {
        "duration": 9,
        "start_time": "2022-12-01T04:22:22.745Z"
      },
      {
        "duration": 9,
        "start_time": "2022-12-01T04:22:44.999Z"
      },
      {
        "duration": 9,
        "start_time": "2022-12-01T04:25:11.758Z"
      },
      {
        "duration": 9,
        "start_time": "2022-12-01T04:26:30.851Z"
      },
      {
        "duration": 9,
        "start_time": "2022-12-01T04:27:36.212Z"
      },
      {
        "duration": 9,
        "start_time": "2022-12-01T04:34:31.743Z"
      },
      {
        "duration": 8,
        "start_time": "2022-12-01T04:36:44.754Z"
      },
      {
        "duration": 5,
        "start_time": "2022-12-01T04:36:56.629Z"
      },
      {
        "duration": 9,
        "start_time": "2022-12-01T04:37:30.654Z"
      },
      {
        "duration": 8,
        "start_time": "2022-12-01T04:46:11.396Z"
      },
      {
        "duration": 9,
        "start_time": "2022-12-01T04:51:59.096Z"
      },
      {
        "duration": 1010,
        "start_time": "2022-12-01T04:52:07.073Z"
      },
      {
        "duration": 55,
        "start_time": "2022-12-01T04:52:08.085Z"
      },
      {
        "duration": 709,
        "start_time": "2022-12-01T04:52:08.142Z"
      },
      {
        "duration": 3,
        "start_time": "2022-12-01T04:52:08.853Z"
      },
      {
        "duration": 16,
        "start_time": "2022-12-01T04:52:08.857Z"
      },
      {
        "duration": 151,
        "start_time": "2022-12-01T04:52:08.875Z"
      },
      {
        "duration": 6,
        "start_time": "2022-12-01T04:52:09.028Z"
      },
      {
        "duration": 15,
        "start_time": "2022-12-01T04:52:09.035Z"
      },
      {
        "duration": 14,
        "start_time": "2022-12-01T04:52:09.053Z"
      },
      {
        "duration": 6,
        "start_time": "2022-12-01T04:52:09.070Z"
      },
      {
        "duration": 48,
        "start_time": "2022-12-01T04:52:09.077Z"
      },
      {
        "duration": 11,
        "start_time": "2022-12-01T04:52:09.126Z"
      },
      {
        "duration": 11,
        "start_time": "2022-12-01T04:52:09.138Z"
      },
      {
        "duration": 239,
        "start_time": "2022-12-01T04:52:09.150Z"
      },
      {
        "duration": 138,
        "start_time": "2022-12-01T04:52:09.390Z"
      },
      {
        "duration": 8,
        "start_time": "2022-12-01T04:52:09.529Z"
      },
      {
        "duration": 13,
        "start_time": "2022-12-01T04:52:09.538Z"
      },
      {
        "duration": 194,
        "start_time": "2022-12-01T04:52:09.553Z"
      },
      {
        "duration": 165,
        "start_time": "2022-12-01T04:52:09.749Z"
      },
      {
        "duration": 240,
        "start_time": "2022-12-01T04:52:09.916Z"
      },
      {
        "duration": 236,
        "start_time": "2022-12-01T04:52:10.157Z"
      },
      {
        "duration": 262,
        "start_time": "2022-12-01T04:52:10.394Z"
      },
      {
        "duration": 270,
        "start_time": "2022-12-01T04:52:10.658Z"
      },
      {
        "duration": 9,
        "start_time": "2022-12-01T04:52:10.929Z"
      },
      {
        "duration": 8,
        "start_time": "2022-12-01T04:52:10.939Z"
      },
      {
        "duration": 12,
        "start_time": "2022-12-01T04:52:10.949Z"
      },
      {
        "duration": 163,
        "start_time": "2022-12-01T04:52:10.963Z"
      },
      {
        "duration": 155,
        "start_time": "2022-12-01T04:52:11.129Z"
      },
      {
        "duration": 140,
        "start_time": "2022-12-01T04:52:11.286Z"
      },
      {
        "duration": 95,
        "start_time": "2022-12-01T04:52:11.428Z"
      },
      {
        "duration": 0,
        "start_time": "2022-12-01T04:52:11.524Z"
      },
      {
        "duration": 9,
        "start_time": "2022-12-01T04:53:17.105Z"
      },
      {
        "duration": 6,
        "start_time": "2022-12-01T04:54:49.193Z"
      },
      {
        "duration": 8,
        "start_time": "2022-12-01T04:54:52.585Z"
      },
      {
        "duration": 9,
        "start_time": "2022-12-01T04:54:56.344Z"
      },
      {
        "duration": 9,
        "start_time": "2022-12-01T04:55:10.428Z"
      },
      {
        "duration": 53,
        "start_time": "2022-12-02T05:44:25.451Z"
      },
      {
        "duration": 1483,
        "start_time": "2022-12-02T05:44:36.873Z"
      },
      {
        "duration": 212,
        "start_time": "2022-12-02T05:44:38.359Z"
      },
      {
        "duration": 886,
        "start_time": "2022-12-02T05:44:38.573Z"
      },
      {
        "duration": 4,
        "start_time": "2022-12-02T05:44:39.462Z"
      },
      {
        "duration": 22,
        "start_time": "2022-12-02T05:44:39.468Z"
      },
      {
        "duration": 212,
        "start_time": "2022-12-02T05:44:39.493Z"
      },
      {
        "duration": 8,
        "start_time": "2022-12-02T05:44:39.709Z"
      },
      {
        "duration": 39,
        "start_time": "2022-12-02T05:44:39.719Z"
      },
      {
        "duration": 25,
        "start_time": "2022-12-02T05:44:39.761Z"
      },
      {
        "duration": 8,
        "start_time": "2022-12-02T05:44:39.790Z"
      },
      {
        "duration": 50,
        "start_time": "2022-12-02T05:44:39.800Z"
      },
      {
        "duration": 25,
        "start_time": "2022-12-02T05:44:39.852Z"
      },
      {
        "duration": 17,
        "start_time": "2022-12-02T05:44:39.879Z"
      },
      {
        "duration": 271,
        "start_time": "2022-12-02T05:44:39.899Z"
      },
      {
        "duration": 189,
        "start_time": "2022-12-02T05:44:40.172Z"
      },
      {
        "duration": 9,
        "start_time": "2022-12-02T05:44:40.363Z"
      },
      {
        "duration": 11,
        "start_time": "2022-12-02T05:44:40.374Z"
      },
      {
        "duration": 249,
        "start_time": "2022-12-02T05:44:40.387Z"
      },
      {
        "duration": 191,
        "start_time": "2022-12-02T05:44:40.638Z"
      },
      {
        "duration": 297,
        "start_time": "2022-12-02T05:44:40.832Z"
      },
      {
        "duration": 278,
        "start_time": "2022-12-02T05:44:41.130Z"
      },
      {
        "duration": 332,
        "start_time": "2022-12-02T05:44:41.410Z"
      },
      {
        "duration": 333,
        "start_time": "2022-12-02T05:44:41.743Z"
      },
      {
        "duration": 12,
        "start_time": "2022-12-02T05:44:42.078Z"
      },
      {
        "duration": 9,
        "start_time": "2022-12-02T05:44:42.092Z"
      },
      {
        "duration": 14,
        "start_time": "2022-12-02T05:44:42.103Z"
      },
      {
        "duration": 231,
        "start_time": "2022-12-02T05:44:42.119Z"
      },
      {
        "duration": 179,
        "start_time": "2022-12-02T05:44:42.354Z"
      },
      {
        "duration": 174,
        "start_time": "2022-12-02T05:44:42.534Z"
      },
      {
        "duration": 7,
        "start_time": "2022-12-02T05:44:42.710Z"
      },
      {
        "duration": 15,
        "start_time": "2022-12-02T05:44:42.719Z"
      },
      {
        "duration": 24,
        "start_time": "2022-12-02T05:44:42.737Z"
      },
      {
        "duration": 187,
        "start_time": "2022-12-02T05:55:21.465Z"
      },
      {
        "duration": 154,
        "start_time": "2022-12-02T05:55:30.532Z"
      },
      {
        "duration": 1207,
        "start_time": "2022-12-02T06:10:34.296Z"
      },
      {
        "duration": 62,
        "start_time": "2022-12-02T06:10:35.505Z"
      },
      {
        "duration": 829,
        "start_time": "2022-12-02T06:10:35.570Z"
      },
      {
        "duration": 3,
        "start_time": "2022-12-02T06:10:36.400Z"
      },
      {
        "duration": 13,
        "start_time": "2022-12-02T06:10:36.406Z"
      },
      {
        "duration": 189,
        "start_time": "2022-12-02T06:10:36.420Z"
      },
      {
        "duration": 5,
        "start_time": "2022-12-02T06:10:36.611Z"
      },
      {
        "duration": 21,
        "start_time": "2022-12-02T06:10:36.618Z"
      },
      {
        "duration": 25,
        "start_time": "2022-12-02T06:10:36.651Z"
      },
      {
        "duration": 7,
        "start_time": "2022-12-02T06:10:36.678Z"
      },
      {
        "duration": 18,
        "start_time": "2022-12-02T06:10:36.686Z"
      },
      {
        "duration": 13,
        "start_time": "2022-12-02T06:10:36.706Z"
      },
      {
        "duration": 41,
        "start_time": "2022-12-02T06:10:36.720Z"
      },
      {
        "duration": 260,
        "start_time": "2022-12-02T06:10:36.766Z"
      },
      {
        "duration": 162,
        "start_time": "2022-12-02T06:10:37.028Z"
      },
      {
        "duration": 9,
        "start_time": "2022-12-02T06:10:37.192Z"
      },
      {
        "duration": 13,
        "start_time": "2022-12-02T06:10:37.204Z"
      },
      {
        "duration": 223,
        "start_time": "2022-12-02T06:10:37.219Z"
      },
      {
        "duration": 182,
        "start_time": "2022-12-02T06:10:37.444Z"
      },
      {
        "duration": 320,
        "start_time": "2022-12-02T06:10:37.628Z"
      },
      {
        "duration": 297,
        "start_time": "2022-12-02T06:10:37.951Z"
      },
      {
        "duration": 330,
        "start_time": "2022-12-02T06:10:38.250Z"
      },
      {
        "duration": 301,
        "start_time": "2022-12-02T06:10:38.582Z"
      },
      {
        "duration": 11,
        "start_time": "2022-12-02T06:10:38.884Z"
      },
      {
        "duration": 8,
        "start_time": "2022-12-02T06:10:38.897Z"
      },
      {
        "duration": 14,
        "start_time": "2022-12-02T06:10:38.907Z"
      },
      {
        "duration": 233,
        "start_time": "2022-12-02T06:10:38.922Z"
      },
      {
        "duration": 176,
        "start_time": "2022-12-02T06:10:39.156Z"
      },
      {
        "duration": 170,
        "start_time": "2022-12-02T06:10:39.334Z"
      },
      {
        "duration": 7,
        "start_time": "2022-12-02T06:10:39.506Z"
      },
      {
        "duration": 10,
        "start_time": "2022-12-02T06:10:39.515Z"
      },
      {
        "duration": 41,
        "start_time": "2022-12-02T06:10:39.527Z"
      },
      {
        "duration": 306,
        "start_time": "2022-12-02T06:13:39.851Z"
      },
      {
        "duration": 1105,
        "start_time": "2022-12-02T06:17:12.901Z"
      },
      {
        "duration": 57,
        "start_time": "2022-12-02T06:17:14.009Z"
      },
      {
        "duration": 828,
        "start_time": "2022-12-02T06:17:14.070Z"
      },
      {
        "duration": 4,
        "start_time": "2022-12-02T06:17:14.900Z"
      },
      {
        "duration": 10,
        "start_time": "2022-12-02T06:17:14.906Z"
      },
      {
        "duration": 180,
        "start_time": "2022-12-02T06:17:14.918Z"
      },
      {
        "duration": 6,
        "start_time": "2022-12-02T06:17:15.099Z"
      },
      {
        "duration": 29,
        "start_time": "2022-12-02T06:17:15.106Z"
      },
      {
        "duration": 20,
        "start_time": "2022-12-02T06:17:15.136Z"
      },
      {
        "duration": 10,
        "start_time": "2022-12-02T06:17:15.163Z"
      },
      {
        "duration": 22,
        "start_time": "2022-12-02T06:17:15.182Z"
      },
      {
        "duration": 12,
        "start_time": "2022-12-02T06:17:15.206Z"
      },
      {
        "duration": 13,
        "start_time": "2022-12-02T06:17:15.219Z"
      },
      {
        "duration": 313,
        "start_time": "2022-12-02T06:17:15.234Z"
      },
      {
        "duration": 174,
        "start_time": "2022-12-02T06:17:15.562Z"
      },
      {
        "duration": 15,
        "start_time": "2022-12-02T06:17:15.738Z"
      },
      {
        "duration": 45,
        "start_time": "2022-12-02T06:17:15.755Z"
      },
      {
        "duration": 208,
        "start_time": "2022-12-02T06:17:15.802Z"
      },
      {
        "duration": 201,
        "start_time": "2022-12-02T06:17:16.012Z"
      },
      {
        "duration": 321,
        "start_time": "2022-12-02T06:17:16.215Z"
      },
      {
        "duration": 297,
        "start_time": "2022-12-02T06:17:16.538Z"
      },
      {
        "duration": 342,
        "start_time": "2022-12-02T06:17:16.837Z"
      },
      {
        "duration": 310,
        "start_time": "2022-12-02T06:17:17.186Z"
      },
      {
        "duration": 13,
        "start_time": "2022-12-02T06:17:17.498Z"
      },
      {
        "duration": 21,
        "start_time": "2022-12-02T06:17:17.513Z"
      },
      {
        "duration": 55,
        "start_time": "2022-12-02T06:17:17.536Z"
      },
      {
        "duration": 197,
        "start_time": "2022-12-02T06:17:17.592Z"
      },
      {
        "duration": 187,
        "start_time": "2022-12-02T06:17:17.794Z"
      },
      {
        "duration": 162,
        "start_time": "2022-12-02T06:17:17.983Z"
      },
      {
        "duration": 15,
        "start_time": "2022-12-02T06:17:18.153Z"
      },
      {
        "duration": 25,
        "start_time": "2022-12-02T06:17:18.173Z"
      },
      {
        "duration": 10,
        "start_time": "2022-12-02T06:17:18.200Z"
      },
      {
        "duration": 3,
        "start_time": "2022-12-02T06:20:42.525Z"
      },
      {
        "duration": 1244,
        "start_time": "2022-12-02T06:20:47.365Z"
      },
      {
        "duration": 65,
        "start_time": "2022-12-02T06:20:48.611Z"
      },
      {
        "duration": 969,
        "start_time": "2022-12-02T06:20:48.678Z"
      },
      {
        "duration": 3,
        "start_time": "2022-12-02T06:20:49.653Z"
      },
      {
        "duration": 40,
        "start_time": "2022-12-02T06:20:49.665Z"
      },
      {
        "duration": 207,
        "start_time": "2022-12-02T06:20:49.708Z"
      },
      {
        "duration": 8,
        "start_time": "2022-12-02T06:20:49.918Z"
      },
      {
        "duration": 37,
        "start_time": "2022-12-02T06:20:49.928Z"
      },
      {
        "duration": 55,
        "start_time": "2022-12-02T06:20:49.966Z"
      },
      {
        "duration": 24,
        "start_time": "2022-12-02T06:20:50.023Z"
      },
      {
        "duration": 76,
        "start_time": "2022-12-02T06:20:50.049Z"
      },
      {
        "duration": 18,
        "start_time": "2022-12-02T06:20:50.127Z"
      },
      {
        "duration": 29,
        "start_time": "2022-12-02T06:20:50.147Z"
      },
      {
        "duration": 306,
        "start_time": "2022-12-02T06:20:50.181Z"
      },
      {
        "duration": 179,
        "start_time": "2022-12-02T06:20:50.490Z"
      },
      {
        "duration": 17,
        "start_time": "2022-12-02T06:20:50.672Z"
      },
      {
        "duration": 20,
        "start_time": "2022-12-02T06:20:50.692Z"
      },
      {
        "duration": 274,
        "start_time": "2022-12-02T06:20:50.715Z"
      },
      {
        "duration": 181,
        "start_time": "2022-12-02T06:20:50.991Z"
      },
      {
        "duration": 338,
        "start_time": "2022-12-02T06:20:51.175Z"
      },
      {
        "duration": 398,
        "start_time": "2022-12-02T06:20:51.515Z"
      },
      {
        "duration": 368,
        "start_time": "2022-12-02T06:20:51.915Z"
      },
      {
        "duration": 321,
        "start_time": "2022-12-02T06:20:52.285Z"
      },
      {
        "duration": 14,
        "start_time": "2022-12-02T06:20:52.608Z"
      },
      {
        "duration": 44,
        "start_time": "2022-12-02T06:20:52.624Z"
      },
      {
        "duration": 21,
        "start_time": "2022-12-02T06:20:52.680Z"
      },
      {
        "duration": 204,
        "start_time": "2022-12-02T06:20:52.703Z"
      },
      {
        "duration": 216,
        "start_time": "2022-12-02T06:20:52.909Z"
      },
      {
        "duration": 200,
        "start_time": "2022-12-02T06:20:53.127Z"
      },
      {
        "duration": 7,
        "start_time": "2022-12-02T06:20:53.329Z"
      },
      {
        "duration": 22,
        "start_time": "2022-12-02T06:20:53.338Z"
      },
      {
        "duration": 34,
        "start_time": "2022-12-02T06:20:53.367Z"
      },
      {
        "duration": 1248,
        "start_time": "2022-12-02T06:33:21.424Z"
      },
      {
        "duration": 105,
        "start_time": "2022-12-02T06:33:22.674Z"
      },
      {
        "duration": 751,
        "start_time": "2022-12-02T06:33:22.781Z"
      },
      {
        "duration": 3,
        "start_time": "2022-12-02T06:34:55.154Z"
      },
      {
        "duration": 9,
        "start_time": "2022-12-02T06:36:41.066Z"
      },
      {
        "duration": 152,
        "start_time": "2022-12-02T06:36:41.502Z"
      },
      {
        "duration": 6,
        "start_time": "2022-12-02T06:36:44.399Z"
      },
      {
        "duration": 14,
        "start_time": "2022-12-02T06:36:44.764Z"
      },
      {
        "duration": 13,
        "start_time": "2022-12-02T06:36:51.442Z"
      },
      {
        "duration": 5,
        "start_time": "2022-12-02T06:40:10.673Z"
      },
      {
        "duration": 17,
        "start_time": "2022-12-02T06:40:10.960Z"
      },
      {
        "duration": 9,
        "start_time": "2022-12-02T06:41:00.544Z"
      },
      {
        "duration": 11,
        "start_time": "2022-12-02T06:41:01.979Z"
      },
      {
        "duration": 232,
        "start_time": "2022-12-02T06:41:02.333Z"
      },
      {
        "duration": 155,
        "start_time": "2022-12-02T06:41:33.396Z"
      },
      {
        "duration": 8,
        "start_time": "2022-12-02T06:41:36.220Z"
      },
      {
        "duration": 11,
        "start_time": "2022-12-02T06:41:36.460Z"
      },
      {
        "duration": 193,
        "start_time": "2022-12-02T06:41:37.694Z"
      },
      {
        "duration": 177,
        "start_time": "2022-12-02T06:41:42.254Z"
      },
      {
        "duration": 261,
        "start_time": "2022-12-02T06:41:58.913Z"
      },
      {
        "duration": 262,
        "start_time": "2022-12-02T06:42:01.781Z"
      },
      {
        "duration": 283,
        "start_time": "2022-12-02T06:42:20.750Z"
      },
      {
        "duration": 277,
        "start_time": "2022-12-02T06:42:21.852Z"
      },
      {
        "duration": 11,
        "start_time": "2022-12-02T06:42:25.432Z"
      },
      {
        "duration": 7,
        "start_time": "2022-12-02T06:42:26.466Z"
      },
      {
        "duration": 10,
        "start_time": "2022-12-02T06:42:26.713Z"
      },
      {
        "duration": 155,
        "start_time": "2022-12-02T06:42:26.948Z"
      },
      {
        "duration": 149,
        "start_time": "2022-12-02T06:42:33.025Z"
      },
      {
        "duration": 138,
        "start_time": "2022-12-02T06:42:34.361Z"
      },
      {
        "duration": 294,
        "start_time": "2022-12-02T06:46:32.925Z"
      },
      {
        "duration": 348,
        "start_time": "2022-12-02T06:48:13.993Z"
      },
      {
        "duration": 11,
        "start_time": "2022-12-02T06:49:32.956Z"
      },
      {
        "duration": 9,
        "start_time": "2022-12-02T06:50:32.463Z"
      },
      {
        "duration": 11,
        "start_time": "2022-12-02T06:50:32.814Z"
      },
      {
        "duration": 169,
        "start_time": "2022-12-02T06:50:34.138Z"
      },
      {
        "duration": 177,
        "start_time": "2022-12-02T06:50:45.097Z"
      },
      {
        "duration": 150,
        "start_time": "2022-12-02T06:50:48.026Z"
      },
      {
        "duration": 7,
        "start_time": "2022-12-02T06:55:23.969Z"
      },
      {
        "duration": 9,
        "start_time": "2022-12-02T06:55:32.657Z"
      },
      {
        "duration": 8,
        "start_time": "2022-12-02T06:55:35.226Z"
      },
      {
        "duration": 67,
        "start_time": "2022-12-02T08:01:42.677Z"
      },
      {
        "duration": 67,
        "start_time": "2022-12-02T08:08:50.355Z"
      },
      {
        "duration": 1282,
        "start_time": "2022-12-02T08:08:57.221Z"
      },
      {
        "duration": 109,
        "start_time": "2022-12-02T08:08:58.505Z"
      },
      {
        "duration": 795,
        "start_time": "2022-12-02T08:08:58.616Z"
      },
      {
        "duration": 4,
        "start_time": "2022-12-02T08:08:59.413Z"
      },
      {
        "duration": 41,
        "start_time": "2022-12-02T08:08:59.419Z"
      },
      {
        "duration": 184,
        "start_time": "2022-12-02T08:08:59.462Z"
      },
      {
        "duration": 6,
        "start_time": "2022-12-02T08:08:59.648Z"
      },
      {
        "duration": 43,
        "start_time": "2022-12-02T08:08:59.655Z"
      },
      {
        "duration": 45,
        "start_time": "2022-12-02T08:08:59.700Z"
      },
      {
        "duration": 17,
        "start_time": "2022-12-02T08:08:59.749Z"
      },
      {
        "duration": 46,
        "start_time": "2022-12-02T08:08:59.768Z"
      },
      {
        "duration": 19,
        "start_time": "2022-12-02T08:08:59.816Z"
      },
      {
        "duration": 33,
        "start_time": "2022-12-02T08:08:59.837Z"
      },
      {
        "duration": 294,
        "start_time": "2022-12-02T08:08:59.872Z"
      },
      {
        "duration": 154,
        "start_time": "2022-12-02T08:09:00.168Z"
      },
      {
        "duration": 18,
        "start_time": "2022-12-02T08:09:00.323Z"
      },
      {
        "duration": 51,
        "start_time": "2022-12-02T08:09:00.343Z"
      },
      {
        "duration": 213,
        "start_time": "2022-12-02T08:09:00.395Z"
      },
      {
        "duration": 174,
        "start_time": "2022-12-02T08:09:00.610Z"
      },
      {
        "duration": 271,
        "start_time": "2022-12-02T08:09:00.786Z"
      },
      {
        "duration": 257,
        "start_time": "2022-12-02T08:09:01.059Z"
      },
      {
        "duration": 290,
        "start_time": "2022-12-02T08:09:01.318Z"
      },
      {
        "duration": 296,
        "start_time": "2022-12-02T08:09:01.611Z"
      },
      {
        "duration": 9,
        "start_time": "2022-12-02T08:09:01.909Z"
      },
      {
        "duration": 24,
        "start_time": "2022-12-02T08:09:01.920Z"
      },
      {
        "duration": 25,
        "start_time": "2022-12-02T08:09:01.946Z"
      },
      {
        "duration": 195,
        "start_time": "2022-12-02T08:09:01.973Z"
      },
      {
        "duration": 190,
        "start_time": "2022-12-02T08:09:02.172Z"
      },
      {
        "duration": 211,
        "start_time": "2022-12-02T08:09:02.363Z"
      },
      {
        "duration": 7,
        "start_time": "2022-12-02T08:09:02.576Z"
      },
      {
        "duration": 21,
        "start_time": "2022-12-02T08:09:02.586Z"
      },
      {
        "duration": 26,
        "start_time": "2022-12-02T08:09:02.609Z"
      },
      {
        "duration": 4,
        "start_time": "2022-12-02T08:13:58.063Z"
      },
      {
        "duration": 108,
        "start_time": "2022-12-02T08:16:37.257Z"
      },
      {
        "duration": 7,
        "start_time": "2022-12-02T08:18:34.751Z"
      },
      {
        "duration": 19,
        "start_time": "2022-12-02T08:24:14.512Z"
      },
      {
        "duration": 101,
        "start_time": "2022-12-02T08:31:57.904Z"
      },
      {
        "duration": 3078,
        "start_time": "2022-12-02T08:32:05.225Z"
      },
      {
        "duration": 7,
        "start_time": "2022-12-02T08:32:56.736Z"
      },
      {
        "duration": 1129,
        "start_time": "2022-12-02T08:33:06.007Z"
      },
      {
        "duration": 54,
        "start_time": "2022-12-02T08:33:07.138Z"
      },
      {
        "duration": 733,
        "start_time": "2022-12-02T08:33:07.194Z"
      },
      {
        "duration": 4,
        "start_time": "2022-12-02T08:33:07.935Z"
      },
      {
        "duration": 27,
        "start_time": "2022-12-02T08:33:07.941Z"
      },
      {
        "duration": 177,
        "start_time": "2022-12-02T08:33:07.970Z"
      },
      {
        "duration": 6,
        "start_time": "2022-12-02T08:33:08.148Z"
      },
      {
        "duration": 29,
        "start_time": "2022-12-02T08:33:08.155Z"
      },
      {
        "duration": 30,
        "start_time": "2022-12-02T08:33:08.186Z"
      },
      {
        "duration": 24,
        "start_time": "2022-12-02T08:33:08.219Z"
      },
      {
        "duration": 40,
        "start_time": "2022-12-02T08:33:08.244Z"
      },
      {
        "duration": 7,
        "start_time": "2022-12-02T08:33:08.285Z"
      },
      {
        "duration": 12,
        "start_time": "2022-12-02T08:33:08.294Z"
      },
      {
        "duration": 4,
        "start_time": "2022-12-02T08:33:08.308Z"
      },
      {
        "duration": 32,
        "start_time": "2022-12-02T08:33:08.313Z"
      },
      {
        "duration": 15,
        "start_time": "2022-12-02T08:33:08.347Z"
      },
      {
        "duration": 22,
        "start_time": "2022-12-02T08:33:08.363Z"
      },
      {
        "duration": 248,
        "start_time": "2022-12-02T08:33:08.387Z"
      },
      {
        "duration": 151,
        "start_time": "2022-12-02T08:33:08.637Z"
      },
      {
        "duration": 8,
        "start_time": "2022-12-02T08:33:08.789Z"
      },
      {
        "duration": 13,
        "start_time": "2022-12-02T08:33:08.798Z"
      },
      {
        "duration": 213,
        "start_time": "2022-12-02T08:33:08.813Z"
      },
      {
        "duration": 172,
        "start_time": "2022-12-02T08:33:09.028Z"
      },
      {
        "duration": 263,
        "start_time": "2022-12-02T08:33:09.202Z"
      },
      {
        "duration": 252,
        "start_time": "2022-12-02T08:33:09.467Z"
      },
      {
        "duration": 297,
        "start_time": "2022-12-02T08:33:09.721Z"
      },
      {
        "duration": 268,
        "start_time": "2022-12-02T08:33:10.020Z"
      },
      {
        "duration": 10,
        "start_time": "2022-12-02T08:33:10.291Z"
      },
      {
        "duration": 17,
        "start_time": "2022-12-02T08:33:10.302Z"
      },
      {
        "duration": 12,
        "start_time": "2022-12-02T08:33:10.336Z"
      },
      {
        "duration": 173,
        "start_time": "2022-12-02T08:33:10.350Z"
      },
      {
        "duration": 163,
        "start_time": "2022-12-02T08:33:10.525Z"
      },
      {
        "duration": 147,
        "start_time": "2022-12-02T08:33:10.690Z"
      },
      {
        "duration": 7,
        "start_time": "2022-12-02T08:33:10.839Z"
      },
      {
        "duration": 11,
        "start_time": "2022-12-02T08:33:10.848Z"
      },
      {
        "duration": 29,
        "start_time": "2022-12-02T08:33:10.861Z"
      },
      {
        "duration": 5,
        "start_time": "2022-12-02T08:42:32.410Z"
      },
      {
        "duration": 1098,
        "start_time": "2022-12-02T08:42:39.041Z"
      },
      {
        "duration": 55,
        "start_time": "2022-12-02T08:42:40.141Z"
      },
      {
        "duration": 701,
        "start_time": "2022-12-02T08:42:40.198Z"
      },
      {
        "duration": 4,
        "start_time": "2022-12-02T08:42:40.901Z"
      },
      {
        "duration": 13,
        "start_time": "2022-12-02T08:42:40.907Z"
      },
      {
        "duration": 151,
        "start_time": "2022-12-02T08:42:40.922Z"
      },
      {
        "duration": 6,
        "start_time": "2022-12-02T08:42:41.075Z"
      },
      {
        "duration": 19,
        "start_time": "2022-12-02T08:42:41.082Z"
      },
      {
        "duration": 10,
        "start_time": "2022-12-02T08:42:41.102Z"
      },
      {
        "duration": 24,
        "start_time": "2022-12-02T08:42:41.115Z"
      },
      {
        "duration": 35,
        "start_time": "2022-12-02T08:42:41.141Z"
      },
      {
        "duration": 8,
        "start_time": "2022-12-02T08:42:41.178Z"
      },
      {
        "duration": 15,
        "start_time": "2022-12-02T08:42:41.188Z"
      },
      {
        "duration": 9,
        "start_time": "2022-12-02T08:42:41.204Z"
      },
      {
        "duration": 21,
        "start_time": "2022-12-02T08:42:41.214Z"
      },
      {
        "duration": 14,
        "start_time": "2022-12-02T08:42:41.237Z"
      },
      {
        "duration": 10,
        "start_time": "2022-12-02T08:42:41.253Z"
      },
      {
        "duration": 13,
        "start_time": "2022-12-02T08:42:41.265Z"
      },
      {
        "duration": 240,
        "start_time": "2022-12-02T08:42:41.279Z"
      },
      {
        "duration": 138,
        "start_time": "2022-12-02T08:42:41.520Z"
      },
      {
        "duration": 7,
        "start_time": "2022-12-02T08:42:41.660Z"
      },
      {
        "duration": 21,
        "start_time": "2022-12-02T08:42:41.668Z"
      },
      {
        "duration": 188,
        "start_time": "2022-12-02T08:42:41.691Z"
      },
      {
        "duration": 195,
        "start_time": "2022-12-02T08:42:41.882Z"
      },
      {
        "duration": 271,
        "start_time": "2022-12-02T08:42:42.078Z"
      },
      {
        "duration": 274,
        "start_time": "2022-12-02T08:42:42.351Z"
      },
      {
        "duration": 309,
        "start_time": "2022-12-02T08:42:42.627Z"
      },
      {
        "duration": 283,
        "start_time": "2022-12-02T08:42:42.939Z"
      },
      {
        "duration": 18,
        "start_time": "2022-12-02T08:42:43.223Z"
      },
      {
        "duration": 13,
        "start_time": "2022-12-02T08:42:43.242Z"
      },
      {
        "duration": 20,
        "start_time": "2022-12-02T08:42:43.257Z"
      },
      {
        "duration": 173,
        "start_time": "2022-12-02T08:42:43.279Z"
      },
      {
        "duration": 156,
        "start_time": "2022-12-02T08:42:43.453Z"
      },
      {
        "duration": 151,
        "start_time": "2022-12-02T08:42:43.611Z"
      },
      {
        "duration": 6,
        "start_time": "2022-12-02T08:42:43.765Z"
      },
      {
        "duration": 14,
        "start_time": "2022-12-02T08:42:43.773Z"
      },
      {
        "duration": 24,
        "start_time": "2022-12-02T08:42:43.789Z"
      },
      {
        "duration": 5,
        "start_time": "2022-12-02T08:43:50.072Z"
      },
      {
        "duration": 1097,
        "start_time": "2022-12-02T08:43:55.793Z"
      },
      {
        "duration": 54,
        "start_time": "2022-12-02T08:43:56.892Z"
      },
      {
        "duration": 787,
        "start_time": "2022-12-02T08:43:56.948Z"
      },
      {
        "duration": 3,
        "start_time": "2022-12-02T08:43:57.738Z"
      },
      {
        "duration": 45,
        "start_time": "2022-12-02T08:43:57.743Z"
      },
      {
        "duration": 185,
        "start_time": "2022-12-02T08:43:57.790Z"
      },
      {
        "duration": 6,
        "start_time": "2022-12-02T08:43:57.978Z"
      },
      {
        "duration": 63,
        "start_time": "2022-12-02T08:43:57.986Z"
      },
      {
        "duration": 33,
        "start_time": "2022-12-02T08:43:58.051Z"
      },
      {
        "duration": 25,
        "start_time": "2022-12-02T08:43:58.087Z"
      },
      {
        "duration": 52,
        "start_time": "2022-12-02T08:43:58.115Z"
      },
      {
        "duration": 9,
        "start_time": "2022-12-02T08:43:58.170Z"
      },
      {
        "duration": 19,
        "start_time": "2022-12-02T08:43:58.180Z"
      },
      {
        "duration": 16,
        "start_time": "2022-12-02T08:43:58.201Z"
      },
      {
        "duration": 12,
        "start_time": "2022-12-02T08:43:58.219Z"
      },
      {
        "duration": 13,
        "start_time": "2022-12-02T08:43:58.232Z"
      },
      {
        "duration": 26,
        "start_time": "2022-12-02T08:43:58.247Z"
      },
      {
        "duration": 17,
        "start_time": "2022-12-02T08:43:58.275Z"
      },
      {
        "duration": 42,
        "start_time": "2022-12-02T08:43:58.294Z"
      },
      {
        "duration": 265,
        "start_time": "2022-12-02T08:43:58.338Z"
      },
      {
        "duration": 155,
        "start_time": "2022-12-02T08:43:58.605Z"
      },
      {
        "duration": 8,
        "start_time": "2022-12-02T08:43:58.762Z"
      },
      {
        "duration": 14,
        "start_time": "2022-12-02T08:43:58.772Z"
      },
      {
        "duration": 208,
        "start_time": "2022-12-02T08:43:58.788Z"
      },
      {
        "duration": 184,
        "start_time": "2022-12-02T08:43:58.998Z"
      },
      {
        "duration": 281,
        "start_time": "2022-12-02T08:43:59.184Z"
      },
      {
        "duration": 250,
        "start_time": "2022-12-02T08:43:59.467Z"
      },
      {
        "duration": 300,
        "start_time": "2022-12-02T08:43:59.721Z"
      },
      {
        "duration": 251,
        "start_time": "2022-12-02T08:44:00.024Z"
      },
      {
        "duration": 10,
        "start_time": "2022-12-02T08:44:00.277Z"
      },
      {
        "duration": 22,
        "start_time": "2022-12-02T08:44:00.288Z"
      },
      {
        "duration": 23,
        "start_time": "2022-12-02T08:44:00.312Z"
      },
      {
        "duration": 191,
        "start_time": "2022-12-02T08:44:00.336Z"
      },
      {
        "duration": 152,
        "start_time": "2022-12-02T08:44:00.529Z"
      },
      {
        "duration": 153,
        "start_time": "2022-12-02T08:44:00.683Z"
      },
      {
        "duration": 7,
        "start_time": "2022-12-02T08:44:00.837Z"
      },
      {
        "duration": 44,
        "start_time": "2022-12-02T08:44:00.845Z"
      },
      {
        "duration": 36,
        "start_time": "2022-12-02T08:44:00.890Z"
      },
      {
        "duration": 6,
        "start_time": "2022-12-02T08:50:37.488Z"
      },
      {
        "duration": 9,
        "start_time": "2022-12-02T08:51:10.853Z"
      },
      {
        "duration": 10,
        "start_time": "2022-12-02T08:51:29.922Z"
      },
      {
        "duration": 103,
        "start_time": "2022-12-02T08:52:20.574Z"
      },
      {
        "duration": 11,
        "start_time": "2022-12-02T08:52:27.214Z"
      },
      {
        "duration": 13,
        "start_time": "2022-12-02T08:52:49.068Z"
      },
      {
        "duration": 10,
        "start_time": "2022-12-02T08:53:11.962Z"
      },
      {
        "duration": 12,
        "start_time": "2022-12-02T08:54:46.694Z"
      },
      {
        "duration": 17,
        "start_time": "2022-12-02T08:55:18.992Z"
      },
      {
        "duration": 13,
        "start_time": "2022-12-02T08:55:26.303Z"
      },
      {
        "duration": 939,
        "start_time": "2022-12-02T08:55:58.989Z"
      },
      {
        "duration": 10,
        "start_time": "2022-12-02T08:56:22.333Z"
      },
      {
        "duration": 1174,
        "start_time": "2022-12-02T08:57:50.441Z"
      },
      {
        "duration": 55,
        "start_time": "2022-12-02T08:57:51.617Z"
      },
      {
        "duration": 764,
        "start_time": "2022-12-02T08:57:51.673Z"
      },
      {
        "duration": 5,
        "start_time": "2022-12-02T08:57:52.441Z"
      },
      {
        "duration": 42,
        "start_time": "2022-12-02T08:57:52.448Z"
      },
      {
        "duration": 218,
        "start_time": "2022-12-02T08:57:52.493Z"
      },
      {
        "duration": 6,
        "start_time": "2022-12-02T08:57:52.713Z"
      },
      {
        "duration": 30,
        "start_time": "2022-12-02T08:57:52.721Z"
      },
      {
        "duration": 6,
        "start_time": "2022-12-02T08:57:52.753Z"
      },
      {
        "duration": 18,
        "start_time": "2022-12-02T08:57:52.762Z"
      },
      {
        "duration": 38,
        "start_time": "2022-12-02T08:57:52.782Z"
      },
      {
        "duration": 20,
        "start_time": "2022-12-02T08:57:52.822Z"
      },
      {
        "duration": 14,
        "start_time": "2022-12-02T08:57:52.845Z"
      },
      {
        "duration": 8,
        "start_time": "2022-12-02T08:57:52.862Z"
      },
      {
        "duration": 23,
        "start_time": "2022-12-02T08:57:52.871Z"
      },
      {
        "duration": 16,
        "start_time": "2022-12-02T08:57:52.896Z"
      },
      {
        "duration": 28,
        "start_time": "2022-12-02T08:57:52.917Z"
      },
      {
        "duration": 41,
        "start_time": "2022-12-02T08:57:52.948Z"
      },
      {
        "duration": 11,
        "start_time": "2022-12-02T08:57:52.991Z"
      },
      {
        "duration": 232,
        "start_time": "2022-12-02T08:57:53.004Z"
      },
      {
        "duration": 12,
        "start_time": "2022-12-02T08:57:53.238Z"
      },
      {
        "duration": 143,
        "start_time": "2022-12-02T08:57:53.251Z"
      },
      {
        "duration": 7,
        "start_time": "2022-12-02T08:57:53.396Z"
      },
      {
        "duration": 19,
        "start_time": "2022-12-02T08:57:53.405Z"
      },
      {
        "duration": 194,
        "start_time": "2022-12-02T08:57:53.425Z"
      },
      {
        "duration": 154,
        "start_time": "2022-12-02T08:57:53.620Z"
      },
      {
        "duration": 273,
        "start_time": "2022-12-02T08:57:53.776Z"
      },
      {
        "duration": 264,
        "start_time": "2022-12-02T08:57:54.052Z"
      },
      {
        "duration": 287,
        "start_time": "2022-12-02T08:57:54.318Z"
      },
      {
        "duration": 255,
        "start_time": "2022-12-02T08:57:54.607Z"
      },
      {
        "duration": 10,
        "start_time": "2022-12-02T08:57:54.864Z"
      },
      {
        "duration": 11,
        "start_time": "2022-12-02T08:57:54.875Z"
      },
      {
        "duration": 13,
        "start_time": "2022-12-02T08:57:54.887Z"
      },
      {
        "duration": 175,
        "start_time": "2022-12-02T08:57:54.901Z"
      },
      {
        "duration": 154,
        "start_time": "2022-12-02T08:57:55.078Z"
      },
      {
        "duration": 142,
        "start_time": "2022-12-02T08:57:55.235Z"
      },
      {
        "duration": 5,
        "start_time": "2022-12-02T08:57:55.379Z"
      },
      {
        "duration": 12,
        "start_time": "2022-12-02T08:57:55.386Z"
      },
      {
        "duration": 61,
        "start_time": "2022-12-02T08:57:55.400Z"
      },
      {
        "duration": 306,
        "start_time": "2022-12-02T09:15:21.021Z"
      },
      {
        "duration": 184,
        "start_time": "2022-12-02T09:15:38.319Z"
      },
      {
        "duration": 51,
        "start_time": "2022-12-02T09:15:56.267Z"
      },
      {
        "duration": 163,
        "start_time": "2022-12-02T09:16:00.315Z"
      },
      {
        "duration": 49,
        "start_time": "2022-12-02T09:16:12.060Z"
      },
      {
        "duration": 240,
        "start_time": "2022-12-02T09:16:18.937Z"
      },
      {
        "duration": 155,
        "start_time": "2022-12-02T09:19:41.789Z"
      },
      {
        "duration": 162,
        "start_time": "2022-12-02T09:20:07.254Z"
      },
      {
        "duration": 164,
        "start_time": "2022-12-02T09:20:27.449Z"
      },
      {
        "duration": 156,
        "start_time": "2022-12-02T09:20:36.488Z"
      },
      {
        "duration": 161,
        "start_time": "2022-12-02T09:20:50.422Z"
      },
      {
        "duration": 161,
        "start_time": "2022-12-02T09:29:11.180Z"
      },
      {
        "duration": 223,
        "start_time": "2022-12-02T09:29:29.690Z"
      },
      {
        "duration": 211,
        "start_time": "2022-12-02T09:29:38.777Z"
      },
      {
        "duration": 39,
        "start_time": "2022-12-02T09:37:39.251Z"
      },
      {
        "duration": 14,
        "start_time": "2022-12-02T09:38:33.887Z"
      },
      {
        "duration": 14,
        "start_time": "2022-12-02T09:38:44.398Z"
      },
      {
        "duration": 14,
        "start_time": "2022-12-02T09:39:09.854Z"
      },
      {
        "duration": 12,
        "start_time": "2022-12-02T09:39:49.960Z"
      },
      {
        "duration": 179,
        "start_time": "2022-12-02T09:40:04.102Z"
      },
      {
        "duration": 255,
        "start_time": "2022-12-02T09:40:11.400Z"
      },
      {
        "duration": 207,
        "start_time": "2022-12-02T09:41:09.243Z"
      },
      {
        "duration": 210,
        "start_time": "2022-12-02T09:41:26.645Z"
      },
      {
        "duration": 1297,
        "start_time": "2022-12-02T09:42:52.276Z"
      },
      {
        "duration": 73,
        "start_time": "2022-12-02T09:42:53.576Z"
      },
      {
        "duration": 869,
        "start_time": "2022-12-02T09:42:53.650Z"
      },
      {
        "duration": 5,
        "start_time": "2022-12-02T09:42:54.522Z"
      },
      {
        "duration": 97,
        "start_time": "2022-12-02T09:42:54.536Z"
      },
      {
        "duration": 221,
        "start_time": "2022-12-02T09:42:54.637Z"
      },
      {
        "duration": 7,
        "start_time": "2022-12-02T09:42:54.861Z"
      },
      {
        "duration": 30,
        "start_time": "2022-12-02T09:42:54.871Z"
      },
      {
        "duration": 16,
        "start_time": "2022-12-02T09:42:54.903Z"
      },
      {
        "duration": 30,
        "start_time": "2022-12-02T09:42:54.923Z"
      },
      {
        "duration": 58,
        "start_time": "2022-12-02T09:42:54.956Z"
      },
      {
        "duration": 9,
        "start_time": "2022-12-02T09:42:55.015Z"
      },
      {
        "duration": 35,
        "start_time": "2022-12-02T09:42:55.026Z"
      },
      {
        "duration": 21,
        "start_time": "2022-12-02T09:42:55.063Z"
      },
      {
        "duration": 24,
        "start_time": "2022-12-02T09:42:55.085Z"
      },
      {
        "duration": 49,
        "start_time": "2022-12-02T09:42:55.111Z"
      },
      {
        "duration": 33,
        "start_time": "2022-12-02T09:42:55.162Z"
      },
      {
        "duration": 16,
        "start_time": "2022-12-02T09:42:55.199Z"
      },
      {
        "duration": 12,
        "start_time": "2022-12-02T09:42:55.217Z"
      },
      {
        "duration": 260,
        "start_time": "2022-12-02T09:42:55.232Z"
      },
      {
        "duration": 13,
        "start_time": "2022-12-02T09:42:55.495Z"
      },
      {
        "duration": 205,
        "start_time": "2022-12-02T09:42:55.509Z"
      },
      {
        "duration": 8,
        "start_time": "2022-12-02T09:42:55.716Z"
      },
      {
        "duration": 38,
        "start_time": "2022-12-02T09:42:55.725Z"
      },
      {
        "duration": 211,
        "start_time": "2022-12-02T09:42:55.765Z"
      },
      {
        "duration": 207,
        "start_time": "2022-12-02T09:42:55.978Z"
      },
      {
        "duration": 318,
        "start_time": "2022-12-02T09:42:56.187Z"
      },
      {
        "duration": 291,
        "start_time": "2022-12-02T09:42:56.510Z"
      },
      {
        "duration": 366,
        "start_time": "2022-12-02T09:42:56.803Z"
      },
      {
        "duration": 298,
        "start_time": "2022-12-02T09:42:57.170Z"
      },
      {
        "duration": 12,
        "start_time": "2022-12-02T09:42:57.470Z"
      },
      {
        "duration": 201,
        "start_time": "2022-12-02T09:42:57.483Z"
      },
      {
        "duration": 7,
        "start_time": "2022-12-02T09:42:57.686Z"
      },
      {
        "duration": 39,
        "start_time": "2022-12-02T09:42:57.695Z"
      },
      {
        "duration": 263,
        "start_time": "2022-12-02T09:42:57.740Z"
      },
      {
        "duration": 183,
        "start_time": "2022-12-02T09:42:58.005Z"
      },
      {
        "duration": 136,
        "start_time": "2022-12-02T09:42:58.190Z"
      },
      {
        "duration": 0,
        "start_time": "2022-12-02T09:42:58.334Z"
      },
      {
        "duration": 0,
        "start_time": "2022-12-02T09:42:58.338Z"
      },
      {
        "duration": 0,
        "start_time": "2022-12-02T09:42:58.339Z"
      },
      {
        "duration": 1231,
        "start_time": "2022-12-02T09:43:47.029Z"
      },
      {
        "duration": 55,
        "start_time": "2022-12-02T09:43:48.262Z"
      },
      {
        "duration": 852,
        "start_time": "2022-12-02T09:43:48.319Z"
      },
      {
        "duration": 5,
        "start_time": "2022-12-02T09:43:49.179Z"
      },
      {
        "duration": 39,
        "start_time": "2022-12-02T09:43:49.186Z"
      },
      {
        "duration": 225,
        "start_time": "2022-12-02T09:43:49.227Z"
      },
      {
        "duration": 10,
        "start_time": "2022-12-02T09:43:49.454Z"
      },
      {
        "duration": 25,
        "start_time": "2022-12-02T09:43:49.466Z"
      },
      {
        "duration": 12,
        "start_time": "2022-12-02T09:43:49.493Z"
      },
      {
        "duration": 24,
        "start_time": "2022-12-02T09:43:49.509Z"
      },
      {
        "duration": 53,
        "start_time": "2022-12-02T09:43:49.535Z"
      },
      {
        "duration": 9,
        "start_time": "2022-12-02T09:43:49.589Z"
      },
      {
        "duration": 47,
        "start_time": "2022-12-02T09:43:49.600Z"
      },
      {
        "duration": 29,
        "start_time": "2022-12-02T09:43:49.649Z"
      },
      {
        "duration": 18,
        "start_time": "2022-12-02T09:43:49.680Z"
      },
      {
        "duration": 11,
        "start_time": "2022-12-02T09:43:49.700Z"
      },
      {
        "duration": 37,
        "start_time": "2022-12-02T09:43:49.713Z"
      },
      {
        "duration": 39,
        "start_time": "2022-12-02T09:43:49.753Z"
      },
      {
        "duration": 19,
        "start_time": "2022-12-02T09:43:49.794Z"
      },
      {
        "duration": 285,
        "start_time": "2022-12-02T09:43:49.814Z"
      },
      {
        "duration": 16,
        "start_time": "2022-12-02T09:43:50.101Z"
      },
      {
        "duration": 176,
        "start_time": "2022-12-02T09:43:50.119Z"
      },
      {
        "duration": 8,
        "start_time": "2022-12-02T09:43:50.297Z"
      },
      {
        "duration": 21,
        "start_time": "2022-12-02T09:43:50.307Z"
      },
      {
        "duration": 226,
        "start_time": "2022-12-02T09:43:50.338Z"
      },
      {
        "duration": 197,
        "start_time": "2022-12-02T09:43:50.566Z"
      },
      {
        "duration": 288,
        "start_time": "2022-12-02T09:43:50.765Z"
      },
      {
        "duration": 265,
        "start_time": "2022-12-02T09:43:51.057Z"
      },
      {
        "duration": 336,
        "start_time": "2022-12-02T09:43:51.324Z"
      },
      {
        "duration": 323,
        "start_time": "2022-12-02T09:43:51.662Z"
      },
      {
        "duration": 14,
        "start_time": "2022-12-02T09:43:51.987Z"
      },
      {
        "duration": 224,
        "start_time": "2022-12-02T09:43:52.003Z"
      },
      {
        "duration": 24,
        "start_time": "2022-12-02T09:43:52.228Z"
      },
      {
        "duration": 26,
        "start_time": "2022-12-02T09:43:52.257Z"
      },
      {
        "duration": 193,
        "start_time": "2022-12-02T09:43:52.285Z"
      },
      {
        "duration": 215,
        "start_time": "2022-12-02T09:43:52.480Z"
      },
      {
        "duration": 222,
        "start_time": "2022-12-02T09:43:52.697Z"
      },
      {
        "duration": 16,
        "start_time": "2022-12-02T09:43:52.921Z"
      },
      {
        "duration": 16,
        "start_time": "2022-12-02T09:43:52.939Z"
      },
      {
        "duration": 23,
        "start_time": "2022-12-02T09:43:52.958Z"
      },
      {
        "duration": 199,
        "start_time": "2022-12-02T09:44:46.096Z"
      },
      {
        "duration": 120,
        "start_time": "2022-12-02T09:47:53.985Z"
      },
      {
        "duration": 95,
        "start_time": "2022-12-02T09:51:23.025Z"
      },
      {
        "duration": 20,
        "start_time": "2022-12-02T09:51:27.521Z"
      },
      {
        "duration": 241,
        "start_time": "2022-12-02T09:52:18.526Z"
      },
      {
        "duration": 7,
        "start_time": "2022-12-02T10:00:48.072Z"
      },
      {
        "duration": 261,
        "start_time": "2022-12-02T10:01:18.213Z"
      },
      {
        "duration": 507,
        "start_time": "2022-12-02T10:03:33.976Z"
      },
      {
        "duration": 503,
        "start_time": "2022-12-02T10:04:01.352Z"
      },
      {
        "duration": 521,
        "start_time": "2022-12-02T10:04:16.873Z"
      },
      {
        "duration": 495,
        "start_time": "2022-12-02T10:04:25.684Z"
      },
      {
        "duration": 631,
        "start_time": "2022-12-02T10:05:06.225Z"
      },
      {
        "duration": 1105,
        "start_time": "2022-12-02T10:05:24.150Z"
      },
      {
        "duration": 65,
        "start_time": "2022-12-02T10:05:25.257Z"
      },
      {
        "duration": 718,
        "start_time": "2022-12-02T10:05:25.324Z"
      },
      {
        "duration": 9,
        "start_time": "2022-12-02T10:05:26.044Z"
      },
      {
        "duration": 12,
        "start_time": "2022-12-02T10:05:26.055Z"
      },
      {
        "duration": 142,
        "start_time": "2022-12-02T10:05:26.069Z"
      },
      {
        "duration": 5,
        "start_time": "2022-12-02T10:05:26.213Z"
      },
      {
        "duration": 33,
        "start_time": "2022-12-02T10:05:26.219Z"
      },
      {
        "duration": 5,
        "start_time": "2022-12-02T10:05:26.255Z"
      },
      {
        "duration": 10,
        "start_time": "2022-12-02T10:05:26.262Z"
      },
      {
        "duration": 39,
        "start_time": "2022-12-02T10:05:26.273Z"
      },
      {
        "duration": 9,
        "start_time": "2022-12-02T10:05:26.313Z"
      },
      {
        "duration": 33,
        "start_time": "2022-12-02T10:05:26.323Z"
      },
      {
        "duration": 5,
        "start_time": "2022-12-02T10:05:26.357Z"
      },
      {
        "duration": 7,
        "start_time": "2022-12-02T10:05:26.363Z"
      },
      {
        "duration": 11,
        "start_time": "2022-12-02T10:05:26.371Z"
      },
      {
        "duration": 20,
        "start_time": "2022-12-02T10:05:26.383Z"
      },
      {
        "duration": 11,
        "start_time": "2022-12-02T10:05:26.404Z"
      },
      {
        "duration": 28,
        "start_time": "2022-12-02T10:05:26.417Z"
      },
      {
        "duration": 231,
        "start_time": "2022-12-02T10:05:26.447Z"
      },
      {
        "duration": 13,
        "start_time": "2022-12-02T10:05:26.680Z"
      },
      {
        "duration": 164,
        "start_time": "2022-12-02T10:05:26.694Z"
      },
      {
        "duration": 7,
        "start_time": "2022-12-02T10:05:26.860Z"
      },
      {
        "duration": 11,
        "start_time": "2022-12-02T10:05:26.869Z"
      },
      {
        "duration": 212,
        "start_time": "2022-12-02T10:05:26.881Z"
      },
      {
        "duration": 172,
        "start_time": "2022-12-02T10:05:27.095Z"
      },
      {
        "duration": 300,
        "start_time": "2022-12-02T10:05:27.269Z"
      },
      {
        "duration": 229,
        "start_time": "2022-12-02T10:05:27.573Z"
      },
      {
        "duration": 296,
        "start_time": "2022-12-02T10:05:27.803Z"
      },
      {
        "duration": 278,
        "start_time": "2022-12-02T10:05:28.100Z"
      },
      {
        "duration": 10,
        "start_time": "2022-12-02T10:05:28.379Z"
      },
      {
        "duration": 197,
        "start_time": "2022-12-02T10:05:28.391Z"
      },
      {
        "duration": 6,
        "start_time": "2022-12-02T10:05:28.590Z"
      },
      {
        "duration": 28,
        "start_time": "2022-12-02T10:05:28.598Z"
      },
      {
        "duration": 166,
        "start_time": "2022-12-02T10:05:28.628Z"
      },
      {
        "duration": 163,
        "start_time": "2022-12-02T10:05:28.796Z"
      },
      {
        "duration": 501,
        "start_time": "2022-12-02T10:05:28.960Z"
      },
      {
        "duration": 6,
        "start_time": "2022-12-02T10:05:29.463Z"
      },
      {
        "duration": 31,
        "start_time": "2022-12-02T10:05:29.470Z"
      },
      {
        "duration": 28,
        "start_time": "2022-12-02T10:05:29.502Z"
      },
      {
        "duration": 1133,
        "start_time": "2022-12-02T10:30:18.580Z"
      },
      {
        "duration": 58,
        "start_time": "2022-12-02T10:30:19.715Z"
      },
      {
        "duration": 782,
        "start_time": "2022-12-02T10:30:19.775Z"
      },
      {
        "duration": 4,
        "start_time": "2022-12-02T10:30:20.559Z"
      },
      {
        "duration": 12,
        "start_time": "2022-12-02T10:30:20.565Z"
      },
      {
        "duration": 172,
        "start_time": "2022-12-02T10:30:20.578Z"
      },
      {
        "duration": 7,
        "start_time": "2022-12-02T10:30:20.752Z"
      },
      {
        "duration": 14,
        "start_time": "2022-12-02T10:30:20.760Z"
      },
      {
        "duration": 4,
        "start_time": "2022-12-02T10:30:20.776Z"
      },
      {
        "duration": 9,
        "start_time": "2022-12-02T10:30:20.783Z"
      },
      {
        "duration": 73,
        "start_time": "2022-12-02T10:30:20.793Z"
      },
      {
        "duration": 10,
        "start_time": "2022-12-02T10:30:20.868Z"
      },
      {
        "duration": 13,
        "start_time": "2022-12-02T10:30:20.880Z"
      },
      {
        "duration": 7,
        "start_time": "2022-12-02T10:30:20.895Z"
      },
      {
        "duration": 24,
        "start_time": "2022-12-02T10:30:20.903Z"
      },
      {
        "duration": 41,
        "start_time": "2022-12-02T10:30:20.929Z"
      },
      {
        "duration": 26,
        "start_time": "2022-12-02T10:30:20.972Z"
      },
      {
        "duration": 19,
        "start_time": "2022-12-02T10:30:21.000Z"
      },
      {
        "duration": 22,
        "start_time": "2022-12-02T10:30:21.020Z"
      },
      {
        "duration": 275,
        "start_time": "2022-12-02T10:30:21.048Z"
      },
      {
        "duration": 19,
        "start_time": "2022-12-02T10:30:21.324Z"
      },
      {
        "duration": 149,
        "start_time": "2022-12-02T10:30:21.348Z"
      },
      {
        "duration": 8,
        "start_time": "2022-12-02T10:30:21.499Z"
      },
      {
        "duration": 39,
        "start_time": "2022-12-02T10:30:21.509Z"
      },
      {
        "duration": 199,
        "start_time": "2022-12-02T10:30:21.550Z"
      },
      {
        "duration": 154,
        "start_time": "2022-12-02T10:30:21.750Z"
      },
      {
        "duration": 299,
        "start_time": "2022-12-02T10:30:21.906Z"
      },
      {
        "duration": 286,
        "start_time": "2022-12-02T10:30:22.209Z"
      },
      {
        "duration": 324,
        "start_time": "2022-12-02T10:30:22.497Z"
      },
      {
        "duration": 289,
        "start_time": "2022-12-02T10:30:22.822Z"
      },
      {
        "duration": 11,
        "start_time": "2022-12-02T10:30:23.113Z"
      },
      {
        "duration": 181,
        "start_time": "2022-12-02T10:30:23.135Z"
      },
      {
        "duration": 18,
        "start_time": "2022-12-02T10:30:23.318Z"
      },
      {
        "duration": 15,
        "start_time": "2022-12-02T10:30:23.340Z"
      },
      {
        "duration": 165,
        "start_time": "2022-12-02T10:30:23.357Z"
      },
      {
        "duration": 165,
        "start_time": "2022-12-02T10:30:23.525Z"
      },
      {
        "duration": 532,
        "start_time": "2022-12-02T10:30:23.693Z"
      },
      {
        "duration": 12,
        "start_time": "2022-12-02T10:30:24.227Z"
      },
      {
        "duration": 23,
        "start_time": "2022-12-02T10:30:24.244Z"
      },
      {
        "duration": 15,
        "start_time": "2022-12-02T10:30:24.269Z"
      }
    ],
    "kernelspec": {
      "display_name": "Python 3 (ipykernel)",
      "language": "python",
      "name": "python3"
    },
    "language_info": {
      "codemirror_mode": {
        "name": "ipython",
        "version": 3
      },
      "file_extension": ".py",
      "mimetype": "text/x-python",
      "name": "python",
      "nbconvert_exporter": "python",
      "pygments_lexer": "ipython3",
      "version": "3.9.5"
    },
    "toc": {
      "base_numbering": 1,
      "nav_menu": {},
      "number_sections": true,
      "sideBar": true,
      "skip_h1_title": true,
      "title_cell": "Table of Contents",
      "title_sidebar": "Contents",
      "toc_cell": false,
      "toc_position": {
        "height": "calc(100% - 180px)",
        "left": "10px",
        "top": "150px",
        "width": "165px"
      },
      "toc_section_display": true,
      "toc_window_display": true
    },
    "colab": {
      "provenance": []
    }
  },
  "nbformat": 4,
  "nbformat_minor": 0
}